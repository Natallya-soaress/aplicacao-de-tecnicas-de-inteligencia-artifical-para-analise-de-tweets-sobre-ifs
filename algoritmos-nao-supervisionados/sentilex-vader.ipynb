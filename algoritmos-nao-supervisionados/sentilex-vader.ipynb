{
 "cells": [
  {
   "cell_type": "code",
   "execution_count": 1,
   "id": "f77f37a8",
   "metadata": {},
   "outputs": [
    {
     "name": "stdout",
     "output_type": "stream",
     "text": [
      "Defaulting to user installation because normal site-packages is not writeable\n",
      "Requirement already satisfied: vaderSentiment in ./.local/lib/python3.10/site-packages (3.3.2)\n",
      "Requirement already satisfied: requests in /usr/lib/python3/dist-packages (from vaderSentiment) (2.25.1)\n"
     ]
    }
   ],
   "source": [
    "from sklearn.metrics import f1_score\n",
    "\n",
    "!pip install vaderSentiment\n",
    "from vaderSentiment.vaderSentiment import SentimentIntensityAnalyzer"
   ]
  },
  {
   "cell_type": "code",
   "execution_count": 2,
   "id": "cf2fcb2e",
   "metadata": {},
   "outputs": [],
   "source": [
    "def ler_arquivo_rotulacao(arquivo):\n",
    "    arquivo = open(arquivo, \"r\")\n",
    "    conteudo = []\n",
    "    for linha in arquivo:\n",
    "        conteudo.append(int(linha.strip('\\n')))\n",
    "    return conteudo"
   ]
  },
  {
   "cell_type": "code",
   "execution_count": 3,
   "id": "4a6429b7",
   "metadata": {},
   "outputs": [],
   "source": [
    "## Sentilex"
   ]
  },
  {
   "cell_type": "code",
   "execution_count": 4,
   "id": "6c5e68a7",
   "metadata": {},
   "outputs": [
    {
     "name": "stdout",
     "output_type": "stream",
     "text": [
      "Macro:  0.39959163383309715\n",
      "Micro:  0.45936639118457306\n"
     ]
    }
   ],
   "source": [
    "sentilexpt = open('./SentiLex-lem-PT02.txt', 'r')\n",
    "\n",
    "# IFG\n",
    "#texto = open('/home/natallya/Documents/facul/PIBIC/Dados Coletados/Aplicações dos modelos/Validação cruzada/IFG/TextoIFG.txt', 'r', errors='ignore')\n",
    "\n",
    "# Instituto Federal\n",
    "texto = open('./TextoInstFed.txt', 'r', errors='ignore')\n",
    "\n",
    "# Cria o dicionário de palavras\n",
    "dic_palavra_polaridade = {}\n",
    "for i in sentilexpt.readlines():\n",
    "    pos_ponto = i.find('.') \n",
    "    palavra = (i[:pos_ponto])\n",
    "    pol_pos = i.find('POL')\n",
    "    polaridade = (i[pol_pos+4:pol_pos+6]).replace(';','') \n",
    "    dic_palavra_polaridade[palavra] = polaridade\n",
    "\n",
    "\n",
    "# Atribui a polaridade de cada frase\n",
    "def Score_sentimento(frase):\n",
    "    frase = frase.lower()\n",
    "    l_sentimento = []\n",
    "    for p in frase.split():\n",
    "        l_sentimento.append(int(dic_palavra_polaridade.get(p, 0)))\n",
    "    score = sum(l_sentimento)\n",
    "    if score > 0:\n",
    "        res = 1\n",
    "        return res\n",
    "    elif score == 0:\n",
    "        res = 0\n",
    "        return res\n",
    "    else:\n",
    "        res = -1\n",
    "        return res\n",
    "\n",
    "vetor_rotulacao_sentilex = []\n",
    "for i in texto.readlines():\n",
    "    quebra = i.find('/n') \n",
    "    frase = (i[:quebra])\n",
    "    vetor_rotulacao_sentilex.append(Score_sentimento(frase))\n",
    "    \n",
    "# IFG\n",
    "#vetor_rotulacao_manual = ler_arquivo_rotulacao('./RotulaçãoIFGM.txt')\n",
    "\n",
    "# Instituto Federal\n",
    "vetor_rotulacao_manual = ler_arquivo_rotulacao('./RotulaçãoInstFedM.txt')\n",
    "\n",
    "print(\"Macro: \", f1_score(vetor_rotulacao_manual, vetor_rotulacao_sentilex, average='macro'))\n",
    "print(\"Micro: \", f1_score(vetor_rotulacao_manual, vetor_rotulacao_sentilex, average='micro'))"
   ]
  },
  {
   "cell_type": "code",
   "execution_count": 5,
   "id": "d1d79458",
   "metadata": {},
   "outputs": [],
   "source": [
    "## Vader"
   ]
  },
  {
   "cell_type": "code",
   "execution_count": 6,
   "id": "4c95cc39",
   "metadata": {},
   "outputs": [
    {
     "name": "stdout",
     "output_type": "stream",
     "text": [
      "Macro:  0.5434122189990055\n",
      "Micro:  0.5564738292011019\n"
     ]
    }
   ],
   "source": [
    "analyser = SentimentIntensityAnalyzer()\n",
    "\n",
    "# IFG\n",
    "#texto = open('./TextoIFGIngles.txt', 'r', errors='ignore')\n",
    "\n",
    "# Instituto Federal\n",
    "texto = open('./TextoInstFedIngles.txt', 'r', errors='ignore')\n",
    "\n",
    "vetor_rotulacao_vader = []\n",
    "for i in texto.readlines():\n",
    "    quebra = i.find('/n') \n",
    "    frase = (i[:quebra])\n",
    "    vetor_rotulacao_vader.append(analyser.polarity_scores(frase)['compound'])\n",
    "    \n",
    "vetor_rotulacao_vaderr = []\n",
    "\n",
    "for i in vetor_rotulacao_vader:\n",
    "    if i > 0.0:\n",
    "        vetor_rotulacao_vaderr.append(1)\n",
    "    elif i == 0.0:\n",
    "        vetor_rotulacao_vaderr.append(0)\n",
    "    else:\n",
    "        vetor_rotulacao_vaderr.append(-1)\n",
    "\n",
    "        \n",
    "# IFG\n",
    "#vetor_rotulacao_manual = ler_arquivo_rotulacao('./RotulaçãoIFGM.txt')\n",
    "\n",
    "# Instituto Federal\n",
    "vetor_rotulacao_manual = ler_arquivo_rotulacao('./RotulaçãoInstFedM.txt')\n",
    "        \n",
    "print(\"Macro: \", f1_score(vetor_rotulacao_manual, vetor_rotulacao_vaderr, average='macro'))\n",
    "print(\"Micro: \", f1_score(vetor_rotulacao_manual, vetor_rotulacao_vaderr, average='micro'))"
   ]
  },
  {
   "cell_type": "code",
   "execution_count": null,
   "id": "15733b85",
   "metadata": {},
   "outputs": [],
   "source": []
  }
 ],
 "metadata": {
  "kernelspec": {
   "display_name": "Python 3 (ipykernel)",
   "language": "python",
   "name": "python3"
  },
  "language_info": {
   "codemirror_mode": {
    "name": "ipython",
    "version": 3
   },
   "file_extension": ".py",
   "mimetype": "text/x-python",
   "name": "python",
   "nbconvert_exporter": "python",
   "pygments_lexer": "ipython3",
   "version": "3.10.6"
  }
 },
 "nbformat": 4,
 "nbformat_minor": 5
}
