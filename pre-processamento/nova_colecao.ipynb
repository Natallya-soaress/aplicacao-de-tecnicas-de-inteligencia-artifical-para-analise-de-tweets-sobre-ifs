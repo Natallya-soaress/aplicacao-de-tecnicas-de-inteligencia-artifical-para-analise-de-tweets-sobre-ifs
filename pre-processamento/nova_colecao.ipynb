{
 "cells": [
  {
   "cell_type": "code",
   "execution_count": null,
   "id": "65a55463-eacf-42f2-b331-6a211aac2e24",
   "metadata": {},
   "outputs": [],
   "source": [
    "!pip install langdetect\n",
    "!pip install unidecode\n",
    "\n",
    "from langdetect import detect\n",
    "import re\n",
    "import unidecode\n",
    "import nltk\n",
    "from nltk.corpus import stopwords"
   ]
  },
  {
   "cell_type": "code",
   "execution_count": 11,
   "id": "7190ab3d",
   "metadata": {},
   "outputs": [],
   "source": [
    "emoj = re.compile(\"[\"\n",
    "        u\"\\U0001F600-\\U0001F64F\"  # emoticons\n",
    "        u\"\\U0001F300-\\U0001F5FF\"  # symbols & pictographs\n",
    "        u\"\\U0001F680-\\U0001F6FF\"  # transport & map symbols\n",
    "        u\"\\U0001F1E0-\\U0001F1FF\"  # flags (iOS)\n",
    "        u\"\\U00002500-\\U00002BEF\"  # chinese char\n",
    "        u\"\\U00002702-\\U000027B0\"\n",
    "        u\"\\U00002702-\\U000027B0\"\n",
    "        u\"\\U000024C2-\\U0001F251\"\n",
    "        u\"\\U0001f926-\\U0001f937\"\n",
    "        u\"\\U00010000-\\U0010ffff\"\n",
    "        u\"\\u2640-\\u2642\" \n",
    "        u\"\\u2600-\\u2B55\"\n",
    "        u\"\\u200d\"\n",
    "        u\"\\u23cf\"\n",
    "        u\"\\u23e9\"\n",
    "        u\"\\u231a\"\n",
    "        u\"\\ufe0f\"  # dingbats\n",
    "        u\"\\u3030\"\n",
    "                      \"]+\", re.UNICODE)\n",
    "\n",
    "def remocao_inicio_links_mencoes(frase):\n",
    "    frase = re.sub('\"(Sun|Mon|Tue|Wed|Thu|Fri|Sat) (Jan|Feb|Mar|Apr|May|Jun|Jul|Aug|Sep|Oct|Nov|Dec) \\d{2} \\d{2}:\\d{2}:\\d{2} [+-]\\d{4} \\d{4}\", \\d{19}, ', '', frase)\n",
    "    frase = re.sub('http\\S+', '', frase)\n",
    "    frase = re.sub('@([A-Za-z0-9_]{1,15})', '', frase)\n",
    "    frase = re.sub(emoj, '', frase)\n",
    "    frase = re.sub(r'[^\\w\\s]', '', frase)\n",
    "    frase = unidecode.unidecode(frase)\n",
    "    \n",
    "    return frase\n"
   ]
  },
  {
   "cell_type": "code",
   "execution_count": 12,
   "id": "ce2a82f0",
   "metadata": {},
   "outputs": [],
   "source": [
    "def ler_arquivo(arquivo):\n",
    "    arquivo = open(arquivo, \"r\")\n",
    "    conteudo = arquivo.read().splitlines() \n",
    "    return conteudo"
   ]
  },
  {
   "cell_type": "code",
   "execution_count": 13,
   "id": "80731561-779f-43f9-8025-2323d971c694",
   "metadata": {},
   "outputs": [],
   "source": [
    "def define_list_stopwords(lg):\n",
    "\n",
    "  try:\n",
    "    stopwords_list = stopwords.words(lg)\n",
    "  except:\n",
    "    nltk.download('stopwords')\n",
    "    stopwords_list = stopwords.words(lg)\n",
    "\n",
    "  return stopwords_list"
   ]
  },
  {
   "cell_type": "code",
   "execution_count": 14,
   "id": "76e36954-804c-41d2-899b-bcc8861ca62a",
   "metadata": {},
   "outputs": [],
   "source": [
    "def remove_stopwords(input_text):\n",
    "    stopwords_list = define_list_stopwords('portuguese')\n",
    "    words = input_text.split()\n",
    "    clean_words = [word for word in words if (word not in stopwords_list) and len(word) > 1]\n",
    "    return \" \".join(clean_words)"
   ]
  },
  {
   "cell_type": "code",
   "execution_count": 15,
   "id": "be60d71c",
   "metadata": {},
   "outputs": [],
   "source": [
    "def pre_processamento(texto, texto_final):\n",
    "    for linha in texto:\n",
    "        texto_processado = remocao_inicio_links_mencoes(linha)\n",
    "        texto_processado = remove_stopwords(texto_processado)\n",
    "        if texto_processado.isspace() == False:\n",
    "          texto_final.append(texto_processado)"
   ]
  },
  {
   "cell_type": "code",
   "execution_count": 16,
   "id": "7ff0f50a",
   "metadata": {},
   "outputs": [],
   "source": [
    "conteudo_arquivo = ler_arquivo(\"./dados13-11.txt\")\n",
    "texto_final = []\n",
    "texto_pre_processado = pre_processamento(conteudo_arquivo, texto_final)"
   ]
  },
  {
   "cell_type": "code",
   "execution_count": 17,
   "id": "7d6a7458",
   "metadata": {},
   "outputs": [],
   "source": [
    "texto_filtrado = []\n",
    "\n",
    "for tweet in texto_final:\n",
    "    try:\n",
    "        tt = detect(str(tweet))\n",
    "        if tt == 'pt':\n",
    "            texto_filtrado.append(tweet)\n",
    "    except:\n",
    "        language = \"error\""
   ]
  },
  {
   "cell_type": "code",
   "execution_count": 18,
   "id": "e261d98c",
   "metadata": {},
   "outputs": [],
   "source": [
    "f = open(\"dados-filtrados.txt\", \"w\")\n",
    "\n",
    "for linha in texto_filtrado:\n",
    "    linha = linha.strip()\n",
    "    f.write(linha)\n",
    "    f.write('\\n')\n",
    "    \n",
    "f.close()"
   ]
  }
 ],
 "metadata": {
  "kernelspec": {
   "display_name": "Python 3 (ipykernel)",
   "language": "python",
   "name": "python3"
  },
  "language_info": {
   "codemirror_mode": {
    "name": "ipython",
    "version": 3
   },
   "file_extension": ".py",
   "mimetype": "text/x-python",
   "name": "python",
   "nbconvert_exporter": "python",
   "pygments_lexer": "ipython3",
   "version": "3.10.9"
  }
 },
 "nbformat": 4,
 "nbformat_minor": 5
}
