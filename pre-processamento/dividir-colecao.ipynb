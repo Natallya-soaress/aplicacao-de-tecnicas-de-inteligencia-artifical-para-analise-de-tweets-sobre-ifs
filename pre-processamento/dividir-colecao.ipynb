{
 "cells": [
  {
   "cell_type": "code",
   "execution_count": null,
   "id": "6fa3eb98-5b42-4474-b21e-a37a15609df3",
   "metadata": {},
   "outputs": [],
   "source": [
    "siglas_regioes = {\n",
    "    'ifg': 'centro-oeste',\n",
    "    'ifb': 'centro-oeste',\n",
    "    'ifmt': 'centro-oeste',\n",
    "    'ifms': 'centro-oeste',\n",
    "    'ifgoiano': 'centro-oeste',\n",
    "    \n",
    "    'ifal': 'nordeste',\n",
    "    'ifba': 'nordeste',\n",
    "    'if baiano': 'nordeste',\n",
    "    'ifce': 'nordeste',\n",
    "    'ifma': 'nordeste',\n",
    "    'ifpb': 'nordeste',\n",
    "    'ifpe': 'nordeste',\n",
    "    'if sertao': 'nordeste',\n",
    "    'ifpi': 'nordeste',\n",
    "    'ifrn': 'nordeste',\n",
    "    'ifs': 'nordeste',\n",
    "    \n",
    "    'ifac': 'norte',\n",
    "    'ifap': 'norte',\n",
    "    'ifam': 'norte',\n",
    "    'ifpa': 'norte',\n",
    "    'ifro': 'norte',\n",
    "    'ifto': 'norte',\n",
    "    'ifrr': 'norte',\n",
    "    \n",
    "    'ifes': 'sudeste',\n",
    "    'ifrj': 'sudeste',\n",
    "    'iff': 'sudeste',\n",
    "    'ifmg': 'sudeste',\n",
    "    'ifnmg': 'sudeste',\n",
    "    'ifsudestedeminas': 'sudeste',\n",
    "    'ifusuldeminas': 'sudeste',\n",
    "    'iftm': 'sudeste',\n",
    "    'ifsp': 'sudeste',\n",
    "    \n",
    "    'ifrs': 'sul',\n",
    "    'iffarroupilha': 'sul',\n",
    "    'ifsul': 'sul',\n",
    "    'ifpr': 'sul',\n",
    "    'ifsc': 'sul',\n",
    "    'ifc': 'sul',\n",
    "}\n"
   ]
  },
  {
   "cell_type": "code",
   "execution_count": null,
   "id": "6aa2453b-84d8-4f0c-b759-5f63e07bfb95",
   "metadata": {},
   "outputs": [],
   "source": [
    "def obter_regiao(linha):\n",
    "    for sigla, regiao in siglas_regioes.items():\n",
    "        if f' {sigla.lower()} ' in f' {linha.lower()} ':\n",
    "            return regiao\n",
    "        if f' {sigla.lower()}\\n' in f' {linha.lower()} ':\n",
    "            return regiao\n",
    "    return 'desconhecida'\n"
   ]
  },
  {
   "cell_type": "code",
   "execution_count": null,
   "id": "b7d60b47-76cf-4bab-9820-795006e6f3de",
   "metadata": {},
   "outputs": [],
   "source": [
    "arquivo_entrada = 'dados-filtrados.txt'\n",
    "\n",
    "with open(arquivo_entrada, 'r') as entrada:\n",
    "    for linha in entrada:\n",
    "        regiao = obter_regiao(linha)\n",
    "\n",
    "        with open(f'{regiao}.txt', 'a') as saida:\n",
    "            saida.write(linha)"
   ]
  }
 ],
 "metadata": {
  "kernelspec": {
   "display_name": "Python 3 (ipykernel)",
   "language": "python",
   "name": "python3"
  },
  "language_info": {
   "codemirror_mode": {
    "name": "ipython",
    "version": 3
   },
   "file_extension": ".py",
   "mimetype": "text/x-python",
   "name": "python",
   "nbconvert_exporter": "python",
   "pygments_lexer": "ipython3",
   "version": "3.10.9"
  }
 },
 "nbformat": 4,
 "nbformat_minor": 5
}
