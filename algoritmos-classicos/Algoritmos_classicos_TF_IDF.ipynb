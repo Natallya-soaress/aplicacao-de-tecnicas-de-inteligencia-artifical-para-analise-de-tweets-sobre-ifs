{
  "cells": [
    {
      "cell_type": "markdown",
      "metadata": {
        "id": "M7-_lNJRJWAH"
      },
      "source": [
        "# Parâmetros Gerais para realização do Experimento"
      ]
    },
    {
      "cell_type": "code",
      "source": [
        "numKfolds = 5\n",
        "\n",
        "idGPU = 0\n"
      ],
      "metadata": {
        "id": "sB1iLiajJSir"
      },
      "execution_count": 1,
      "outputs": []
    },
    {
      "cell_type": "markdown",
      "metadata": {
        "id": "1Lhn-eLPhV12"
      },
      "source": [
        "# Importando bibliotecas para uso com Python"
      ]
    },
    {
      "cell_type": "code",
      "source": [
        "!pip install unidecode"
      ],
      "metadata": {
        "id": "SxpX7uDK-dp9",
        "colab": {
          "base_uri": "https://localhost:8080/"
        },
        "outputId": "95f41552-d983-4f7f-f259-e64e04b06133"
      },
      "execution_count": 2,
      "outputs": [
        {
          "output_type": "stream",
          "name": "stdout",
          "text": [
            "Collecting unidecode\n",
            "  Downloading Unidecode-1.3.7-py3-none-any.whl (235 kB)\n",
            "\u001b[?25l     \u001b[90m━━━━━━━━━━━━━━━━━━━━━━━━━━━━━━━━━━━━━━━━\u001b[0m \u001b[32m0.0/235.5 kB\u001b[0m \u001b[31m?\u001b[0m eta \u001b[36m-:--:--\u001b[0m\r\u001b[2K     \u001b[91m━━━━━━━━━━━━━━━━━━━━━━━━━━━━━━━━━\u001b[0m\u001b[90m╺\u001b[0m\u001b[90m━━━━━━\u001b[0m \u001b[32m194.6/235.5 kB\u001b[0m \u001b[31m5.9 MB/s\u001b[0m eta \u001b[36m0:00:01\u001b[0m\r\u001b[2K     \u001b[90m━━━━━━━━━━━━━━━━━━━━━━━━━━━━━━━━━━━━━━━━\u001b[0m \u001b[32m235.5/235.5 kB\u001b[0m \u001b[31m5.3 MB/s\u001b[0m eta \u001b[36m0:00:00\u001b[0m\n",
            "\u001b[?25hInstalling collected packages: unidecode\n",
            "Successfully installed unidecode-1.3.7\n"
          ]
        }
      ]
    },
    {
      "cell_type": "code",
      "execution_count": 3,
      "metadata": {
        "id": "leQx48bbak-6"
      },
      "outputs": [],
      "source": [
        "from io import BytesIO\n",
        "from zipfile import ZipFile\n",
        "from urllib.request import urlopen\n",
        "import os\n",
        "import gc\n",
        "import copy\n",
        "\n",
        "import re\n",
        "import string\n",
        "\n",
        "import numpy as np\n",
        "import pandas as pd\n",
        "from math import ceil\n",
        "\n",
        "import matplotlib.pyplot as plt\n",
        "\n",
        "from unidecode import unidecode\n",
        "\n",
        "import nltk\n",
        "from nltk.corpus import stopwords\n",
        "from nltk.stem import PorterStemmer\n",
        "\n",
        "from sklearn.model_selection import KFold, StratifiedKFold, train_test_split\n",
        "from sklearn.preprocessing import StandardScaler\n",
        "from sklearn.feature_extraction.text import TfidfVectorizer\n",
        "from sklearn.metrics import accuracy_score\n",
        "from sklearn.metrics import precision_score, recall_score\n",
        "from sklearn.metrics import f1_score, classification_report\n",
        "from sklearn.metrics import confusion_matrix, ConfusionMatrixDisplay\n",
        "\n",
        "import os\n",
        "import torch\n",
        "import torch.nn as nn\n",
        "from torch import optim\n",
        "from torch.utils.data import DataLoader\n",
        "\n",
        "import gensim.downloader as api\n",
        "from gensim.models import KeyedVectors"
      ]
    },
    {
      "cell_type": "code",
      "source": [
        "device = torch.device('cuda:'+str(idGPU) if torch.cuda.is_available() else 'cpu')\n",
        "write_path = 'model'"
      ],
      "metadata": {
        "id": "SDS6BJlUTNyX"
      },
      "execution_count": 4,
      "outputs": []
    },
    {
      "cell_type": "markdown",
      "metadata": {
        "id": "b_HaKWbuNTse"
      },
      "source": [
        "# Dataset\n",
        "\n",
        "\n"
      ]
    },
    {
      "cell_type": "code",
      "source": [
        "dataset = pd.read_csv('./dadosIFG.csv')\n",
        "\n",
        "df = pd.DataFrame()\n",
        "df['x'] = dataset['text']\n",
        "df['y'] = dataset['polarity']"
      ],
      "metadata": {
        "id": "rPD7scS2R6B6"
      },
      "execution_count": 28,
      "outputs": []
    },
    {
      "cell_type": "code",
      "source": [
        "gc.collect()"
      ],
      "metadata": {
        "id": "7swmYzbaunvR",
        "colab": {
          "base_uri": "https://localhost:8080/"
        },
        "outputId": "eec23a8b-a54d-438d-bbf8-b666f97f74e9"
      },
      "execution_count": 29,
      "outputs": [
        {
          "output_type": "execute_result",
          "data": {
            "text/plain": [
              "28"
            ]
          },
          "metadata": {},
          "execution_count": 29
        }
      ]
    },
    {
      "cell_type": "markdown",
      "source": [
        "# Visualizando o Atributo Alvo"
      ],
      "metadata": {
        "id": "NpnXeVc834kF"
      }
    },
    {
      "cell_type": "code",
      "source": [
        "df[\"y\"].value_counts()"
      ],
      "metadata": {
        "id": "5_pQvhJKetUe",
        "colab": {
          "base_uri": "https://localhost:8080/"
        },
        "outputId": "09444f34-8c90-4845-d2a3-c1f1ee9d4b19"
      },
      "execution_count": 30,
      "outputs": [
        {
          "output_type": "execute_result",
          "data": {
            "text/plain": [
              "0    270\n",
              "1    268\n",
              "2    129\n",
              "Name: y, dtype: int64"
            ]
          },
          "metadata": {},
          "execution_count": 30
        }
      ]
    },
    {
      "cell_type": "code",
      "source": [
        "color=['red','yellow', 'green']\n",
        "explode=[0, 0, 0]\n",
        "mylabels = ['Negativo', 'Neutro', 'Positivo']\n",
        "\n",
        "df['y'].value_counts().plot(kind='pie',  autopct='%1.0f%%', labels=mylabels, explode=explode,colors=color, shadow=True)\n",
        "plt.legend()"
      ],
      "metadata": {
        "id": "8Nazk067SYeG",
        "colab": {
          "base_uri": "https://localhost:8080/",
          "height": 423
        },
        "outputId": "0e6304f0-32ac-4c04-ed94-d2176da3d843"
      },
      "execution_count": 31,
      "outputs": [
        {
          "output_type": "execute_result",
          "data": {
            "text/plain": [
              "<matplotlib.legend.Legend at 0x78549a3e1a50>"
            ]
          },
          "metadata": {},
          "execution_count": 31
        },
        {
          "output_type": "display_data",
          "data": {
            "text/plain": [
              "<Figure size 640x480 with 1 Axes>"
            ],
            "image/png": "[encoded data removed]"
          },
          "metadata": {}
        }
      ]
    },
    {
      "cell_type": "markdown",
      "source": [
        "# Funções configuradas para o Pré-Processamento de \"X\""
      ],
      "metadata": {
        "id": "TtNrh6AN44GK"
      }
    },
    {
      "cell_type": "markdown",
      "source": [
        "Função própria para Remover caracteres especiais (acentos e afins)"
      ],
      "metadata": {
        "id": "VbbluiMC9oEL"
      }
    },
    {
      "cell_type": "code",
      "source": [
        "# Remover caracteres especiais (acentos e afins)\n",
        "\n",
        "def remove_special_chars(input_text):\n",
        "    input_text = re.sub(u'[áãâà]', 'a', input_text)\n",
        "    input_text = re.sub(u'[éèê]', 'e', input_text)\n",
        "    input_text = re.sub(u'[íì]', 'i', input_text)\n",
        "    input_text = re.sub(u'[óõôò]', 'o', input_text)\n",
        "    input_text = re.sub(u'[úùü]', 'u', input_text)\n",
        "    input_text = re.sub(u'[ç]', 'c', input_text)\n",
        "    return input_text"
      ],
      "metadata": {
        "id": "V59TW_bW9mNV"
      },
      "execution_count": 32,
      "outputs": []
    },
    {
      "cell_type": "markdown",
      "source": [
        "Função própria para Remover dígitos"
      ],
      "metadata": {
        "id": "KXqE8D_k_e0w"
      }
    },
    {
      "cell_type": "code",
      "source": [
        "def remove_digits(input_text):\n",
        "    import re\n",
        "    return re.sub('\\d+', '', input_text)"
      ],
      "metadata": {
        "id": "SPY7TdxU_huO"
      },
      "execution_count": 33,
      "outputs": []
    },
    {
      "cell_type": "markdown",
      "source": [
        "Função própria para Definir Lista de StopWords"
      ],
      "metadata": {
        "id": "Uo4LCCz8BYZ7"
      }
    },
    {
      "cell_type": "code",
      "source": [
        "def define_list_stopwords(lg):\n",
        "\n",
        "  try:\n",
        "    stopwords_list = stopwords.words(lg)\n",
        "  except:\n",
        "    nltk.download('stopwords')\n",
        "    stopwords_list = stopwords.words(lg)\n",
        "\n",
        "  return stopwords_list"
      ],
      "metadata": {
        "id": "jp8RaklxA3MC"
      },
      "execution_count": 34,
      "outputs": []
    },
    {
      "cell_type": "markdown",
      "source": [
        "Função própria para Remover Stopwords"
      ],
      "metadata": {
        "id": "KlaxYUpuAw9k"
      }
    },
    {
      "cell_type": "code",
      "source": [
        "def remove_stopwords(input_text):\n",
        "    stopwords_list = define_list_stopwords('portuguese')\n",
        "    words = input_text.split()\n",
        "    clean_words = [word for word in words if (word not in stopwords_list) and len(word) > 1]\n",
        "    return \" \".join(clean_words)"
      ],
      "metadata": {
        "id": "f0OK0Xt4BTtg"
      },
      "execution_count": 35,
      "outputs": []
    },
    {
      "cell_type": "markdown",
      "source": [
        "Função própria para Radicalização (Stemming)"
      ],
      "metadata": {
        "id": "LHIQ6PnqCglp"
      }
    },
    {
      "cell_type": "code",
      "source": [
        "def stemming(input_text):\n",
        "    porter = PorterStemmer()\n",
        "    words = input_text.split()\n",
        "    stemmed_words = [porter.stem(word) for word in words]\n",
        "    return \" \".join(stemmed_words)"
      ],
      "metadata": {
        "id": "AQXZKsqTClGG"
      },
      "execution_count": 36,
      "outputs": []
    },
    {
      "cell_type": "markdown",
      "source": [
        "Função própria para remover *URL*"
      ],
      "metadata": {
        "id": "gcZ0lwm9WwLq"
      }
    },
    {
      "cell_type": "code",
      "source": [
        "def removeURLs(input_text):\n",
        "\n",
        "  URLless_string = re.sub(r\"http\\S+\", \"\", str(input_text))\n",
        "  return (URLless_string)"
      ],
      "metadata": {
        "id": "TTQZ3dsbWy1J"
      },
      "execution_count": 37,
      "outputs": []
    },
    {
      "cell_type": "markdown",
      "source": [
        "# Pré-Processamento de \"X\""
      ],
      "metadata": {
        "id": "krKBR-CTDM3a"
      }
    },
    {
      "cell_type": "code",
      "source": [
        "### Função para o pipeline completo do Pré-processamento de \"X\"\n",
        "\n",
        "def pipeline_preprocessamento(dfParaProcessar):\n",
        "\n",
        "  # Lowercase\n",
        "  dfParaProcessar[\"x\"] = dfParaProcessar[\"x\"].str.lower()\n",
        "\n",
        "  # Remoção de pontuação e símbolos\n",
        "\n",
        "  # Tabela de pontuação\n",
        "  punctuation = string.punctuation\n",
        "  # Criar tabela de tradução que susbstituirá toda pontuação por um espaço em branco\n",
        "\n",
        "  trantab = str.maketrans(punctuation, len(punctuation)*' ')\n",
        "  dfParaProcessar[\"x\"] = dfParaProcessar[\"x\"].apply(lambda x: x.translate(trantab))\n",
        "\n",
        "  # Remover caracteres especiais (acentos e afins) #### SOMENTE NO TFIDF\n",
        "\n",
        "  # dfParaProcessar[\"x\"] = dfParaProcessar[\"x\"].apply(lambda x: remove_special_chars(x))\n",
        "\n",
        "  # Remover caracteres especiais com Unidecode\n",
        "\n",
        "  # dfParaProcessar[\"x\"] = dfParaProcessar[\"x\"].apply(lambda x: unidecode(x))\n",
        "\n",
        "  # Remover dígitos\n",
        "\n",
        "  dfParaProcessar[\"x\"] = dfParaProcessar[\"x\"].apply(lambda x: remove_digits(x))\n",
        "\n",
        "  # Remover stopwords\n",
        "\n",
        "  # dfParaProcessar[\"x\"] = dfParaProcessar[\"x\"].apply(lambda x: remove_stopwords(x))\n",
        "\n",
        "  # Remover URLs\n",
        "\n",
        "  dfParaProcessar[\"x\"] = dfParaProcessar[\"x\"].apply(lambda x: removeURLs(x))\n",
        "\n",
        "  # STEMMING COMENTADO PARA NÃO SER REALIZADO\n",
        "\n",
        "  ####dfParaProcessar[\"x\"] = dfParaProcessar[\"x\"].apply(lambda x: stemming(x))\n",
        "\n",
        "\n",
        "  return dfParaProcessar"
      ],
      "metadata": {
        "id": "lwokmQYKDPjm"
      },
      "execution_count": 38,
      "outputs": []
    },
    {
      "cell_type": "code",
      "source": [
        "### realizar o Pré-Processamento Completo\n",
        "\n",
        "df = pipeline_preprocessamento(df)\n",
        "df"
      ],
      "metadata": {
        "id": "D28ilfsLE-Kr",
        "colab": {
          "base_uri": "https://localhost:8080/",
          "height": 424
        },
        "outputId": "daaff81d-f2e1-4cca-d825-5f6b5bc48544"
      },
      "execution_count": 39,
      "outputs": [
        {
          "output_type": "execute_result",
          "data": {
            "text/plain": [
              "                                                     x  y\n",
              "0                pq ngm chuta os fios do moodle do ifg  0\n",
              "1                           ifg não chega nem aos pés   0\n",
              "2    aí ai  gente a ester é artista      mais uma a...  2\n",
              "3     ifg goias ho sr minha filha e funcionária do ...  2\n",
              "4                            que inferno  te odeio ifg  0\n",
              "..                                                 ... ..\n",
              "662  aiii ifg enfia o dedo dentro do cu e cheira   ...  0\n",
              "663  saudades ifg eu no banheiro da escola  fazendo...  2\n",
              "664                          eu não aguento mais o ifg  0\n",
              "665  o ifg esta fazendo de tudo pra acabar com a mi...  0\n",
              "666                        eu te odeio ifg eu te odeio  0\n",
              "\n",
              "[667 rows x 2 columns]"
            ],
            "text/html": [
              "\n",
              "  <div id=\"df-37b65130-ff7d-4463-90b0-067987221935\" class=\"colab-df-container\">\n",
              "    <div>\n",
              "<style scoped>\n",
              "    .dataframe tbody tr th:only-of-type {\n",
              "        vertical-align: middle;\n",
              "    }\n",
              "\n",
              "    .dataframe tbody tr th {\n",
              "        vertical-align: top;\n",
              "    }\n",
              "\n",
              "    .dataframe thead th {\n",
              "        text-align: right;\n",
              "    }\n",
              "</style>\n",
              "<table border=\"1\" class=\"dataframe\">\n",
              "  <thead>\n",
              "    <tr style=\"text-align: right;\">\n",
              "      <th></th>\n",
              "      <th>x</th>\n",
              "      <th>y</th>\n",
              "    </tr>\n",
              "  </thead>\n",
              "  <tbody>\n",
              "    <tr>\n",
              "      <th>0</th>\n",
              "      <td>pq ngm chuta os fios do moodle do ifg</td>\n",
              "      <td>0</td>\n",
              "    </tr>\n",
              "    <tr>\n",
              "      <th>1</th>\n",
              "      <td>ifg não chega nem aos pés</td>\n",
              "      <td>0</td>\n",
              "    </tr>\n",
              "    <tr>\n",
              "      <th>2</th>\n",
              "      <td>aí ai  gente a ester é artista      mais uma a...</td>\n",
              "      <td>2</td>\n",
              "    </tr>\n",
              "    <tr>\n",
              "      <th>3</th>\n",
              "      <td>ifg goias ho sr minha filha e funcionária do ...</td>\n",
              "      <td>2</td>\n",
              "    </tr>\n",
              "    <tr>\n",
              "      <th>4</th>\n",
              "      <td>que inferno  te odeio ifg</td>\n",
              "      <td>0</td>\n",
              "    </tr>\n",
              "    <tr>\n",
              "      <th>...</th>\n",
              "      <td>...</td>\n",
              "      <td>...</td>\n",
              "    </tr>\n",
              "    <tr>\n",
              "      <th>662</th>\n",
              "      <td>aiii ifg enfia o dedo dentro do cu e cheira   ...</td>\n",
              "      <td>0</td>\n",
              "    </tr>\n",
              "    <tr>\n",
              "      <th>663</th>\n",
              "      <td>saudades ifg eu no banheiro da escola  fazendo...</td>\n",
              "      <td>2</td>\n",
              "    </tr>\n",
              "    <tr>\n",
              "      <th>664</th>\n",
              "      <td>eu não aguento mais o ifg</td>\n",
              "      <td>0</td>\n",
              "    </tr>\n",
              "    <tr>\n",
              "      <th>665</th>\n",
              "      <td>o ifg esta fazendo de tudo pra acabar com a mi...</td>\n",
              "      <td>0</td>\n",
              "    </tr>\n",
              "    <tr>\n",
              "      <th>666</th>\n",
              "      <td>eu te odeio ifg eu te odeio</td>\n",
              "      <td>0</td>\n",
              "    </tr>\n",
              "  </tbody>\n",
              "</table>\n",
              "<p>667 rows × 2 columns</p>\n",
              "</div>\n",
              "    <div class=\"colab-df-buttons\">\n",
              "\n",
              "  <div class=\"colab-df-container\">\n",
              "    <button class=\"colab-df-convert\" onclick=\"convertToInteractive('df-37b65130-ff7d-4463-90b0-067987221935')\"\n",
              "            title=\"Convert this dataframe to an interactive table.\"\n",
              "            style=\"display:none;\">\n",
              "\n",
              "  <svg xmlns=\"http://www.w3.org/2000/svg\" height=\"24px\" viewBox=\"0 -960 960 960\">\n",
              "    <path d=\"M120-120v-720h720v720H120Zm60-500h600v-160H180v160Zm220 220h160v-160H400v160Zm0 220h160v-160H400v160ZM180-400h160v-160H180v160Zm440 0h160v-160H620v160ZM180-180h160v-160H180v160Zm440 0h160v-160H620v160Z\"/>\n",
              "  </svg>\n",
              "    </button>\n",
              "\n",
              "  <style>\n",
              "    .colab-df-container {\n",
              "      display:flex;\n",
              "      gap: 12px;\n",
              "    }\n",
              "\n",
              "    .colab-df-convert {\n",
              "      background-color: #E8F0FE;\n",
              "      border: none;\n",
              "      border-radius: 50%;\n",
              "      cursor: pointer;\n",
              "      display: none;\n",
              "      fill: #1967D2;\n",
              "      height: 32px;\n",
              "      padding: 0 0 0 0;\n",
              "      width: 32px;\n",
              "    }\n",
              "\n",
              "    .colab-df-convert:hover {\n",
              "      background-color: #E2EBFA;\n",
              "      box-shadow: 0px 1px 2px rgba(60, 64, 67, 0.3), 0px 1px 3px 1px rgba(60, 64, 67, 0.15);\n",
              "      fill: #174EA6;\n",
              "    }\n",
              "\n",
              "    .colab-df-buttons div {\n",
              "      margin-bottom: 4px;\n",
              "    }\n",
              "\n",
              "    [theme=dark] .colab-df-convert {\n",
              "      background-color: #3B4455;\n",
              "      fill: #D2E3FC;\n",
              "    }\n",
              "\n",
              "    [theme=dark] .colab-df-convert:hover {\n",
              "      background-color: #434B5C;\n",
              "      box-shadow: 0px 1px 3px 1px rgba(0, 0, 0, 0.15);\n",
              "      filter: drop-shadow(0px 1px 2px rgba(0, 0, 0, 0.3));\n",
              "      fill: #FFFFFF;\n",
              "    }\n",
              "  </style>\n",
              "\n",
              "    <script>\n",
              "      const buttonEl =\n",
              "        document.querySelector('#df-37b65130-ff7d-4463-90b0-067987221935 button.colab-df-convert');\n",
              "      buttonEl.style.display =\n",
              "        google.colab.kernel.accessAllowed ? 'block' : 'none';\n",
              "\n",
              "      async function convertToInteractive(key) {\n",
              "        const element = document.querySelector('#df-37b65130-ff7d-4463-90b0-067987221935');\n",
              "        const dataTable =\n",
              "          await google.colab.kernel.invokeFunction('convertToInteractive',\n",
              "                                                    [key], {});\n",
              "        if (!dataTable) return;\n",
              "\n",
              "        const docLinkHtml = 'Like what you see? Visit the ' +\n",
              "          '<a target=\"_blank\" href=https://colab.research.google.com/notebooks/data_table.ipynb>data table notebook</a>'\n",
              "          + ' to learn more about interactive tables.';\n",
              "        element.innerHTML = '';\n",
              "        dataTable['output_type'] = 'display_data';\n",
              "        await google.colab.output.renderOutput(dataTable, element);\n",
              "        const docLink = document.createElement('div');\n",
              "        docLink.innerHTML = docLinkHtml;\n",
              "        element.appendChild(docLink);\n",
              "      }\n",
              "    </script>\n",
              "  </div>\n",
              "\n",
              "\n",
              "<div id=\"df-adb23027-524a-40a2-90cc-83d2cf7f1a4e\">\n",
              "  <button class=\"colab-df-quickchart\" onclick=\"quickchart('df-adb23027-524a-40a2-90cc-83d2cf7f1a4e')\"\n",
              "            title=\"Suggest charts\"\n",
              "            style=\"display:none;\">\n",
              "\n",
              "<svg xmlns=\"http://www.w3.org/2000/svg\" height=\"24px\"viewBox=\"0 0 24 24\"\n",
              "     width=\"24px\">\n",
              "    <g>\n",
              "        <path d=\"M19 3H5c-1.1 0-2 .9-2 2v14c0 1.1.9 2 2 2h14c1.1 0 2-.9 2-2V5c0-1.1-.9-2-2-2zM9 17H7v-7h2v7zm4 0h-2V7h2v10zm4 0h-2v-4h2v4z\"/>\n",
              "    </g>\n",
              "</svg>\n",
              "  </button>\n",
              "\n",
              "<style>\n",
              "  .colab-df-quickchart {\n",
              "      --bg-color: #E8F0FE;\n",
              "      --fill-color: #1967D2;\n",
              "      --hover-bg-color: #E2EBFA;\n",
              "      --hover-fill-color: #174EA6;\n",
              "      --disabled-fill-color: #AAA;\n",
              "      --disabled-bg-color: #DDD;\n",
              "  }\n",
              "\n",
              "  [theme=dark] .colab-df-quickchart {\n",
              "      --bg-color: #3B4455;\n",
              "      --fill-color: #D2E3FC;\n",
              "      --hover-bg-color: #434B5C;\n",
              "      --hover-fill-color: #FFFFFF;\n",
              "      --disabled-bg-color: #3B4455;\n",
              "      --disabled-fill-color: #666;\n",
              "  }\n",
              "\n",
              "  .colab-df-quickchart {\n",
              "    background-color: var(--bg-color);\n",
              "    border: none;\n",
              "    border-radius: 50%;\n",
              "    cursor: pointer;\n",
              "    display: none;\n",
              "    fill: var(--fill-color);\n",
              "    height: 32px;\n",
              "    padding: 0;\n",
              "    width: 32px;\n",
              "  }\n",
              "\n",
              "  .colab-df-quickchart:hover {\n",
              "    background-color: var(--hover-bg-color);\n",
              "    box-shadow: 0 1px 2px rgba(60, 64, 67, 0.3), 0 1px 3px 1px rgba(60, 64, 67, 0.15);\n",
              "    fill: var(--button-hover-fill-color);\n",
              "  }\n",
              "\n",
              "  .colab-df-quickchart-complete:disabled,\n",
              "  .colab-df-quickchart-complete:disabled:hover {\n",
              "    background-color: var(--disabled-bg-color);\n",
              "    fill: var(--disabled-fill-color);\n",
              "    box-shadow: none;\n",
              "  }\n",
              "\n",
              "  .colab-df-spinner {\n",
              "    border: 2px solid var(--fill-color);\n",
              "    border-color: transparent;\n",
              "    border-bottom-color: var(--fill-color);\n",
              "    animation:\n",
              "      spin 1s steps(1) infinite;\n",
              "  }\n",
              "\n",
              "  @keyframes spin {\n",
              "    0% {\n",
              "      border-color: transparent;\n",
              "      border-bottom-color: var(--fill-color);\n",
              "      border-left-color: var(--fill-color);\n",
              "    }\n",
              "    20% {\n",
              "      border-color: transparent;\n",
              "      border-left-color: var(--fill-color);\n",
              "      border-top-color: var(--fill-color);\n",
              "    }\n",
              "    30% {\n",
              "      border-color: transparent;\n",
              "      border-left-color: var(--fill-color);\n",
              "      border-top-color: var(--fill-color);\n",
              "      border-right-color: var(--fill-color);\n",
              "    }\n",
              "    40% {\n",
              "      border-color: transparent;\n",
              "      border-right-color: var(--fill-color);\n",
              "      border-top-color: var(--fill-color);\n",
              "    }\n",
              "    60% {\n",
              "      border-color: transparent;\n",
              "      border-right-color: var(--fill-color);\n",
              "    }\n",
              "    80% {\n",
              "      border-color: transparent;\n",
              "      border-right-color: var(--fill-color);\n",
              "      border-bottom-color: var(--fill-color);\n",
              "    }\n",
              "    90% {\n",
              "      border-color: transparent;\n",
              "      border-bottom-color: var(--fill-color);\n",
              "    }\n",
              "  }\n",
              "</style>\n",
              "\n",
              "  <script>\n",
              "    async function quickchart(key) {\n",
              "      const quickchartButtonEl =\n",
              "        document.querySelector('#' + key + ' button');\n",
              "      quickchartButtonEl.disabled = true;  // To prevent multiple clicks.\n",
              "      quickchartButtonEl.classList.add('colab-df-spinner');\n",
              "      try {\n",
              "        const charts = await google.colab.kernel.invokeFunction(\n",
              "            'suggestCharts', [key], {});\n",
              "      } catch (error) {\n",
              "        console.error('Error during call to suggestCharts:', error);\n",
              "      }\n",
              "      quickchartButtonEl.classList.remove('colab-df-spinner');\n",
              "      quickchartButtonEl.classList.add('colab-df-quickchart-complete');\n",
              "    }\n",
              "    (() => {\n",
              "      let quickchartButtonEl =\n",
              "        document.querySelector('#df-adb23027-524a-40a2-90cc-83d2cf7f1a4e button');\n",
              "      quickchartButtonEl.style.display =\n",
              "        google.colab.kernel.accessAllowed ? 'block' : 'none';\n",
              "    })();\n",
              "  </script>\n",
              "</div>\n",
              "    </div>\n",
              "  </div>\n"
            ]
          },
          "metadata": {},
          "execution_count": 39
        }
      ]
    },
    {
      "cell_type": "markdown",
      "source": [
        "# Validar as palavras\n",
        "\n"
      ],
      "metadata": {
        "id": "N5zRlU2w7B6v"
      }
    },
    {
      "cell_type": "markdown",
      "source": [
        "### Palavras que ocorrem menos de 5 vezes no corpus são retiradas (apenas TDF-IDF, GLOVE e FASTTEXT)\n",
        "\n"
      ],
      "metadata": {
        "id": "DlpE679g6N5i"
      }
    },
    {
      "cell_type": "markdown",
      "source": [
        "Função própria para identificar palavras com frequência menor que estabelecida"
      ],
      "metadata": {
        "id": "qhaXcRIKQ7ji"
      }
    },
    {
      "cell_type": "code",
      "source": [
        "def listarPalavrasMenosFrequentes(xParaProcessar, freqMinimaParaProcessar):\n",
        "    cnt = xParaProcessar.str.split(expand=True).stack().value_counts()\n",
        "    lista = []\n",
        "    for w, c in zip(cnt.index, cnt):\n",
        "        if(c < freqMinimaParaProcessar):\n",
        "          lista.append(w)\n",
        "    return lista\n"
      ],
      "metadata": {
        "id": "gLEq2CLxRFDM"
      },
      "execution_count": 40,
      "outputs": []
    },
    {
      "cell_type": "code",
      "source": [
        "freqMinima = 5\n",
        "palavrasParaRemover = listarPalavrasMenosFrequentes(df[\"x\"], freqMinima)"
      ],
      "metadata": {
        "id": "aZnEUdEwY_LC"
      },
      "execution_count": 41,
      "outputs": []
    },
    {
      "cell_type": "markdown",
      "source": [
        "Função para remover palavras conforme uma lista definida"
      ],
      "metadata": {
        "id": "wcom5EZRboWF"
      }
    },
    {
      "cell_type": "code",
      "source": [
        "def remove_words_in_list(input_text, word_list):\n",
        "\n",
        "    words = input_text.split()\n",
        "    clean_words = [word for word in words if (word not in word_list) and len(word) > 1]\n",
        "    return \" \".join(clean_words)"
      ],
      "metadata": {
        "id": "j-dMRU9WSyw6"
      },
      "execution_count": 42,
      "outputs": []
    },
    {
      "cell_type": "code",
      "source": [
        "df[\"x\"] = df[\"x\"].apply(lambda x: remove_words_in_list(x, palavrasParaRemover))"
      ],
      "metadata": {
        "id": "Sp0mSXAfVhW8"
      },
      "execution_count": 43,
      "outputs": []
    },
    {
      "cell_type": "markdown",
      "source": [
        "# Instanciando o TF-IDF\n",
        "\n",
        "\n",
        "\n"
      ],
      "metadata": {
        "id": "AFLcU6Jx2vPn"
      }
    },
    {
      "cell_type": "code",
      "source": [
        "max_feat = None\n",
        "tfv = TfidfVectorizer(ngram_range=(1, 3), dtype=np.float32, max_features=max_feat)"
      ],
      "metadata": {
        "id": "yfX1ldX2zsHE"
      },
      "execution_count": 44,
      "outputs": []
    },
    {
      "cell_type": "code",
      "execution_count": 45,
      "metadata": {
        "id": "wysXqWNxak_B"
      },
      "outputs": [],
      "source": [
        "def prepararInputTreinamento(xTreinoParaPreparar):\n",
        "\n",
        "    xTreinoProcessado = tfv.fit_transform(xTreinoParaPreparar)\n",
        "    return xTreinoProcessado.toarray().astype(np.float16)"
      ]
    },
    {
      "cell_type": "code",
      "execution_count": 46,
      "metadata": {
        "id": "FFW71Bmdak_C"
      },
      "outputs": [],
      "source": [
        "def prepararInputTeste(xTesteParaPreparar):\n",
        "\n",
        "    xTesteProcessado = tfv.transform(xTesteParaPreparar)\n",
        "    return xTesteProcessado.toarray()"
      ]
    },
    {
      "cell_type": "markdown",
      "source": [
        "# Random Forest"
      ],
      "metadata": {
        "id": "pDxoY5V6N-yw"
      }
    },
    {
      "cell_type": "code",
      "source": [
        "from sklearn.ensemble import RandomForestClassifier\n",
        "\n",
        "numKfolds = 5\n",
        "micros = []\n",
        "macros = []\n",
        "\n",
        "kf = KFold(n_splits=numKfolds, shuffle=True, random_state=0)\n",
        "\n",
        "for train_index, test_index in kf.split(df[\"x\"]):\n",
        "    xTreino, xTeste = df[\"x\"].iloc[train_index], df[\"x\"].iloc[test_index]\n",
        "    yRealTreino, yRealTeste = df[\"y\"].iloc[train_index], df[\"y\"].iloc[test_index]\n",
        "\n",
        "    xTreino = prepararInputTreinamento(xTreino)\n",
        "    xTeste = prepararInputTeste(xTeste)\n",
        "\n",
        "    forest = RandomForestClassifier(n_estimators = 200, max_features=0.3, oob_score=True, n_jobs=-1, random_state=1, verbose=2)\n",
        "    forest.fit(xTreino, yRealTreino)\n",
        "\n",
        "    pred = forest.predict(xTeste)\n",
        "\n",
        "    print (\"Macro-F1: %f\" % f1_score(yRealTeste, pred, average='macro'))\n",
        "    macros.append(f1_score(yRealTeste, pred, average='macro'))\n",
        "    print (\"Micro-F1: %f\" % f1_score(yRealTeste, pred, average='micro'))\n",
        "    micros.append(f1_score(yRealTeste, pred, average='micro'))\n",
        "    print('\\n')\n",
        "\n",
        "\n",
        "macro_f1 = np.mean(micros)\n",
        "micro_f1 = np.mean(macros)\n",
        "std_f1 = np.std(macros)\n",
        "\n",
        "print('\\n\\n')\n",
        "print(f'Média da Macro-F1: {macro_f1:.6f}')\n",
        "print(f'Média da Micro-F1: {micro_f1:.6f}')\n",
        "print(f'Desvio padrão da Macro-F1: {std_f1:.6f}')"
      ],
      "metadata": {
        "colab": {
          "base_uri": "https://localhost:8080/"
        },
        "id": "MtqBATD6I13S",
        "outputId": "59dc177a-1f7e-4087-de54-b198cdd5a961"
      },
      "execution_count": 47,
      "outputs": [
        {
          "output_type": "stream",
          "name": "stderr",
          "text": [
            "[Parallel(n_jobs=-1)]: Using backend ThreadingBackend with 2 concurrent workers.\n"
          ]
        },
        {
          "output_type": "stream",
          "name": "stdout",
          "text": [
            "building tree 1 of 200\n",
            "building tree 2 of 200\n",
            "building tree 3 of 200\n",
            "building tree 4 of 200\n",
            "building tree 5 of 200\n",
            "building tree 6 of 200\n",
            "building tree 7 of 200\n",
            "building tree 8 of 200\n",
            "building tree 9 of 200\n",
            "building tree 10 of 200\n",
            "building tree 11 of 200\n",
            "building tree 12 of 200\n",
            "building tree 13 of 200\n",
            "building tree 14 of 200\n",
            "building tree 15 of 200\n",
            "building tree 16 of 200\n",
            "building tree 17 of 200\n",
            "building tree 18 of 200\n",
            "building tree 19 of 200\n",
            "building tree 20 of 200\n",
            "building tree 21 of 200\n",
            "building tree 22 of 200\n",
            "building tree 23 of 200\n",
            "building tree 24 of 200\n",
            "building tree 25 of 200\n",
            "building tree 26 of 200\n",
            "building tree 27 of 200\n",
            "building tree 28 of 200\n",
            "building tree 29 of 200\n",
            "building tree 30 of 200\n",
            "building tree 31 of 200\n",
            "building tree 32 of 200\n",
            "building tree 33 of 200\n",
            "building tree 34 of 200\n",
            "building tree 35 of 200\n",
            "building tree 36 of 200\n",
            "building tree 37 of 200\n",
            "building tree 38 of 200\n",
            "building tree 39 of 200\n"
          ]
        },
        {
          "output_type": "stream",
          "name": "stderr",
          "text": [
            "[Parallel(n_jobs=-1)]: Done  37 tasks      | elapsed:    1.4s\n"
          ]
        },
        {
          "output_type": "stream",
          "name": "stdout",
          "text": [
            "building tree 40 of 200\n",
            "building tree 41 of 200\n",
            "building tree 42 of 200\n",
            "building tree 43 of 200\n",
            "building tree 44 of 200\n",
            "building tree 45 of 200\n",
            "building tree 46 of 200\n",
            "building tree 47 of 200\n",
            "building tree 48 of 200\n",
            "building tree 49 of 200\n",
            "building tree 50 of 200\n",
            "building tree 51 of 200\n",
            "building tree 52 of 200\n",
            "building tree 53 of 200\n",
            "building tree 54 of 200\n",
            "building tree 55 of 200\n",
            "building tree 56 of 200\n",
            "building tree 57 of 200\n",
            "building tree 58 of 200\n",
            "building tree 59 of 200\n",
            "building tree 60 of 200\n",
            "building tree 61 of 200\n",
            "building tree 62 of 200\n",
            "building tree 63 of 200\n",
            "building tree 64 of 200\n",
            "building tree 65 of 200\n",
            "building tree 66 of 200\n",
            "building tree 67 of 200\n",
            "building tree 68 of 200\n",
            "building tree 69 of 200\n",
            "building tree 70 of 200\n",
            "building tree 71 of 200\n",
            "building tree 72 of 200\n",
            "building tree 73 of 200\n",
            "building tree 74 of 200\n",
            "building tree 75 of 200building tree 76 of 200\n",
            "\n",
            "building tree 77 of 200\n",
            "building tree 78 of 200\n",
            "building tree 79 of 200\n",
            "building tree 80 of 200\n",
            "building tree 81 of 200\n",
            "building tree 82 of 200\n",
            "building tree 83 of 200\n",
            "building tree 84 of 200\n",
            "building tree 85 of 200\n",
            "building tree 86 of 200\n",
            "building tree 87 of 200\n",
            "building tree 88 of 200\n",
            "building tree 89 of 200\n",
            "building tree 90 of 200\n",
            "building tree 91 of 200\n",
            "building tree 92 of 200\n",
            "building tree 93 of 200\n",
            "building tree 94 of 200\n",
            "building tree 95 of 200\n",
            "building tree 96 of 200\n",
            "building tree 97 of 200\n",
            "building tree 98 of 200\n",
            "building tree 99 of 200\n",
            "building tree 100 of 200\n",
            "building tree 101 of 200\n",
            "building tree 102 of 200\n",
            "building tree 103 of 200\n",
            "building tree 104 of 200\n",
            "building tree 105 of 200\n",
            "building tree 106 of 200\n",
            "building tree 107 of 200\n",
            "building tree 108 of 200\n",
            "building tree 109 of 200\n",
            "building tree 110 of 200\n",
            "building tree 111 of 200\n",
            "building tree 112 of 200\n",
            "building tree 113 of 200\n",
            "building tree 114 of 200\n",
            "building tree 115 of 200\n",
            "building tree 116 of 200\n",
            "building tree 117 of 200\n",
            "building tree 118 of 200\n",
            "building tree 119 of 200building tree 120 of 200\n",
            "\n",
            "building tree 121 of 200\n",
            "building tree 122 of 200\n",
            "building tree 123 of 200\n",
            "building tree 124 of 200\n",
            "building tree 125 of 200\n",
            "building tree 126 of 200\n",
            "building tree 127 of 200\n",
            "building tree 128 of 200\n",
            "building tree 129 of 200building tree 130 of 200\n",
            "\n",
            "building tree 131 of 200building tree 132 of 200\n",
            "\n",
            "building tree 133 of 200building tree 134 of 200\n",
            "\n",
            "building tree 135 of 200\n",
            "building tree 136 of 200\n",
            "building tree 137 of 200\n",
            "building tree 138 of 200\n",
            "building tree 139 of 200\n",
            "building tree 140 of 200\n",
            "building tree 141 of 200\n",
            "building tree 142 of 200\n",
            "building tree 143 of 200\n",
            "building tree 144 of 200\n",
            "building tree 145 of 200\n",
            "building tree 146 of 200\n",
            "building tree 147 of 200\n",
            "building tree 148 of 200\n",
            "building tree 149 of 200\n",
            "building tree 150 of 200\n",
            "building tree 151 of 200\n",
            "building tree 152 of 200\n",
            "building tree 153 of 200\n",
            "building tree 154 of 200\n",
            "building tree 155 of 200\n",
            "building tree 156 of 200\n",
            "building tree 157 of 200\n",
            "building tree 158 of 200\n",
            "building tree 159 of 200\n",
            "building tree 160 of 200\n",
            "building tree 161 of 200\n",
            "building tree 162 of 200\n",
            "building tree 163 of 200\n"
          ]
        },
        {
          "output_type": "stream",
          "name": "stderr",
          "text": [
            "[Parallel(n_jobs=-1)]: Done 158 tasks      | elapsed:    7.6s\n"
          ]
        },
        {
          "output_type": "stream",
          "name": "stdout",
          "text": [
            "building tree 164 of 200\n",
            "building tree 165 of 200\n",
            "building tree 166 of 200\n",
            "building tree 167 of 200\n",
            "building tree 168 of 200\n",
            "building tree 169 of 200\n",
            "building tree 170 of 200\n",
            "building tree 171 of 200\n",
            "building tree 172 of 200\n",
            "building tree 173 of 200\n",
            "building tree 174 of 200\n",
            "building tree 175 of 200\n",
            "building tree 176 of 200\n",
            "building tree 177 of 200\n",
            "building tree 178 of 200\n",
            "building tree 179 of 200\n",
            "building tree 180 of 200\n",
            "building tree 181 of 200\n",
            "building tree 182 of 200\n",
            "building tree 183 of 200\n",
            "building tree 184 of 200\n",
            "building tree 185 of 200\n",
            "building tree 186 of 200\n",
            "building tree 187 of 200\n",
            "building tree 188 of 200\n",
            "building tree 189 of 200\n",
            "building tree 190 of 200\n",
            "building tree 191 of 200\n",
            "building tree 192 of 200\n",
            "building tree 193 of 200\n",
            "building tree 194 of 200\n",
            "building tree 195 of 200\n",
            "building tree 196 of 200\n",
            "building tree 197 of 200\n",
            "building tree 198 of 200\n",
            "building tree 199 of 200\n",
            "building tree 200 of 200\n"
          ]
        },
        {
          "output_type": "stream",
          "name": "stderr",
          "text": [
            "[Parallel(n_jobs=-1)]: Done 200 out of 200 | elapsed:    9.5s finished\n",
            "[Parallel(n_jobs=2)]: Using backend ThreadingBackend with 2 concurrent workers.\n",
            "[Parallel(n_jobs=2)]: Done  37 tasks      | elapsed:    0.0s\n",
            "[Parallel(n_jobs=2)]: Done 158 tasks      | elapsed:    0.0s\n",
            "[Parallel(n_jobs=2)]: Done 200 out of 200 | elapsed:    0.1s finished\n",
            "[Parallel(n_jobs=-1)]: Using backend ThreadingBackend with 2 concurrent workers.\n"
          ]
        },
        {
          "output_type": "stream",
          "name": "stdout",
          "text": [
            "Macro-F1: 0.529177\n",
            "Micro-F1: 0.574627\n",
            "\n",
            "\n",
            "building tree 1 of 200building tree 2 of 200\n",
            "\n",
            "building tree 3 of 200\n",
            "building tree 4 of 200\n",
            "building tree 5 of 200\n",
            "building tree 6 of 200\n",
            "building tree 7 of 200\n",
            "building tree 8 of 200\n",
            "building tree 9 of 200\n",
            "building tree 10 of 200\n",
            "building tree 11 of 200\n",
            "building tree 12 of 200\n",
            "building tree 13 of 200\n",
            "building tree 14 of 200\n",
            "building tree 15 of 200\n",
            "building tree 16 of 200\n",
            "building tree 17 of 200\n",
            "building tree 18 of 200\n",
            "building tree 19 of 200\n",
            "building tree 20 of 200\n",
            "building tree 21 of 200\n",
            "building tree 22 of 200\n",
            "building tree 23 of 200\n",
            "building tree 24 of 200\n",
            "building tree 25 of 200\n",
            "building tree 26 of 200\n",
            "building tree 27 of 200\n",
            "building tree 28 of 200\n",
            "building tree 29 of 200\n",
            "building tree 30 of 200\n",
            "building tree 31 of 200\n",
            "building tree 32 of 200\n",
            "building tree 33 of 200\n",
            "building tree 34 of 200\n",
            "building tree 35 of 200\n",
            "building tree 36 of 200\n",
            "building tree 37 of 200\n",
            "building tree 38 of 200building tree 39 of 200\n",
            "\n",
            "building tree 40 of 200\n",
            "building tree 41 of 200\n"
          ]
        },
        {
          "output_type": "stream",
          "name": "stderr",
          "text": [
            "[Parallel(n_jobs=-1)]: Done  37 tasks      | elapsed:    2.0s\n"
          ]
        },
        {
          "output_type": "stream",
          "name": "stdout",
          "text": [
            "building tree 42 of 200\n",
            "building tree 43 of 200\n",
            "building tree 44 of 200\n",
            "building tree 45 of 200\n",
            "building tree 46 of 200\n",
            "building tree 47 of 200\n",
            "building tree 48 of 200\n",
            "building tree 49 of 200\n",
            "building tree 50 of 200\n",
            "building tree 51 of 200\n",
            "building tree 52 of 200\n",
            "building tree 53 of 200\n",
            "building tree 54 of 200\n",
            "building tree 55 of 200\n",
            "building tree 56 of 200\n",
            "building tree 57 of 200\n",
            "building tree 58 of 200\n",
            "building tree 59 of 200\n",
            "building tree 60 of 200\n",
            "building tree 61 of 200\n",
            "building tree 62 of 200\n",
            "building tree 63 of 200\n",
            "building tree 64 of 200\n",
            "building tree 65 of 200\n",
            "building tree 66 of 200\n",
            "building tree 67 of 200\n",
            "building tree 68 of 200\n",
            "building tree 69 of 200\n",
            "building tree 70 of 200\n",
            "building tree 71 of 200\n",
            "building tree 72 of 200\n",
            "building tree 73 of 200\n",
            "building tree 74 of 200\n",
            "building tree 75 of 200\n",
            "building tree 76 of 200\n",
            "building tree 77 of 200\n",
            "building tree 78 of 200\n",
            "building tree 79 of 200\n",
            "building tree 80 of 200\n",
            "building tree 81 of 200\n",
            "building tree 82 of 200\n",
            "building tree 83 of 200\n",
            "building tree 84 of 200\n",
            "building tree 85 of 200\n",
            "building tree 86 of 200\n",
            "building tree 87 of 200\n",
            "building tree 88 of 200\n",
            "building tree 89 of 200\n",
            "building tree 90 of 200\n",
            "building tree 91 of 200\n",
            "building tree 92 of 200\n",
            "building tree 93 of 200\n",
            "building tree 94 of 200\n",
            "building tree 95 of 200\n",
            "building tree 96 of 200\n",
            "building tree 97 of 200\n",
            "building tree 98 of 200\n",
            "building tree 99 of 200\n",
            "building tree 100 of 200\n",
            "building tree 101 of 200\n",
            "building tree 102 of 200\n",
            "building tree 103 of 200\n",
            "building tree 104 of 200\n",
            "building tree 105 of 200\n",
            "building tree 106 of 200\n",
            "building tree 107 of 200\n",
            "building tree 108 of 200\n",
            "building tree 109 of 200\n",
            "building tree 110 of 200\n",
            "building tree 111 of 200\n",
            "building tree 112 of 200\n",
            "building tree 113 of 200\n",
            "building tree 114 of 200\n",
            "building tree 115 of 200\n",
            "building tree 116 of 200\n",
            "building tree 117 of 200\n",
            "building tree 118 of 200\n",
            "building tree 119 of 200\n",
            "building tree 120 of 200\n",
            "building tree 121 of 200\n",
            "building tree 122 of 200\n",
            "building tree 123 of 200\n",
            "building tree 124 of 200\n",
            "building tree 125 of 200\n",
            "building tree 126 of 200\n",
            "building tree 127 of 200\n",
            "building tree 128 of 200\n",
            "building tree 129 of 200\n",
            "building tree 130 of 200\n",
            "building tree 131 of 200\n",
            "building tree 132 of 200\n",
            "building tree 133 of 200\n",
            "building tree 134 of 200\n",
            "building tree 135 of 200\n",
            "building tree 136 of 200\n",
            "building tree 137 of 200\n",
            "building tree 138 of 200\n",
            "building tree 139 of 200\n",
            "building tree 140 of 200\n",
            "building tree 141 of 200\n",
            "building tree 142 of 200\n",
            "building tree 143 of 200\n",
            "building tree 144 of 200\n",
            "building tree 145 of 200\n",
            "building tree 146 of 200\n",
            "building tree 147 of 200\n",
            "building tree 148 of 200\n",
            "building tree 149 of 200\n",
            "building tree 150 of 200\n",
            "building tree 151 of 200\n",
            "building tree 152 of 200\n",
            "building tree 153 of 200\n",
            "building tree 154 of 200\n",
            "building tree 155 of 200\n",
            "building tree 156 of 200\n",
            "building tree 157 of 200\n",
            "building tree 158 of 200\n",
            "building tree 159 of 200\n",
            "building tree 160 of 200\n",
            "building tree 161 of 200\n"
          ]
        },
        {
          "output_type": "stream",
          "name": "stderr",
          "text": [
            "[Parallel(n_jobs=-1)]: Done 158 tasks      | elapsed:    8.3s\n"
          ]
        },
        {
          "output_type": "stream",
          "name": "stdout",
          "text": [
            "building tree 162 of 200\n",
            "building tree 163 of 200\n",
            "building tree 164 of 200\n",
            "building tree 165 of 200\n",
            "building tree 166 of 200\n",
            "building tree 167 of 200\n",
            "building tree 168 of 200\n",
            "building tree 169 of 200\n",
            "building tree 170 of 200\n",
            "building tree 171 of 200\n",
            "building tree 172 of 200\n",
            "building tree 173 of 200\n",
            "building tree 174 of 200\n",
            "building tree 175 of 200\n",
            "building tree 176 of 200\n",
            "building tree 177 of 200\n",
            "building tree 178 of 200\n",
            "building tree 179 of 200\n",
            "building tree 180 of 200\n",
            "building tree 181 of 200\n",
            "building tree 182 of 200\n",
            "building tree 183 of 200\n",
            "building tree 184 of 200\n",
            "building tree 185 of 200\n",
            "building tree 186 of 200\n",
            "building tree 187 of 200\n",
            "building tree 188 of 200\n",
            "building tree 189 of 200\n",
            "building tree 190 of 200\n",
            "building tree 191 of 200\n",
            "building tree 192 of 200\n",
            "building tree 193 of 200\n",
            "building tree 194 of 200\n",
            "building tree 195 of 200\n",
            "building tree 196 of 200\n",
            "building tree 197 of 200\n",
            "building tree 198 of 200\n",
            "building tree 199 of 200\n",
            "building tree 200 of 200\n"
          ]
        },
        {
          "output_type": "stream",
          "name": "stderr",
          "text": [
            "[Parallel(n_jobs=-1)]: Done 200 out of 200 | elapsed:   11.0s finished\n",
            "[Parallel(n_jobs=2)]: Using backend ThreadingBackend with 2 concurrent workers.\n",
            "[Parallel(n_jobs=2)]: Done  37 tasks      | elapsed:    0.0s\n",
            "[Parallel(n_jobs=2)]: Done 158 tasks      | elapsed:    0.0s\n",
            "[Parallel(n_jobs=2)]: Done 200 out of 200 | elapsed:    0.0s finished\n"
          ]
        },
        {
          "output_type": "stream",
          "name": "stdout",
          "text": [
            "Macro-F1: 0.471425\n",
            "Micro-F1: 0.544776\n",
            "\n",
            "\n"
          ]
        },
        {
          "output_type": "stream",
          "name": "stderr",
          "text": [
            "[Parallel(n_jobs=-1)]: Using backend ThreadingBackend with 2 concurrent workers.\n"
          ]
        },
        {
          "output_type": "stream",
          "name": "stdout",
          "text": [
            "building tree 1 of 200\n",
            "building tree 2 of 200\n",
            "building tree 3 of 200\n",
            "building tree 4 of 200\n",
            "building tree 5 of 200\n",
            "building tree 6 of 200\n",
            "building tree 7 of 200\n",
            "building tree 8 of 200\n",
            "building tree 9 of 200\n",
            "building tree 10 of 200\n",
            "building tree 11 of 200\n",
            "building tree 12 of 200\n",
            "building tree 13 of 200\n",
            "building tree 14 of 200building tree 15 of 200\n",
            "\n",
            "building tree 16 of 200\n",
            "building tree 17 of 200\n",
            "building tree 18 of 200\n",
            "building tree 19 of 200\n",
            "building tree 20 of 200\n",
            "building tree 21 of 200\n",
            "building tree 22 of 200\n",
            "building tree 23 of 200\n",
            "building tree 24 of 200building tree 25 of 200\n",
            "\n",
            "building tree 26 of 200\n",
            "building tree 27 of 200\n",
            "building tree 28 of 200\n",
            "building tree 29 of 200\n",
            "building tree 30 of 200\n",
            "building tree 31 of 200\n",
            "building tree 32 of 200\n",
            "building tree 33 of 200\n",
            "building tree 34 of 200\n",
            "building tree 35 of 200\n",
            "building tree 36 of 200\n",
            "building tree 37 of 200\n",
            "building tree 38 of 200\n",
            "building tree 39 of 200\n"
          ]
        },
        {
          "output_type": "stream",
          "name": "stderr",
          "text": [
            "[Parallel(n_jobs=-1)]: Done  37 tasks      | elapsed:    2.4s\n"
          ]
        },
        {
          "output_type": "stream",
          "name": "stdout",
          "text": [
            "building tree 40 of 200\n",
            "building tree 41 of 200\n",
            "building tree 42 of 200\n",
            "building tree 43 of 200\n",
            "building tree 44 of 200\n",
            "building tree 45 of 200\n",
            "building tree 46 of 200\n",
            "building tree 47 of 200\n",
            "building tree 48 of 200\n",
            "building tree 49 of 200\n",
            "building tree 50 of 200\n",
            "building tree 51 of 200\n",
            "building tree 52 of 200building tree 53 of 200\n",
            "\n",
            "building tree 54 of 200\n",
            "building tree 55 of 200\n",
            "building tree 56 of 200\n",
            "building tree 57 of 200\n",
            "building tree 58 of 200\n",
            "building tree 59 of 200\n",
            "building tree 60 of 200\n",
            "building tree 61 of 200\n",
            "building tree 62 of 200\n",
            "building tree 63 of 200\n",
            "building tree 64 of 200\n",
            "building tree 65 of 200\n",
            "building tree 66 of 200\n",
            "building tree 67 of 200\n",
            "building tree 68 of 200\n",
            "building tree 69 of 200\n",
            "building tree 70 of 200\n",
            "building tree 71 of 200\n",
            "building tree 72 of 200\n",
            "building tree 73 of 200\n",
            "building tree 74 of 200\n",
            "building tree 75 of 200\n",
            "building tree 76 of 200\n",
            "building tree 77 of 200\n",
            "building tree 78 of 200\n",
            "building tree 79 of 200\n",
            "building tree 80 of 200\n",
            "building tree 81 of 200\n",
            "building tree 82 of 200\n",
            "building tree 83 of 200\n",
            "building tree 84 of 200\n",
            "building tree 85 of 200\n",
            "building tree 86 of 200\n",
            "building tree 87 of 200\n",
            "building tree 88 of 200\n",
            "building tree 89 of 200\n",
            "building tree 90 of 200\n",
            "building tree 91 of 200\n",
            "building tree 92 of 200\n",
            "building tree 93 of 200\n",
            "building tree 94 of 200\n",
            "building tree 95 of 200\n",
            "building tree 96 of 200\n",
            "building tree 97 of 200\n",
            "building tree 98 of 200\n",
            "building tree 99 of 200\n",
            "building tree 100 of 200\n",
            "building tree 101 of 200\n",
            "building tree 102 of 200\n",
            "building tree 103 of 200\n",
            "building tree 104 of 200\n",
            "building tree 105 of 200\n",
            "building tree 106 of 200\n",
            "building tree 107 of 200\n",
            "building tree 108 of 200\n",
            "building tree 109 of 200\n",
            "building tree 110 of 200\n",
            "building tree 111 of 200\n",
            "building tree 112 of 200\n",
            "building tree 113 of 200\n",
            "building tree 114 of 200\n",
            "building tree 115 of 200\n",
            "building tree 116 of 200\n",
            "building tree 117 of 200\n",
            "building tree 118 of 200\n",
            "building tree 119 of 200\n",
            "building tree 120 of 200\n",
            "building tree 121 of 200\n",
            "building tree 122 of 200\n",
            "building tree 123 of 200\n",
            "building tree 124 of 200\n",
            "building tree 125 of 200\n",
            "building tree 126 of 200\n",
            "building tree 127 of 200\n",
            "building tree 128 of 200\n",
            "building tree 129 of 200\n",
            "building tree 130 of 200\n",
            "building tree 131 of 200\n",
            "building tree 132 of 200\n",
            "building tree 133 of 200\n",
            "building tree 134 of 200\n",
            "building tree 135 of 200\n",
            "building tree 136 of 200\n",
            "building tree 137 of 200\n",
            "building tree 138 of 200\n",
            "building tree 139 of 200\n",
            "building tree 140 of 200\n",
            "building tree 141 of 200\n",
            "building tree 142 of 200\n",
            "building tree 143 of 200\n",
            "building tree 144 of 200\n",
            "building tree 145 of 200\n",
            "building tree 146 of 200\n",
            "building tree 147 of 200\n",
            "building tree 148 of 200\n",
            "building tree 149 of 200\n",
            "building tree 150 of 200\n",
            "building tree 151 of 200\n",
            "building tree 152 of 200\n",
            "building tree 153 of 200\n",
            "building tree 154 of 200\n",
            "building tree 155 of 200\n",
            "building tree 156 of 200\n",
            "building tree 157 of 200\n",
            "building tree 158 of 200\n",
            "building tree 159 of 200\n",
            "building tree 160 of 200\n",
            "building tree 161 of 200\n",
            "building tree 162 of 200\n",
            "building tree 163 of 200\n"
          ]
        },
        {
          "output_type": "stream",
          "name": "stderr",
          "text": [
            "[Parallel(n_jobs=-1)]: Done 158 tasks      | elapsed:    7.9s\n"
          ]
        },
        {
          "output_type": "stream",
          "name": "stdout",
          "text": [
            "building tree 164 of 200\n",
            "building tree 165 of 200\n",
            "building tree 166 of 200\n",
            "building tree 167 of 200\n",
            "building tree 168 of 200\n",
            "building tree 169 of 200\n",
            "building tree 170 of 200\n",
            "building tree 171 of 200\n",
            "building tree 172 of 200\n",
            "building tree 173 of 200\n",
            "building tree 174 of 200\n",
            "building tree 175 of 200\n",
            "building tree 176 of 200\n",
            "building tree 177 of 200\n",
            "building tree 178 of 200\n",
            "building tree 179 of 200\n",
            "building tree 180 of 200\n",
            "building tree 181 of 200\n",
            "building tree 182 of 200\n",
            "building tree 183 of 200\n",
            "building tree 184 of 200\n",
            "building tree 185 of 200\n",
            "building tree 186 of 200\n",
            "building tree 187 of 200\n",
            "building tree 188 of 200\n",
            "building tree 189 of 200\n",
            "building tree 190 of 200\n",
            "building tree 191 of 200\n",
            "building tree 192 of 200\n",
            "building tree 193 of 200\n",
            "building tree 194 of 200\n",
            "building tree 195 of 200\n",
            "building tree 196 of 200\n",
            "building tree 197 of 200\n",
            "building tree 198 of 200\n",
            "building tree 199 of 200\n",
            "building tree 200 of 200\n"
          ]
        },
        {
          "output_type": "stream",
          "name": "stderr",
          "text": [
            "[Parallel(n_jobs=-1)]: Done 200 out of 200 | elapsed:    9.9s finished\n",
            "[Parallel(n_jobs=2)]: Using backend ThreadingBackend with 2 concurrent workers.\n",
            "[Parallel(n_jobs=2)]: Done  37 tasks      | elapsed:    0.0s\n",
            "[Parallel(n_jobs=2)]: Done 158 tasks      | elapsed:    0.0s\n",
            "[Parallel(n_jobs=2)]: Done 200 out of 200 | elapsed:    0.0s finished\n",
            "[Parallel(n_jobs=-1)]: Using backend ThreadingBackend with 2 concurrent workers.\n"
          ]
        },
        {
          "output_type": "stream",
          "name": "stdout",
          "text": [
            "Macro-F1: 0.547606\n",
            "Micro-F1: 0.646617\n",
            "\n",
            "\n",
            "building tree 1 of 200building tree 2 of 200\n",
            "\n",
            "building tree 3 of 200\n",
            "building tree 4 of 200\n",
            "building tree 5 of 200\n",
            "building tree 6 of 200\n",
            "building tree 7 of 200\n",
            "building tree 8 of 200\n",
            "building tree 9 of 200\n",
            "building tree 10 of 200\n",
            "building tree 11 of 200\n",
            "building tree 12 of 200\n",
            "building tree 13 of 200\n",
            "building tree 14 of 200\n",
            "building tree 15 of 200\n",
            "building tree 16 of 200\n",
            "building tree 17 of 200\n",
            "building tree 18 of 200\n",
            "building tree 19 of 200\n",
            "building tree 20 of 200\n",
            "building tree 21 of 200\n",
            "building tree 22 of 200\n",
            "building tree 23 of 200\n",
            "building tree 24 of 200\n",
            "building tree 25 of 200\n",
            "building tree 26 of 200\n",
            "building tree 27 of 200\n",
            "building tree 28 of 200\n",
            "building tree 29 of 200\n",
            "building tree 30 of 200\n",
            "building tree 31 of 200\n",
            "building tree 32 of 200\n",
            "building tree 33 of 200\n",
            "building tree 34 of 200\n",
            "building tree 35 of 200\n",
            "building tree 36 of 200\n",
            "building tree 37 of 200\n",
            "building tree 38 of 200\n",
            "building tree 39 of 200\n",
            "building tree 40 of 200\n",
            "building tree 41 of 200\n"
          ]
        },
        {
          "output_type": "stream",
          "name": "stderr",
          "text": [
            "[Parallel(n_jobs=-1)]: Done  37 tasks      | elapsed:    2.0s\n"
          ]
        },
        {
          "output_type": "stream",
          "name": "stdout",
          "text": [
            "building tree 42 of 200\n",
            "building tree 43 of 200\n",
            "building tree 44 of 200\n",
            "building tree 45 of 200\n",
            "building tree 46 of 200\n",
            "building tree 47 of 200\n",
            "building tree 48 of 200\n",
            "building tree 49 of 200\n",
            "building tree 50 of 200\n",
            "building tree 51 of 200\n",
            "building tree 52 of 200\n",
            "building tree 53 of 200\n",
            "building tree 54 of 200\n",
            "building tree 55 of 200\n",
            "building tree 56 of 200\n",
            "building tree 57 of 200\n",
            "building tree 58 of 200\n",
            "building tree 59 of 200\n",
            "building tree 60 of 200\n",
            "building tree 61 of 200\n",
            "building tree 62 of 200\n",
            "building tree 63 of 200\n",
            "building tree 64 of 200\n",
            "building tree 65 of 200\n",
            "building tree 66 of 200\n",
            "building tree 67 of 200\n",
            "building tree 68 of 200\n",
            "building tree 69 of 200\n",
            "building tree 70 of 200\n",
            "building tree 71 of 200\n",
            "building tree 72 of 200\n",
            "building tree 73 of 200\n",
            "building tree 74 of 200\n",
            "building tree 75 of 200building tree 76 of 200\n",
            "\n",
            "building tree 77 of 200\n",
            "building tree 78 of 200\n",
            "building tree 79 of 200\n",
            "building tree 80 of 200\n",
            "building tree 81 of 200\n",
            "building tree 82 of 200\n",
            "building tree 83 of 200\n",
            "building tree 84 of 200\n",
            "building tree 85 of 200\n",
            "building tree 86 of 200\n",
            "building tree 87 of 200\n",
            "building tree 88 of 200\n",
            "building tree 89 of 200\n",
            "building tree 90 of 200\n",
            "building tree 91 of 200\n",
            "building tree 92 of 200\n",
            "building tree 93 of 200\n",
            "building tree 94 of 200\n",
            "building tree 95 of 200\n",
            "building tree 96 of 200\n",
            "building tree 97 of 200\n",
            "building tree 98 of 200\n",
            "building tree 99 of 200\n",
            "building tree 100 of 200\n",
            "building tree 101 of 200\n",
            "building tree 102 of 200\n",
            "building tree 103 of 200\n",
            "building tree 104 of 200\n",
            "building tree 105 of 200\n",
            "building tree 106 of 200\n",
            "building tree 107 of 200\n",
            "building tree 108 of 200\n",
            "building tree 109 of 200\n",
            "building tree 110 of 200\n",
            "building tree 111 of 200\n",
            "building tree 112 of 200\n",
            "building tree 113 of 200\n",
            "building tree 114 of 200\n",
            "building tree 115 of 200\n",
            "building tree 116 of 200\n",
            "building tree 117 of 200\n",
            "building tree 118 of 200\n",
            "building tree 119 of 200\n",
            "building tree 120 of 200\n",
            "building tree 121 of 200\n",
            "building tree 122 of 200\n",
            "building tree 123 of 200\n",
            "building tree 124 of 200building tree 125 of 200\n",
            "\n",
            "building tree 126 of 200\n",
            "building tree 127 of 200\n",
            "building tree 128 of 200\n",
            "building tree 129 of 200\n",
            "building tree 130 of 200\n",
            "building tree 131 of 200\n",
            "building tree 132 of 200\n",
            "building tree 133 of 200\n",
            "building tree 134 of 200\n",
            "building tree 135 of 200\n",
            "building tree 136 of 200\n",
            "building tree 137 of 200\n",
            "building tree 138 of 200\n",
            "building tree 139 of 200\n",
            "building tree 140 of 200\n",
            "building tree 141 of 200\n",
            "building tree 142 of 200\n",
            "building tree 143 of 200\n",
            "building tree 144 of 200\n",
            "building tree 145 of 200\n",
            "building tree 146 of 200building tree 147 of 200\n",
            "\n",
            "building tree 148 of 200\n",
            "building tree 149 of 200\n",
            "building tree 150 of 200\n",
            "building tree 151 of 200\n",
            "building tree 152 of 200\n",
            "building tree 153 of 200\n",
            "building tree 154 of 200\n",
            "building tree 155 of 200\n",
            "building tree 156 of 200\n",
            "building tree 157 of 200\n",
            "building tree 158 of 200\n",
            "building tree 159 of 200\n",
            "building tree 160 of 200"
          ]
        },
        {
          "output_type": "stream",
          "name": "stderr",
          "text": [
            "[Parallel(n_jobs=-1)]: Done 158 tasks      | elapsed:    8.5s\n"
          ]
        },
        {
          "output_type": "stream",
          "name": "stdout",
          "text": [
            "\n",
            "building tree 161 of 200\n",
            "building tree 162 of 200\n",
            "building tree 163 of 200\n",
            "building tree 164 of 200\n",
            "building tree 165 of 200building tree 166 of 200\n",
            "\n",
            "building tree 167 of 200\n",
            "building tree 168 of 200\n",
            "building tree 169 of 200\n",
            "building tree 170 of 200\n",
            "building tree 171 of 200\n",
            "building tree 172 of 200\n",
            "building tree 173 of 200\n",
            "building tree 174 of 200\n",
            "building tree 175 of 200\n",
            "building tree 176 of 200\n",
            "building tree 177 of 200\n",
            "building tree 178 of 200\n",
            "building tree 179 of 200\n",
            "building tree 180 of 200\n",
            "building tree 181 of 200\n",
            "building tree 182 of 200\n",
            "building tree 183 of 200\n",
            "building tree 184 of 200\n",
            "building tree 185 of 200\n",
            "building tree 186 of 200\n",
            "building tree 187 of 200\n",
            "building tree 188 of 200\n",
            "building tree 189 of 200\n",
            "building tree 190 of 200\n",
            "building tree 191 of 200\n",
            "building tree 192 of 200\n",
            "building tree 193 of 200\n",
            "building tree 194 of 200\n",
            "building tree 195 of 200\n",
            "building tree 196 of 200\n",
            "building tree 197 of 200\n",
            "building tree 198 of 200\n",
            "building tree 199 of 200\n",
            "building tree 200 of 200\n"
          ]
        },
        {
          "output_type": "stream",
          "name": "stderr",
          "text": [
            "[Parallel(n_jobs=-1)]: Done 200 out of 200 | elapsed:   10.0s finished\n",
            "[Parallel(n_jobs=2)]: Using backend ThreadingBackend with 2 concurrent workers.\n",
            "[Parallel(n_jobs=2)]: Done  37 tasks      | elapsed:    0.0s\n",
            "[Parallel(n_jobs=2)]: Done 158 tasks      | elapsed:    0.0s\n",
            "[Parallel(n_jobs=2)]: Done 200 out of 200 | elapsed:    0.1s finished\n",
            "[Parallel(n_jobs=-1)]: Using backend ThreadingBackend with 2 concurrent workers.\n"
          ]
        },
        {
          "output_type": "stream",
          "name": "stdout",
          "text": [
            "Macro-F1: 0.429327\n",
            "Micro-F1: 0.481203\n",
            "\n",
            "\n",
            "building tree 1 of 200building tree 2 of 200\n",
            "\n",
            "building tree 3 of 200\n",
            "building tree 4 of 200\n",
            "building tree 5 of 200\n",
            "building tree 6 of 200\n",
            "building tree 7 of 200\n",
            "building tree 8 of 200\n",
            "building tree 9 of 200\n",
            "building tree 10 of 200\n",
            "building tree 11 of 200\n",
            "building tree 12 of 200\n",
            "building tree 13 of 200\n",
            "building tree 14 of 200\n",
            "building tree 15 of 200\n",
            "building tree 16 of 200\n",
            "building tree 17 of 200\n",
            "building tree 18 of 200\n",
            "building tree 19 of 200\n",
            "building tree 20 of 200\n",
            "building tree 21 of 200\n",
            "building tree 22 of 200\n",
            "building tree 23 of 200\n",
            "building tree 24 of 200\n",
            "building tree 25 of 200\n",
            "building tree 26 of 200\n",
            "building tree 27 of 200\n",
            "building tree 28 of 200\n",
            "building tree 29 of 200\n",
            "building tree 30 of 200\n",
            "building tree 31 of 200\n",
            "building tree 32 of 200\n",
            "building tree 33 of 200\n",
            "building tree 34 of 200\n",
            "building tree 35 of 200\n",
            "building tree 36 of 200\n",
            "building tree 37 of 200\n",
            "building tree 38 of 200\n",
            "building tree 39 of 200\n",
            "building tree 40 of 200\n",
            "building tree 41 of 200\n",
            "building tree 42 of 200\n"
          ]
        },
        {
          "output_type": "stream",
          "name": "stderr",
          "text": [
            "[Parallel(n_jobs=-1)]: Done  37 tasks      | elapsed:    1.3s\n"
          ]
        },
        {
          "output_type": "stream",
          "name": "stdout",
          "text": [
            "building tree 43 of 200\n",
            "building tree 44 of 200\n",
            "building tree 45 of 200\n",
            "building tree 46 of 200\n",
            "building tree 47 of 200\n",
            "building tree 48 of 200\n",
            "building tree 49 of 200\n",
            "building tree 50 of 200\n",
            "building tree 51 of 200\n",
            "building tree 52 of 200\n",
            "building tree 53 of 200\n",
            "building tree 54 of 200\n",
            "building tree 55 of 200\n",
            "building tree 56 of 200\n",
            "building tree 57 of 200\n",
            "building tree 58 of 200\n",
            "building tree 59 of 200\n",
            "building tree 60 of 200\n",
            "building tree 61 of 200\n",
            "building tree 62 of 200\n",
            "building tree 63 of 200\n",
            "building tree 64 of 200\n",
            "building tree 65 of 200\n",
            "building tree 66 of 200\n",
            "building tree 67 of 200\n",
            "building tree 68 of 200\n",
            "building tree 69 of 200\n",
            "building tree 70 of 200\n",
            "building tree 71 of 200\n",
            "building tree 72 of 200\n",
            "building tree 73 of 200\n",
            "building tree 74 of 200\n",
            "building tree 75 of 200\n",
            "building tree 76 of 200\n",
            "building tree 77 of 200\n",
            "building tree 78 of 200\n",
            "building tree 79 of 200\n",
            "building tree 80 of 200\n",
            "building tree 81 of 200\n",
            "building tree 82 of 200\n",
            "building tree 83 of 200\n",
            "building tree 84 of 200\n",
            "building tree 85 of 200\n",
            "building tree 86 of 200\n",
            "building tree 87 of 200\n",
            "building tree 88 of 200\n",
            "building tree 89 of 200\n",
            "building tree 90 of 200\n",
            "building tree 91 of 200\n",
            "building tree 92 of 200\n",
            "building tree 93 of 200\n",
            "building tree 94 of 200\n",
            "building tree 95 of 200\n",
            "building tree 96 of 200\n",
            "building tree 97 of 200\n",
            "building tree 98 of 200\n",
            "building tree 99 of 200\n",
            "building tree 100 of 200\n",
            "building tree 101 of 200\n",
            "building tree 102 of 200\n",
            "building tree 103 of 200\n",
            "building tree 104 of 200\n",
            "building tree 105 of 200\n",
            "building tree 106 of 200\n",
            "building tree 107 of 200\n",
            "building tree 108 of 200\n",
            "building tree 109 of 200\n",
            "building tree 110 of 200\n",
            "building tree 111 of 200\n",
            "building tree 112 of 200\n",
            "building tree 113 of 200\n",
            "building tree 114 of 200\n",
            "building tree 115 of 200\n",
            "building tree 116 of 200\n",
            "building tree 117 of 200\n",
            "building tree 118 of 200\n",
            "building tree 119 of 200\n",
            "building tree 120 of 200\n",
            "building tree 121 of 200\n",
            "building tree 122 of 200\n",
            "building tree 123 of 200\n",
            "building tree 124 of 200\n",
            "building tree 125 of 200\n",
            "building tree 126 of 200\n",
            "building tree 127 of 200\n",
            "building tree 128 of 200\n",
            "building tree 129 of 200\n",
            "building tree 130 of 200\n",
            "building tree 131 of 200\n",
            "building tree 132 of 200\n",
            "building tree 133 of 200\n",
            "building tree 134 of 200\n",
            "building tree 135 of 200\n",
            "building tree 136 of 200\n",
            "building tree 137 of 200\n",
            "building tree 138 of 200\n",
            "building tree 139 of 200\n",
            "building tree 140 of 200\n",
            "building tree 141 of 200\n",
            "building tree 142 of 200\n",
            "building tree 143 of 200\n",
            "building tree 144 of 200\n",
            "building tree 145 of 200\n",
            "building tree 146 of 200\n",
            "building tree 147 of 200\n",
            "building tree 148 of 200\n",
            "building tree 149 of 200\n",
            "building tree 150 of 200\n",
            "building tree 151 of 200\n",
            "building tree 152 of 200\n",
            "building tree 153 of 200\n",
            "building tree 154 of 200\n",
            "building tree 155 of 200\n",
            "building tree 156 of 200\n",
            "building tree 157 of 200\n",
            "building tree 158 of 200\n",
            "building tree 159 of 200\n"
          ]
        },
        {
          "output_type": "stream",
          "name": "stderr",
          "text": [
            "[Parallel(n_jobs=-1)]: Done 158 tasks      | elapsed:    5.2s\n"
          ]
        },
        {
          "output_type": "stream",
          "name": "stdout",
          "text": [
            "building tree 160 of 200\n",
            "building tree 161 of 200\n",
            "building tree 162 of 200building tree 163 of 200\n",
            "\n",
            "building tree 164 of 200\n",
            "building tree 165 of 200\n",
            "building tree 166 of 200\n",
            "building tree 167 of 200\n",
            "building tree 168 of 200\n",
            "building tree 169 of 200\n",
            "building tree 170 of 200\n",
            "building tree 171 of 200\n",
            "building tree 172 of 200\n",
            "building tree 173 of 200\n",
            "building tree 174 of 200\n",
            "building tree 175 of 200\n",
            "building tree 176 of 200\n",
            "building tree 177 of 200\n",
            "building tree 178 of 200\n",
            "building tree 179 of 200\n",
            "building tree 180 of 200\n",
            "building tree 181 of 200\n",
            "building tree 182 of 200\n",
            "building tree 183 of 200\n",
            "building tree 184 of 200\n",
            "building tree 185 of 200\n",
            "building tree 186 of 200\n",
            "building tree 187 of 200\n",
            "building tree 188 of 200\n",
            "building tree 189 of 200\n",
            "building tree 190 of 200\n",
            "building tree 191 of 200\n",
            "building tree 192 of 200\n",
            "building tree 193 of 200\n",
            "building tree 194 of 200\n",
            "building tree 195 of 200\n",
            "building tree 196 of 200\n",
            "building tree 197 of 200\n",
            "building tree 198 of 200\n",
            "building tree 199 of 200\n",
            "building tree 200 of 200\n"
          ]
        },
        {
          "output_type": "stream",
          "name": "stderr",
          "text": [
            "[Parallel(n_jobs=-1)]: Done 200 out of 200 | elapsed:    6.5s finished\n"
          ]
        },
        {
          "output_type": "stream",
          "name": "stdout",
          "text": [
            "Macro-F1: 0.475930\n",
            "Micro-F1: 0.563910\n",
            "\n",
            "\n",
            "\n",
            "\n",
            "\n",
            "Média da Macro-F1: 0.562226\n",
            "Média da Micro-F1: 0.490693\n",
            "Desvio padrão da Macro-F1: 0.042603\n"
          ]
        },
        {
          "output_type": "stream",
          "name": "stderr",
          "text": [
            "[Parallel(n_jobs=2)]: Using backend ThreadingBackend with 2 concurrent workers.\n",
            "[Parallel(n_jobs=2)]: Done  37 tasks      | elapsed:    0.0s\n",
            "[Parallel(n_jobs=2)]: Done 158 tasks      | elapsed:    0.0s\n",
            "[Parallel(n_jobs=2)]: Done 200 out of 200 | elapsed:    0.0s finished\n"
          ]
        }
      ]
    },
    {
      "cell_type": "markdown",
      "source": [
        "# Multinomial Naive Bayes"
      ],
      "metadata": {
        "id": "GNjLa6NWI2qS"
      }
    },
    {
      "cell_type": "code",
      "source": [
        "from sklearn.naive_bayes import MultinomialNB\n",
        "from sklearn.preprocessing import MinMaxScaler\n",
        "\n",
        "numKfolds = 5\n",
        "micros = []\n",
        "macros = []\n",
        "\n",
        "scaler = MinMaxScaler()\n",
        "\n",
        "kf = KFold(n_splits=numKfolds, shuffle=True, random_state=0)\n",
        "\n",
        "for train_index, test_index in kf.split(df[\"x\"]):\n",
        "    xTreino, xTeste = df[\"x\"].iloc[train_index], df[\"x\"].iloc[test_index]\n",
        "    yRealTreino, yRealTeste = df[\"y\"].iloc[train_index], df[\"y\"].iloc[test_index]\n",
        "\n",
        "    xTreino = prepararInputTreinamento(xTreino)\n",
        "    xTeste = prepararInputTeste(xTeste)\n",
        "\n",
        "    xTreino = scaler.fit_transform(xTreino)\n",
        "    xTeste = scaler.transform(xTeste)\n",
        "\n",
        "    multinomialNB = MultinomialNB()\n",
        "    multinomialNB.fit(xTreino, yRealTreino)\n",
        "\n",
        "    pred = multinomialNB.predict(xTeste)\n",
        "\n",
        "    print (\"Macro-F1: %f\" % f1_score(yRealTeste, pred, average='macro'))\n",
        "    macros.append(f1_score(yRealTeste, pred, average='macro'))\n",
        "    print (\"Micro-F1: %f\" % f1_score(yRealTeste, pred, average='micro'))\n",
        "    micros.append(f1_score(yRealTeste, pred, average='micro'))\n",
        "    print('\\n')\n",
        "\n",
        "\n",
        "macro_f1 = np.mean(micros)\n",
        "micro_f1 = np.mean(macros)\n",
        "std_f1 = np.std(macros)\n",
        "\n",
        "print('\\n\\n')\n",
        "print(f'Média da Macro-F1: {macro_f1:.6f}')\n",
        "print(f'Média da Micro-F1: {micro_f1:.6f}')\n",
        "print(f'Desvio padrão da Macro-F1: {std_f1:.6f}')"
      ],
      "metadata": {
        "colab": {
          "base_uri": "https://localhost:8080/"
        },
        "id": "1jbzR85kI6AM",
        "outputId": "c2fe23cd-9146-49ce-b985-f512abc9bf16"
      },
      "execution_count": 48,
      "outputs": [
        {
          "output_type": "stream",
          "name": "stdout",
          "text": [
            "Macro-F1: 0.496976\n",
            "Micro-F1: 0.559701\n",
            "\n",
            "\n",
            "Macro-F1: 0.466344\n",
            "Micro-F1: 0.514925\n",
            "\n",
            "\n",
            "Macro-F1: 0.508341\n",
            "Micro-F1: 0.601504\n",
            "\n",
            "\n",
            "Macro-F1: 0.519611\n",
            "Micro-F1: 0.571429\n",
            "\n",
            "\n",
            "Macro-F1: 0.559110\n",
            "Micro-F1: 0.593985\n",
            "\n",
            "\n",
            "\n",
            "\n",
            "\n",
            "Média da Macro-F1: 0.568309\n",
            "Média da Micro-F1: 0.510076\n",
            "Desvio padrão da Macro-F1: 0.030273\n"
          ]
        }
      ]
    },
    {
      "cell_type": "markdown",
      "source": [
        "# KNN"
      ],
      "metadata": {
        "id": "UqQyRtxwOQQI"
      }
    },
    {
      "cell_type": "code",
      "source": [
        "from sklearn.neighbors import KNeighborsClassifier\n",
        "\n",
        "from sklearn.ensemble import RandomForestClassifier\n",
        "\n",
        "numKfolds = 5\n",
        "micros = []\n",
        "macros = []\n",
        "\n",
        "kf = KFold(n_splits=numKfolds, shuffle=True, random_state=0)\n",
        "\n",
        "for train_index, test_index in kf.split(df[\"x\"]):\n",
        "    xTreino, xTeste = df[\"x\"].iloc[train_index], df[\"x\"].iloc[test_index]\n",
        "    yRealTreino, yRealTeste = df[\"y\"].iloc[train_index], df[\"y\"].iloc[test_index]\n",
        "\n",
        "    xTreino = prepararInputTreinamento(xTreino)\n",
        "    xTeste = prepararInputTeste(xTeste)\n",
        "\n",
        "    knn = KNeighborsClassifier(n_neighbors=30)\n",
        "    knn.fit(xTreino, yRealTreino)\n",
        "\n",
        "    pred = knn.predict(xTeste)\n",
        "\n",
        "    print (\"Macro-F1: %f\" % f1_score(yRealTeste, pred, average='macro'))\n",
        "    macros.append(f1_score(yRealTeste, pred, average='macro'))\n",
        "    print (\"Micro-F1: %f\" % f1_score(yRealTeste, pred, average='micro'))\n",
        "    micros.append(f1_score(yRealTeste, pred, average='micro'))\n",
        "    print('\\n')\n",
        "\n",
        "\n",
        "macro_f1 = np.mean(micros)\n",
        "micro_f1 = np.mean(macros)\n",
        "std_f1 = np.std(macros)\n",
        "\n",
        "print('\\n\\n')\n",
        "print(f'Média da Macro-F1: {macro_f1:.6f}')\n",
        "print(f'Média da Micro-F1: {micro_f1:.6f}')\n",
        "print(f'Desvio padrão da Macro-F1: {std_f1:.6f}')"
      ],
      "metadata": {
        "colab": {
          "base_uri": "https://localhost:8080/"
        },
        "id": "7Uhv9lFBOR2Z",
        "outputId": "8f4bf323-0450-40d1-eef5-69a7c88ad8f1"
      },
      "execution_count": 49,
      "outputs": [
        {
          "output_type": "stream",
          "name": "stdout",
          "text": [
            "Macro-F1: 0.471047\n",
            "Micro-F1: 0.582090\n",
            "\n",
            "\n",
            "Macro-F1: 0.361488\n",
            "Micro-F1: 0.455224\n",
            "\n",
            "\n",
            "Macro-F1: 0.433896\n",
            "Micro-F1: 0.563910\n",
            "\n",
            "\n",
            "Macro-F1: 0.406238\n",
            "Micro-F1: 0.533835\n",
            "\n",
            "\n",
            "Macro-F1: 0.393474\n",
            "Micro-F1: 0.503759\n",
            "\n",
            "\n",
            "\n",
            "\n",
            "\n",
            "Média da Macro-F1: 0.527763\n",
            "Média da Micro-F1: 0.413229\n",
            "Desvio padrão da Macro-F1: 0.037112\n"
          ]
        }
      ]
    },
    {
      "cell_type": "markdown",
      "source": [
        "# SVM"
      ],
      "metadata": {
        "id": "OtU2Ekx5OTST"
      }
    },
    {
      "cell_type": "code",
      "source": [
        "from sklearn.svm import LinearSVC\n",
        "\n",
        "from sklearn.ensemble import RandomForestClassifier\n",
        "\n",
        "numKfolds = 5\n",
        "micros = []\n",
        "macros = []\n",
        "\n",
        "kf = KFold(n_splits=numKfolds, shuffle=True, random_state=0)\n",
        "\n",
        "for train_index, test_index in kf.split(df[\"x\"]):\n",
        "    xTreino, xTeste = df[\"x\"].iloc[train_index], df[\"x\"].iloc[test_index]\n",
        "    yRealTreino, yRealTeste = df[\"y\"].iloc[train_index], df[\"y\"].iloc[test_index]\n",
        "\n",
        "    xTreino = prepararInputTreinamento(xTreino)\n",
        "    xTeste = prepararInputTeste(xTeste)\n",
        "\n",
        "    svm = LinearSVC(C=1)\n",
        "    svm.fit(xTreino, yRealTreino)\n",
        "\n",
        "    pred = svm.predict(xTeste)\n",
        "\n",
        "    print (\"Macro-F1: %f\" % f1_score(yRealTeste, pred, average='macro'))\n",
        "    macros.append(f1_score(yRealTeste, pred, average='macro'))\n",
        "    print (\"Micro-F1: %f\" % f1_score(yRealTeste, pred, average='micro'))\n",
        "    micros.append(f1_score(yRealTeste, pred, average='micro'))\n",
        "    print('\\n')\n",
        "\n",
        "\n",
        "macro_f1 = np.mean(micros)\n",
        "micro_f1 = np.mean(macros)\n",
        "std_f1 = np.std(macros)\n",
        "\n",
        "print('\\n\\n')\n",
        "print(f'Média da Macro-F1: {macro_f1:.6f}')\n",
        "print(f'Média da Micro-F1: {micro_f1:.6f}')\n",
        "print(f'Desvio padrão da Macro-F1: {std_f1:.6f}')"
      ],
      "metadata": {
        "colab": {
          "base_uri": "https://localhost:8080/"
        },
        "id": "2hgOWJvpOVvd",
        "outputId": "7d800762-62ee-492e-a196-a8467ac5b19b"
      },
      "execution_count": 50,
      "outputs": [
        {
          "output_type": "stream",
          "name": "stdout",
          "text": [
            "Macro-F1: 0.526493\n",
            "Micro-F1: 0.582090\n",
            "\n",
            "\n",
            "Macro-F1: 0.495601\n",
            "Micro-F1: 0.507463\n",
            "\n",
            "\n",
            "Macro-F1: 0.571203\n",
            "Micro-F1: 0.646617\n",
            "\n",
            "\n",
            "Macro-F1: 0.535213\n",
            "Micro-F1: 0.578947\n",
            "\n",
            "\n",
            "Macro-F1: 0.608220\n",
            "Micro-F1: 0.631579\n",
            "\n",
            "\n",
            "\n",
            "\n",
            "\n",
            "Média da Macro-F1: 0.589339\n",
            "Média da Micro-F1: 0.547346\n",
            "Desvio padrão da Macro-F1: 0.038819\n"
          ]
        }
      ]
    }
  ],
  "metadata": {
    "interpreter": {
      "hash": "fb2241dd84d24fce0f6d13cd3007375d8775345fba65719499b77c7a197c874f"
    },
    "kernelspec": {
      "display_name": "Python 3",
      "name": "python3"
    },
    "language_info": {
      "codemirror_mode": {
        "name": "ipython",
        "version": 3
      },
      "file_extension": ".py",
      "mimetype": "text/x-python",
      "name": "python",
      "nbconvert_exporter": "python",
      "pygments_lexer": "ipython3",
      "version": "3.8.10"
    },
    "colab": {
      "provenance": [],
      "gpuType": "T4"
    },
    "accelerator": "GPU"
  },
  "nbformat": 4,
  "nbformat_minor": 0
}