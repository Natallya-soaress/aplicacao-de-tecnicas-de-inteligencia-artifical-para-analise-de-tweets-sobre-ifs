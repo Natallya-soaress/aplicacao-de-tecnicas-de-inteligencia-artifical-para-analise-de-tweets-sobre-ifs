{
  "cells": [
    {
      "cell_type": "markdown",
      "metadata": {
        "id": "M7-_lNJRJWAH"
      },
      "source": [
        "# Parâmetros Gerais para realização do Experimento"
      ]
    },
    {
      "cell_type": "code",
      "source": [
        "numKfolds = 5\n",
        "\n",
        "idGPU = 0\n"
      ],
      "metadata": {
        "id": "sB1iLiajJSir"
      },
      "execution_count": 1,
      "outputs": []
    },
    {
      "cell_type": "markdown",
      "metadata": {
        "id": "1Lhn-eLPhV12"
      },
      "source": [
        "# Importando bibliotecas para uso com Python"
      ]
    },
    {
      "cell_type": "code",
      "source": [
        "!pip install unidecode"
      ],
      "metadata": {
        "id": "SxpX7uDK-dp9",
        "colab": {
          "base_uri": "https://localhost:8080/"
        },
        "outputId": "50b49244-4d9e-4594-d7e5-ca84f1ccfd18"
      },
      "execution_count": 2,
      "outputs": [
        {
          "output_type": "stream",
          "name": "stdout",
          "text": [
            "Requirement already satisfied: unidecode in /usr/local/lib/python3.10/dist-packages (1.3.7)\n"
          ]
        }
      ]
    },
    {
      "cell_type": "code",
      "execution_count": 3,
      "metadata": {
        "id": "leQx48bbak-6"
      },
      "outputs": [],
      "source": [
        "from io import BytesIO\n",
        "from zipfile import ZipFile\n",
        "from urllib.request import urlopen\n",
        "import os\n",
        "import gc\n",
        "import copy\n",
        "\n",
        "import re\n",
        "import string\n",
        "\n",
        "import numpy as np\n",
        "import pandas as pd\n",
        "from math import ceil\n",
        "\n",
        "import matplotlib.pyplot as plt\n",
        "\n",
        "from unidecode import unidecode\n",
        "\n",
        "import nltk\n",
        "from nltk.corpus import stopwords\n",
        "from nltk.stem import PorterStemmer\n",
        "\n",
        "from sklearn.model_selection import KFold, StratifiedKFold, train_test_split\n",
        "from sklearn.preprocessing import StandardScaler\n",
        "from sklearn.feature_extraction.text import TfidfVectorizer\n",
        "from sklearn.metrics import accuracy_score\n",
        "from sklearn.metrics import precision_score, recall_score\n",
        "from sklearn.metrics import f1_score, classification_report\n",
        "from sklearn.metrics import confusion_matrix, ConfusionMatrixDisplay\n",
        "\n",
        "import os\n",
        "import torch\n",
        "import torch.nn as nn\n",
        "from torch import optim\n",
        "from torch.utils.data import DataLoader\n",
        "\n",
        "import gensim.downloader as api\n",
        "from gensim.models import KeyedVectors"
      ]
    },
    {
      "cell_type": "code",
      "source": [
        "device = torch.device('cuda:'+str(idGPU) if torch.cuda.is_available() else 'cpu')\n",
        "write_path = 'model'"
      ],
      "metadata": {
        "id": "SDS6BJlUTNyX"
      },
      "execution_count": 4,
      "outputs": []
    },
    {
      "cell_type": "markdown",
      "metadata": {
        "id": "b_HaKWbuNTse"
      },
      "source": [
        "# Dataset\n",
        "\n",
        "\n"
      ]
    },
    {
      "cell_type": "code",
      "source": [
        "dataset = pd.read_csv('./dadosInstFed.csv')\n",
        "\n",
        "df = pd.DataFrame()\n",
        "df['x'] = dataset['text']\n",
        "df['y'] = dataset['polarity']"
      ],
      "metadata": {
        "id": "rPD7scS2R6B6"
      },
      "execution_count": 37,
      "outputs": []
    },
    {
      "cell_type": "code",
      "source": [
        "gc.collect()"
      ],
      "metadata": {
        "id": "7swmYzbaunvR",
        "colab": {
          "base_uri": "https://localhost:8080/"
        },
        "outputId": "096e3391-e790-4a26-9880-e75a09749b5c"
      },
      "execution_count": 38,
      "outputs": [
        {
          "output_type": "execute_result",
          "data": {
            "text/plain": [
              "56"
            ]
          },
          "metadata": {},
          "execution_count": 38
        }
      ]
    },
    {
      "cell_type": "markdown",
      "source": [
        "# Visualizando o Atributo Alvo"
      ],
      "metadata": {
        "id": "NpnXeVc834kF"
      }
    },
    {
      "cell_type": "code",
      "source": [
        "df[\"y\"].value_counts()"
      ],
      "metadata": {
        "id": "5_pQvhJKetUe",
        "colab": {
          "base_uri": "https://localhost:8080/"
        },
        "outputId": "dbda1dd9-6498-4dfc-9924-503c8b9a3568"
      },
      "execution_count": 39,
      "outputs": [
        {
          "output_type": "execute_result",
          "data": {
            "text/plain": [
              "0    613\n",
              "1    580\n",
              "2    259\n",
              "Name: y, dtype: int64"
            ]
          },
          "metadata": {},
          "execution_count": 39
        }
      ]
    },
    {
      "cell_type": "code",
      "source": [
        "color=['red','yellow', 'green']\n",
        "explode=[0, 0, 0]\n",
        "mylabels = ['Negativo', 'Neutro', 'Positivo']\n",
        "\n",
        "df['y'].value_counts().plot(kind='pie',  autopct='%1.0f%%', labels=mylabels, explode=explode,colors=color, shadow=True)\n",
        "plt.legend()"
      ],
      "metadata": {
        "id": "8Nazk067SYeG",
        "colab": {
          "base_uri": "https://localhost:8080/",
          "height": 423
        },
        "outputId": "09e122e3-b313-4064-a2d5-89161732bb4b"
      },
      "execution_count": 40,
      "outputs": [
        {
          "output_type": "execute_result",
          "data": {
            "text/plain": [
              "<matplotlib.legend.Legend at 0x7e16f1bdf5b0>"
            ]
          },
          "metadata": {},
          "execution_count": 40
        },
        {
          "output_type": "display_data",
          "data": {
            "text/plain": [
              "<Figure size 640x480 with 1 Axes>"
            ],
            "image/png": "[encoded data removed]"
          },
          "metadata": {}
        }
      ]
    },
    {
      "cell_type": "markdown",
      "source": [
        "# Funções configuradas para o Pré-Processamento de \"X\""
      ],
      "metadata": {
        "id": "TtNrh6AN44GK"
      }
    },
    {
      "cell_type": "markdown",
      "source": [
        "Função própria para Remover caracteres especiais (acentos e afins)"
      ],
      "metadata": {
        "id": "VbbluiMC9oEL"
      }
    },
    {
      "cell_type": "code",
      "source": [
        "# Remover caracteres especiais (acentos e afins)\n",
        "\n",
        "def remove_special_chars(input_text):\n",
        "    input_text = re.sub(u'[áãâà]', 'a', input_text)\n",
        "    input_text = re.sub(u'[éèê]', 'e', input_text)\n",
        "    input_text = re.sub(u'[íì]', 'i', input_text)\n",
        "    input_text = re.sub(u'[óõôò]', 'o', input_text)\n",
        "    input_text = re.sub(u'[úùü]', 'u', input_text)\n",
        "    input_text = re.sub(u'[ç]', 'c', input_text)\n",
        "    return input_text"
      ],
      "metadata": {
        "id": "V59TW_bW9mNV"
      },
      "execution_count": 41,
      "outputs": []
    },
    {
      "cell_type": "markdown",
      "source": [
        "Função própria para Remover dígitos"
      ],
      "metadata": {
        "id": "KXqE8D_k_e0w"
      }
    },
    {
      "cell_type": "code",
      "source": [
        "def remove_digits(input_text):\n",
        "    import re\n",
        "    return re.sub('\\d+', '', input_text)"
      ],
      "metadata": {
        "id": "SPY7TdxU_huO"
      },
      "execution_count": 42,
      "outputs": []
    },
    {
      "cell_type": "markdown",
      "source": [
        "Função própria para Definir Lista de StopWords"
      ],
      "metadata": {
        "id": "Uo4LCCz8BYZ7"
      }
    },
    {
      "cell_type": "code",
      "source": [
        "def define_list_stopwords(lg):\n",
        "\n",
        "  try:\n",
        "    stopwords_list = stopwords.words(lg)\n",
        "  except:\n",
        "    nltk.download('stopwords')\n",
        "    stopwords_list = stopwords.words(lg)\n",
        "\n",
        "  return stopwords_list"
      ],
      "metadata": {
        "id": "jp8RaklxA3MC"
      },
      "execution_count": 43,
      "outputs": []
    },
    {
      "cell_type": "markdown",
      "source": [
        "Função própria para Remover Stopwords"
      ],
      "metadata": {
        "id": "KlaxYUpuAw9k"
      }
    },
    {
      "cell_type": "code",
      "source": [
        "def remove_stopwords(input_text):\n",
        "    stopwords_list = define_list_stopwords('portuguese')\n",
        "    words = input_text.split()\n",
        "    clean_words = [word for word in words if (word not in stopwords_list) and len(word) > 1]\n",
        "    return \" \".join(clean_words)"
      ],
      "metadata": {
        "id": "f0OK0Xt4BTtg"
      },
      "execution_count": 44,
      "outputs": []
    },
    {
      "cell_type": "markdown",
      "source": [
        "Função própria para Radicalização (Stemming)"
      ],
      "metadata": {
        "id": "LHIQ6PnqCglp"
      }
    },
    {
      "cell_type": "code",
      "source": [
        "def stemming(input_text):\n",
        "    porter = PorterStemmer()\n",
        "    words = input_text.split()\n",
        "    stemmed_words = [porter.stem(word) for word in words]\n",
        "    return \" \".join(stemmed_words)"
      ],
      "metadata": {
        "id": "AQXZKsqTClGG"
      },
      "execution_count": 45,
      "outputs": []
    },
    {
      "cell_type": "markdown",
      "source": [
        "Função própria para remover *URL*"
      ],
      "metadata": {
        "id": "gcZ0lwm9WwLq"
      }
    },
    {
      "cell_type": "code",
      "source": [
        "def removeURLs(input_text):\n",
        "\n",
        "  URLless_string = re.sub(r\"http\\S+\", \"\", str(input_text))\n",
        "  return (URLless_string)"
      ],
      "metadata": {
        "id": "TTQZ3dsbWy1J"
      },
      "execution_count": 46,
      "outputs": []
    },
    {
      "cell_type": "markdown",
      "source": [
        "# Pré-Processamento de \"X\""
      ],
      "metadata": {
        "id": "krKBR-CTDM3a"
      }
    },
    {
      "cell_type": "code",
      "source": [
        "### Função para o pipeline completo do Pré-processamento de \"X\"\n",
        "\n",
        "def pipeline_preprocessamento(dfParaProcessar):\n",
        "\n",
        "  # Lowercase\n",
        "  dfParaProcessar[\"x\"] = dfParaProcessar[\"x\"].str.lower()\n",
        "\n",
        "  # Remoção de pontuação e símbolos\n",
        "\n",
        "  # Tabela de pontuação\n",
        "  punctuation = string.punctuation\n",
        "  # Criar tabela de tradução que susbstituirá toda pontuação por um espaço em branco\n",
        "\n",
        "  trantab = str.maketrans(punctuation, len(punctuation)*' ')\n",
        "  dfParaProcessar[\"x\"] = dfParaProcessar[\"x\"].apply(lambda x: x.translate(trantab))\n",
        "\n",
        "  # Remover caracteres especiais (acentos e afins) #### SOMENTE NO TFIDF\n",
        "\n",
        "  # dfParaProcessar[\"x\"] = dfParaProcessar[\"x\"].apply(lambda x: remove_special_chars(x))\n",
        "\n",
        "  # Remover caracteres especiais com Unidecode\n",
        "\n",
        "  # dfParaProcessar[\"x\"] = dfParaProcessar[\"x\"].apply(lambda x: unidecode(x))\n",
        "\n",
        "  # Remover dígitos\n",
        "\n",
        "  dfParaProcessar[\"x\"] = dfParaProcessar[\"x\"].apply(lambda x: remove_digits(x))\n",
        "\n",
        "  # Remover stopwords\n",
        "\n",
        "  # dfParaProcessar[\"x\"] = dfParaProcessar[\"x\"].apply(lambda x: remove_stopwords(x))\n",
        "\n",
        "  # Remover URLs\n",
        "\n",
        "  dfParaProcessar[\"x\"] = dfParaProcessar[\"x\"].apply(lambda x: removeURLs(x))\n",
        "\n",
        "  # STEMMING COMENTADO PARA NÃO SER REALIZADO\n",
        "\n",
        "  ####dfParaProcessar[\"x\"] = dfParaProcessar[\"x\"].apply(lambda x: stemming(x))\n",
        "\n",
        "\n",
        "  return dfParaProcessar"
      ],
      "metadata": {
        "id": "lwokmQYKDPjm"
      },
      "execution_count": 47,
      "outputs": []
    },
    {
      "cell_type": "code",
      "source": [
        "### realizar o Pré-Processamento Completo\n",
        "\n",
        "df = pipeline_preprocessamento(df)\n",
        "df"
      ],
      "metadata": {
        "id": "D28ilfsLE-Kr",
        "colab": {
          "base_uri": "https://localhost:8080/",
          "height": 424
        },
        "outputId": "059633d3-daea-4cbd-8c1f-5d1b2dd00044"
      },
      "execution_count": 48,
      "outputs": [
        {
          "output_type": "execute_result",
          "data": {
            "text/plain": [
              "                                                      x  y\n",
              "0                   o instituto federal esta me matando  0\n",
              "1     o que voce acha de instituto federal é eu acho...  0\n",
              "2     amigos vou fazer prova no instituto federal no...  1\n",
              "3              pedro por aaii  sou do instituto federal  1\n",
              "4     amanhã tem instituto federal dnv  q vontade de...  0\n",
              "...                                                 ... ..\n",
              "1447   igcazz eu estudo num instituto federal e tudo...  1\n",
              "1448  queria  ser feliz obstáculo  estudo em institu...  0\n",
              "1449            vai se foder instituto federal da bahia  0\n",
              "1450  e o gatinho aqui que passou no instituto feder...  2\n",
              "1451  se não vacinará  também não estudará  próximo ...  1\n",
              "\n",
              "[1452 rows x 2 columns]"
            ],
            "text/html": [
              "\n",
              "  <div id=\"df-cdae8422-4513-4d36-a387-a6b526548046\" class=\"colab-df-container\">\n",
              "    <div>\n",
              "<style scoped>\n",
              "    .dataframe tbody tr th:only-of-type {\n",
              "        vertical-align: middle;\n",
              "    }\n",
              "\n",
              "    .dataframe tbody tr th {\n",
              "        vertical-align: top;\n",
              "    }\n",
              "\n",
              "    .dataframe thead th {\n",
              "        text-align: right;\n",
              "    }\n",
              "</style>\n",
              "<table border=\"1\" class=\"dataframe\">\n",
              "  <thead>\n",
              "    <tr style=\"text-align: right;\">\n",
              "      <th></th>\n",
              "      <th>x</th>\n",
              "      <th>y</th>\n",
              "    </tr>\n",
              "  </thead>\n",
              "  <tbody>\n",
              "    <tr>\n",
              "      <th>0</th>\n",
              "      <td>o instituto federal esta me matando</td>\n",
              "      <td>0</td>\n",
              "    </tr>\n",
              "    <tr>\n",
              "      <th>1</th>\n",
              "      <td>o que voce acha de instituto federal é eu acho...</td>\n",
              "      <td>0</td>\n",
              "    </tr>\n",
              "    <tr>\n",
              "      <th>2</th>\n",
              "      <td>amigos vou fazer prova no instituto federal no...</td>\n",
              "      <td>1</td>\n",
              "    </tr>\n",
              "    <tr>\n",
              "      <th>3</th>\n",
              "      <td>pedro por aaii  sou do instituto federal</td>\n",
              "      <td>1</td>\n",
              "    </tr>\n",
              "    <tr>\n",
              "      <th>4</th>\n",
              "      <td>amanhã tem instituto federal dnv  q vontade de...</td>\n",
              "      <td>0</td>\n",
              "    </tr>\n",
              "    <tr>\n",
              "      <th>...</th>\n",
              "      <td>...</td>\n",
              "      <td>...</td>\n",
              "    </tr>\n",
              "    <tr>\n",
              "      <th>1447</th>\n",
              "      <td>igcazz eu estudo num instituto federal e tudo...</td>\n",
              "      <td>1</td>\n",
              "    </tr>\n",
              "    <tr>\n",
              "      <th>1448</th>\n",
              "      <td>queria  ser feliz obstáculo  estudo em institu...</td>\n",
              "      <td>0</td>\n",
              "    </tr>\n",
              "    <tr>\n",
              "      <th>1449</th>\n",
              "      <td>vai se foder instituto federal da bahia</td>\n",
              "      <td>0</td>\n",
              "    </tr>\n",
              "    <tr>\n",
              "      <th>1450</th>\n",
              "      <td>e o gatinho aqui que passou no instituto feder...</td>\n",
              "      <td>2</td>\n",
              "    </tr>\n",
              "    <tr>\n",
              "      <th>1451</th>\n",
              "      <td>se não vacinará  também não estudará  próximo ...</td>\n",
              "      <td>1</td>\n",
              "    </tr>\n",
              "  </tbody>\n",
              "</table>\n",
              "<p>1452 rows × 2 columns</p>\n",
              "</div>\n",
              "    <div class=\"colab-df-buttons\">\n",
              "\n",
              "  <div class=\"colab-df-container\">\n",
              "    <button class=\"colab-df-convert\" onclick=\"convertToInteractive('df-cdae8422-4513-4d36-a387-a6b526548046')\"\n",
              "            title=\"Convert this dataframe to an interactive table.\"\n",
              "            style=\"display:none;\">\n",
              "\n",
              "  <svg xmlns=\"http://www.w3.org/2000/svg\" height=\"24px\" viewBox=\"0 -960 960 960\">\n",
              "    <path d=\"M120-120v-720h720v720H120Zm60-500h600v-160H180v160Zm220 220h160v-160H400v160Zm0 220h160v-160H400v160ZM180-400h160v-160H180v160Zm440 0h160v-160H620v160ZM180-180h160v-160H180v160Zm440 0h160v-160H620v160Z\"/>\n",
              "  </svg>\n",
              "    </button>\n",
              "\n",
              "  <style>\n",
              "    .colab-df-container {\n",
              "      display:flex;\n",
              "      gap: 12px;\n",
              "    }\n",
              "\n",
              "    .colab-df-convert {\n",
              "      background-color: #E8F0FE;\n",
              "      border: none;\n",
              "      border-radius: 50%;\n",
              "      cursor: pointer;\n",
              "      display: none;\n",
              "      fill: #1967D2;\n",
              "      height: 32px;\n",
              "      padding: 0 0 0 0;\n",
              "      width: 32px;\n",
              "    }\n",
              "\n",
              "    .colab-df-convert:hover {\n",
              "      background-color: #E2EBFA;\n",
              "      box-shadow: 0px 1px 2px rgba(60, 64, 67, 0.3), 0px 1px 3px 1px rgba(60, 64, 67, 0.15);\n",
              "      fill: #174EA6;\n",
              "    }\n",
              "\n",
              "    .colab-df-buttons div {\n",
              "      margin-bottom: 4px;\n",
              "    }\n",
              "\n",
              "    [theme=dark] .colab-df-convert {\n",
              "      background-color: #3B4455;\n",
              "      fill: #D2E3FC;\n",
              "    }\n",
              "\n",
              "    [theme=dark] .colab-df-convert:hover {\n",
              "      background-color: #434B5C;\n",
              "      box-shadow: 0px 1px 3px 1px rgba(0, 0, 0, 0.15);\n",
              "      filter: drop-shadow(0px 1px 2px rgba(0, 0, 0, 0.3));\n",
              "      fill: #FFFFFF;\n",
              "    }\n",
              "  </style>\n",
              "\n",
              "    <script>\n",
              "      const buttonEl =\n",
              "        document.querySelector('#df-cdae8422-4513-4d36-a387-a6b526548046 button.colab-df-convert');\n",
              "      buttonEl.style.display =\n",
              "        google.colab.kernel.accessAllowed ? 'block' : 'none';\n",
              "\n",
              "      async function convertToInteractive(key) {\n",
              "        const element = document.querySelector('#df-cdae8422-4513-4d36-a387-a6b526548046');\n",
              "        const dataTable =\n",
              "          await google.colab.kernel.invokeFunction('convertToInteractive',\n",
              "                                                    [key], {});\n",
              "        if (!dataTable) return;\n",
              "\n",
              "        const docLinkHtml = 'Like what you see? Visit the ' +\n",
              "          '<a target=\"_blank\" href=https://colab.research.google.com/notebooks/data_table.ipynb>data table notebook</a>'\n",
              "          + ' to learn more about interactive tables.';\n",
              "        element.innerHTML = '';\n",
              "        dataTable['output_type'] = 'display_data';\n",
              "        await google.colab.output.renderOutput(dataTable, element);\n",
              "        const docLink = document.createElement('div');\n",
              "        docLink.innerHTML = docLinkHtml;\n",
              "        element.appendChild(docLink);\n",
              "      }\n",
              "    </script>\n",
              "  </div>\n",
              "\n",
              "\n",
              "<div id=\"df-e7b75fda-dd9e-4565-9af9-84e5391109ab\">\n",
              "  <button class=\"colab-df-quickchart\" onclick=\"quickchart('df-e7b75fda-dd9e-4565-9af9-84e5391109ab')\"\n",
              "            title=\"Suggest charts\"\n",
              "            style=\"display:none;\">\n",
              "\n",
              "<svg xmlns=\"http://www.w3.org/2000/svg\" height=\"24px\"viewBox=\"0 0 24 24\"\n",
              "     width=\"24px\">\n",
              "    <g>\n",
              "        <path d=\"M19 3H5c-1.1 0-2 .9-2 2v14c0 1.1.9 2 2 2h14c1.1 0 2-.9 2-2V5c0-1.1-.9-2-2-2zM9 17H7v-7h2v7zm4 0h-2V7h2v10zm4 0h-2v-4h2v4z\"/>\n",
              "    </g>\n",
              "</svg>\n",
              "  </button>\n",
              "\n",
              "<style>\n",
              "  .colab-df-quickchart {\n",
              "      --bg-color: #E8F0FE;\n",
              "      --fill-color: #1967D2;\n",
              "      --hover-bg-color: #E2EBFA;\n",
              "      --hover-fill-color: #174EA6;\n",
              "      --disabled-fill-color: #AAA;\n",
              "      --disabled-bg-color: #DDD;\n",
              "  }\n",
              "\n",
              "  [theme=dark] .colab-df-quickchart {\n",
              "      --bg-color: #3B4455;\n",
              "      --fill-color: #D2E3FC;\n",
              "      --hover-bg-color: #434B5C;\n",
              "      --hover-fill-color: #FFFFFF;\n",
              "      --disabled-bg-color: #3B4455;\n",
              "      --disabled-fill-color: #666;\n",
              "  }\n",
              "\n",
              "  .colab-df-quickchart {\n",
              "    background-color: var(--bg-color);\n",
              "    border: none;\n",
              "    border-radius: 50%;\n",
              "    cursor: pointer;\n",
              "    display: none;\n",
              "    fill: var(--fill-color);\n",
              "    height: 32px;\n",
              "    padding: 0;\n",
              "    width: 32px;\n",
              "  }\n",
              "\n",
              "  .colab-df-quickchart:hover {\n",
              "    background-color: var(--hover-bg-color);\n",
              "    box-shadow: 0 1px 2px rgba(60, 64, 67, 0.3), 0 1px 3px 1px rgba(60, 64, 67, 0.15);\n",
              "    fill: var(--button-hover-fill-color);\n",
              "  }\n",
              "\n",
              "  .colab-df-quickchart-complete:disabled,\n",
              "  .colab-df-quickchart-complete:disabled:hover {\n",
              "    background-color: var(--disabled-bg-color);\n",
              "    fill: var(--disabled-fill-color);\n",
              "    box-shadow: none;\n",
              "  }\n",
              "\n",
              "  .colab-df-spinner {\n",
              "    border: 2px solid var(--fill-color);\n",
              "    border-color: transparent;\n",
              "    border-bottom-color: var(--fill-color);\n",
              "    animation:\n",
              "      spin 1s steps(1) infinite;\n",
              "  }\n",
              "\n",
              "  @keyframes spin {\n",
              "    0% {\n",
              "      border-color: transparent;\n",
              "      border-bottom-color: var(--fill-color);\n",
              "      border-left-color: var(--fill-color);\n",
              "    }\n",
              "    20% {\n",
              "      border-color: transparent;\n",
              "      border-left-color: var(--fill-color);\n",
              "      border-top-color: var(--fill-color);\n",
              "    }\n",
              "    30% {\n",
              "      border-color: transparent;\n",
              "      border-left-color: var(--fill-color);\n",
              "      border-top-color: var(--fill-color);\n",
              "      border-right-color: var(--fill-color);\n",
              "    }\n",
              "    40% {\n",
              "      border-color: transparent;\n",
              "      border-right-color: var(--fill-color);\n",
              "      border-top-color: var(--fill-color);\n",
              "    }\n",
              "    60% {\n",
              "      border-color: transparent;\n",
              "      border-right-color: var(--fill-color);\n",
              "    }\n",
              "    80% {\n",
              "      border-color: transparent;\n",
              "      border-right-color: var(--fill-color);\n",
              "      border-bottom-color: var(--fill-color);\n",
              "    }\n",
              "    90% {\n",
              "      border-color: transparent;\n",
              "      border-bottom-color: var(--fill-color);\n",
              "    }\n",
              "  }\n",
              "</style>\n",
              "\n",
              "  <script>\n",
              "    async function quickchart(key) {\n",
              "      const quickchartButtonEl =\n",
              "        document.querySelector('#' + key + ' button');\n",
              "      quickchartButtonEl.disabled = true;  // To prevent multiple clicks.\n",
              "      quickchartButtonEl.classList.add('colab-df-spinner');\n",
              "      try {\n",
              "        const charts = await google.colab.kernel.invokeFunction(\n",
              "            'suggestCharts', [key], {});\n",
              "      } catch (error) {\n",
              "        console.error('Error during call to suggestCharts:', error);\n",
              "      }\n",
              "      quickchartButtonEl.classList.remove('colab-df-spinner');\n",
              "      quickchartButtonEl.classList.add('colab-df-quickchart-complete');\n",
              "    }\n",
              "    (() => {\n",
              "      let quickchartButtonEl =\n",
              "        document.querySelector('#df-e7b75fda-dd9e-4565-9af9-84e5391109ab button');\n",
              "      quickchartButtonEl.style.display =\n",
              "        google.colab.kernel.accessAllowed ? 'block' : 'none';\n",
              "    })();\n",
              "  </script>\n",
              "</div>\n",
              "    </div>\n",
              "  </div>\n"
            ]
          },
          "metadata": {},
          "execution_count": 48
        }
      ]
    },
    {
      "cell_type": "markdown",
      "source": [
        "# Validar as palavras\n",
        "\n"
      ],
      "metadata": {
        "id": "N5zRlU2w7B6v"
      }
    },
    {
      "cell_type": "markdown",
      "source": [
        "### Palavras que ocorrem menos de 5 vezes no corpus são retiradas (apenas TDF-IDF, GLOVE e FASTTEXT)\n",
        "\n"
      ],
      "metadata": {
        "id": "DlpE679g6N5i"
      }
    },
    {
      "cell_type": "markdown",
      "source": [
        "Função própria para identificar palavras com frequência menor que estabelecida"
      ],
      "metadata": {
        "id": "qhaXcRIKQ7ji"
      }
    },
    {
      "cell_type": "code",
      "source": [
        "def listarPalavrasMenosFrequentes(xParaProcessar, freqMinimaParaProcessar):\n",
        "    cnt = xParaProcessar.str.split(expand=True).stack().value_counts()\n",
        "    lista = []\n",
        "    for w, c in zip(cnt.index, cnt):\n",
        "        if(c < freqMinimaParaProcessar):\n",
        "          lista.append(w)\n",
        "    return lista\n"
      ],
      "metadata": {
        "id": "gLEq2CLxRFDM"
      },
      "execution_count": 49,
      "outputs": []
    },
    {
      "cell_type": "code",
      "source": [
        "freqMinima = 5\n",
        "palavrasParaRemover = listarPalavrasMenosFrequentes(df[\"x\"], freqMinima)"
      ],
      "metadata": {
        "id": "aZnEUdEwY_LC"
      },
      "execution_count": 50,
      "outputs": []
    },
    {
      "cell_type": "markdown",
      "source": [
        "Função para remover palavras conforme uma lista definida"
      ],
      "metadata": {
        "id": "wcom5EZRboWF"
      }
    },
    {
      "cell_type": "code",
      "source": [
        "def remove_words_in_list(input_text, word_list):\n",
        "\n",
        "    words = input_text.split()\n",
        "    clean_words = [word for word in words if (word not in word_list) and len(word) > 1]\n",
        "    return \" \".join(clean_words)"
      ],
      "metadata": {
        "id": "j-dMRU9WSyw6"
      },
      "execution_count": 51,
      "outputs": []
    },
    {
      "cell_type": "code",
      "source": [
        "df[\"x\"] = df[\"x\"].apply(lambda x: remove_words_in_list(x, palavrasParaRemover))"
      ],
      "metadata": {
        "id": "Sp0mSXAfVhW8"
      },
      "execution_count": 52,
      "outputs": []
    },
    {
      "cell_type": "markdown",
      "source": [
        "# Instanciando o GloVe"
      ],
      "metadata": {
        "id": "AFLcU6Jx2vPn"
      }
    },
    {
      "cell_type": "code",
      "source": [
        "def download_and_unzip(url, extract_to='.'):\n",
        "    http_response = urlopen(url)\n",
        "    zipfile = ZipFile(BytesIO(http_response.read()))\n",
        "    zipfile.extractall(path=extract_to)"
      ],
      "metadata": {
        "id": "yfX1ldX2zsHE"
      },
      "execution_count": 53,
      "outputs": []
    },
    {
      "cell_type": "code",
      "source": [
        "download_and_unzip(\"http://143.107.183.175:22980/download.php?file=embeddings/glove/glove_s100.zip\")"
      ],
      "metadata": {
        "id": "tH5Qtkrl0aRa"
      },
      "execution_count": 54,
      "outputs": []
    },
    {
      "cell_type": "code",
      "source": [
        "glove = KeyedVectors.load_word2vec_format('/content/glove_s100.txt')"
      ],
      "metadata": {
        "id": "M7oQWxM4yTlJ"
      },
      "execution_count": 55,
      "outputs": []
    },
    {
      "cell_type": "markdown",
      "source": [
        "### Verificação se as palavras estão na base do Glove\n",
        "\n"
      ],
      "metadata": {
        "id": "NmIiaWZW6t2h"
      }
    },
    {
      "cell_type": "markdown",
      "source": [
        "Função para fazer a limpeza de palavras que não estão no dicionário"
      ],
      "metadata": {
        "id": "_TNjzflLsbkY"
      }
    },
    {
      "cell_type": "code",
      "source": [
        "def remove_words_not_in_dic(input_text, dic):\n",
        "    words = input_text.split()\n",
        "\n",
        "    clean_words = [word for word in words if (word in dic) and len(word) > 1]\n",
        "    return \" \".join(clean_words)"
      ],
      "metadata": {
        "id": "tT5usSogsi2w"
      },
      "execution_count": 56,
      "outputs": []
    },
    {
      "cell_type": "code",
      "source": [
        "df[\"x\"] = df[\"x\"].apply(lambda x: remove_words_not_in_dic(x, glove.index_to_key))"
      ],
      "metadata": {
        "id": "abgr0KzqtB78"
      },
      "execution_count": 57,
      "outputs": []
    },
    {
      "cell_type": "code",
      "source": [
        "df"
      ],
      "metadata": {
        "colab": {
          "base_uri": "https://localhost:8080/",
          "height": 424
        },
        "id": "VaR7rKnlxjyR",
        "outputId": "72b21fe4-a37d-46bf-f9b4-d9ecad204957"
      },
      "execution_count": 58,
      "outputs": [
        {
          "output_type": "execute_result",
          "data": {
            "text/plain": [
              "                                                      x  y\n",
              "0                          instituto federal me matando  0\n",
              "1     que voce acha de instituto federal eu acho que...  0\n",
              "2     amigos vou fazer prova no instituto federal no...  1\n",
              "3                          por sou do instituto federal  1\n",
              "4     amanhã tem instituto federal dnv vontade de me...  0\n",
              "...                                                 ... ..\n",
              "1447  eu estudo num instituto federal tudo mais mas ...  1\n",
              "1448    queria ser feliz estudo em instituto federal co  0\n",
              "1449            vai se foder instituto federal da bahia  0\n",
              "1450  aqui que passou no instituto federal do ceará ...  2\n",
              "1451                se não também não instituto federal  1\n",
              "\n",
              "[1452 rows x 2 columns]"
            ],
            "text/html": [
              "\n",
              "  <div id=\"df-48e0a1ee-6203-4d9f-b30c-25c1f653102e\" class=\"colab-df-container\">\n",
              "    <div>\n",
              "<style scoped>\n",
              "    .dataframe tbody tr th:only-of-type {\n",
              "        vertical-align: middle;\n",
              "    }\n",
              "\n",
              "    .dataframe tbody tr th {\n",
              "        vertical-align: top;\n",
              "    }\n",
              "\n",
              "    .dataframe thead th {\n",
              "        text-align: right;\n",
              "    }\n",
              "</style>\n",
              "<table border=\"1\" class=\"dataframe\">\n",
              "  <thead>\n",
              "    <tr style=\"text-align: right;\">\n",
              "      <th></th>\n",
              "      <th>x</th>\n",
              "      <th>y</th>\n",
              "    </tr>\n",
              "  </thead>\n",
              "  <tbody>\n",
              "    <tr>\n",
              "      <th>0</th>\n",
              "      <td>instituto federal me matando</td>\n",
              "      <td>0</td>\n",
              "    </tr>\n",
              "    <tr>\n",
              "      <th>1</th>\n",
              "      <td>que voce acha de instituto federal eu acho que...</td>\n",
              "      <td>0</td>\n",
              "    </tr>\n",
              "    <tr>\n",
              "      <th>2</th>\n",
              "      <td>amigos vou fazer prova no instituto federal no...</td>\n",
              "      <td>1</td>\n",
              "    </tr>\n",
              "    <tr>\n",
              "      <th>3</th>\n",
              "      <td>por sou do instituto federal</td>\n",
              "      <td>1</td>\n",
              "    </tr>\n",
              "    <tr>\n",
              "      <th>4</th>\n",
              "      <td>amanhã tem instituto federal dnv vontade de me...</td>\n",
              "      <td>0</td>\n",
              "    </tr>\n",
              "    <tr>\n",
              "      <th>...</th>\n",
              "      <td>...</td>\n",
              "      <td>...</td>\n",
              "    </tr>\n",
              "    <tr>\n",
              "      <th>1447</th>\n",
              "      <td>eu estudo num instituto federal tudo mais mas ...</td>\n",
              "      <td>1</td>\n",
              "    </tr>\n",
              "    <tr>\n",
              "      <th>1448</th>\n",
              "      <td>queria ser feliz estudo em instituto federal co</td>\n",
              "      <td>0</td>\n",
              "    </tr>\n",
              "    <tr>\n",
              "      <th>1449</th>\n",
              "      <td>vai se foder instituto federal da bahia</td>\n",
              "      <td>0</td>\n",
              "    </tr>\n",
              "    <tr>\n",
              "      <th>1450</th>\n",
              "      <td>aqui que passou no instituto federal do ceará ...</td>\n",
              "      <td>2</td>\n",
              "    </tr>\n",
              "    <tr>\n",
              "      <th>1451</th>\n",
              "      <td>se não também não instituto federal</td>\n",
              "      <td>1</td>\n",
              "    </tr>\n",
              "  </tbody>\n",
              "</table>\n",
              "<p>1452 rows × 2 columns</p>\n",
              "</div>\n",
              "    <div class=\"colab-df-buttons\">\n",
              "\n",
              "  <div class=\"colab-df-container\">\n",
              "    <button class=\"colab-df-convert\" onclick=\"convertToInteractive('df-48e0a1ee-6203-4d9f-b30c-25c1f653102e')\"\n",
              "            title=\"Convert this dataframe to an interactive table.\"\n",
              "            style=\"display:none;\">\n",
              "\n",
              "  <svg xmlns=\"http://www.w3.org/2000/svg\" height=\"24px\" viewBox=\"0 -960 960 960\">\n",
              "    <path d=\"M120-120v-720h720v720H120Zm60-500h600v-160H180v160Zm220 220h160v-160H400v160Zm0 220h160v-160H400v160ZM180-400h160v-160H180v160Zm440 0h160v-160H620v160ZM180-180h160v-160H180v160Zm440 0h160v-160H620v160Z\"/>\n",
              "  </svg>\n",
              "    </button>\n",
              "\n",
              "  <style>\n",
              "    .colab-df-container {\n",
              "      display:flex;\n",
              "      gap: 12px;\n",
              "    }\n",
              "\n",
              "    .colab-df-convert {\n",
              "      background-color: #E8F0FE;\n",
              "      border: none;\n",
              "      border-radius: 50%;\n",
              "      cursor: pointer;\n",
              "      display: none;\n",
              "      fill: #1967D2;\n",
              "      height: 32px;\n",
              "      padding: 0 0 0 0;\n",
              "      width: 32px;\n",
              "    }\n",
              "\n",
              "    .colab-df-convert:hover {\n",
              "      background-color: #E2EBFA;\n",
              "      box-shadow: 0px 1px 2px rgba(60, 64, 67, 0.3), 0px 1px 3px 1px rgba(60, 64, 67, 0.15);\n",
              "      fill: #174EA6;\n",
              "    }\n",
              "\n",
              "    .colab-df-buttons div {\n",
              "      margin-bottom: 4px;\n",
              "    }\n",
              "\n",
              "    [theme=dark] .colab-df-convert {\n",
              "      background-color: #3B4455;\n",
              "      fill: #D2E3FC;\n",
              "    }\n",
              "\n",
              "    [theme=dark] .colab-df-convert:hover {\n",
              "      background-color: #434B5C;\n",
              "      box-shadow: 0px 1px 3px 1px rgba(0, 0, 0, 0.15);\n",
              "      filter: drop-shadow(0px 1px 2px rgba(0, 0, 0, 0.3));\n",
              "      fill: #FFFFFF;\n",
              "    }\n",
              "  </style>\n",
              "\n",
              "    <script>\n",
              "      const buttonEl =\n",
              "        document.querySelector('#df-48e0a1ee-6203-4d9f-b30c-25c1f653102e button.colab-df-convert');\n",
              "      buttonEl.style.display =\n",
              "        google.colab.kernel.accessAllowed ? 'block' : 'none';\n",
              "\n",
              "      async function convertToInteractive(key) {\n",
              "        const element = document.querySelector('#df-48e0a1ee-6203-4d9f-b30c-25c1f653102e');\n",
              "        const dataTable =\n",
              "          await google.colab.kernel.invokeFunction('convertToInteractive',\n",
              "                                                    [key], {});\n",
              "        if (!dataTable) return;\n",
              "\n",
              "        const docLinkHtml = 'Like what you see? Visit the ' +\n",
              "          '<a target=\"_blank\" href=https://colab.research.google.com/notebooks/data_table.ipynb>data table notebook</a>'\n",
              "          + ' to learn more about interactive tables.';\n",
              "        element.innerHTML = '';\n",
              "        dataTable['output_type'] = 'display_data';\n",
              "        await google.colab.output.renderOutput(dataTable, element);\n",
              "        const docLink = document.createElement('div');\n",
              "        docLink.innerHTML = docLinkHtml;\n",
              "        element.appendChild(docLink);\n",
              "      }\n",
              "    </script>\n",
              "  </div>\n",
              "\n",
              "\n",
              "<div id=\"df-33dbad88-3353-4028-8bb0-f24ef7c64c87\">\n",
              "  <button class=\"colab-df-quickchart\" onclick=\"quickchart('df-33dbad88-3353-4028-8bb0-f24ef7c64c87')\"\n",
              "            title=\"Suggest charts\"\n",
              "            style=\"display:none;\">\n",
              "\n",
              "<svg xmlns=\"http://www.w3.org/2000/svg\" height=\"24px\"viewBox=\"0 0 24 24\"\n",
              "     width=\"24px\">\n",
              "    <g>\n",
              "        <path d=\"M19 3H5c-1.1 0-2 .9-2 2v14c0 1.1.9 2 2 2h14c1.1 0 2-.9 2-2V5c0-1.1-.9-2-2-2zM9 17H7v-7h2v7zm4 0h-2V7h2v10zm4 0h-2v-4h2v4z\"/>\n",
              "    </g>\n",
              "</svg>\n",
              "  </button>\n",
              "\n",
              "<style>\n",
              "  .colab-df-quickchart {\n",
              "      --bg-color: #E8F0FE;\n",
              "      --fill-color: #1967D2;\n",
              "      --hover-bg-color: #E2EBFA;\n",
              "      --hover-fill-color: #174EA6;\n",
              "      --disabled-fill-color: #AAA;\n",
              "      --disabled-bg-color: #DDD;\n",
              "  }\n",
              "\n",
              "  [theme=dark] .colab-df-quickchart {\n",
              "      --bg-color: #3B4455;\n",
              "      --fill-color: #D2E3FC;\n",
              "      --hover-bg-color: #434B5C;\n",
              "      --hover-fill-color: #FFFFFF;\n",
              "      --disabled-bg-color: #3B4455;\n",
              "      --disabled-fill-color: #666;\n",
              "  }\n",
              "\n",
              "  .colab-df-quickchart {\n",
              "    background-color: var(--bg-color);\n",
              "    border: none;\n",
              "    border-radius: 50%;\n",
              "    cursor: pointer;\n",
              "    display: none;\n",
              "    fill: var(--fill-color);\n",
              "    height: 32px;\n",
              "    padding: 0;\n",
              "    width: 32px;\n",
              "  }\n",
              "\n",
              "  .colab-df-quickchart:hover {\n",
              "    background-color: var(--hover-bg-color);\n",
              "    box-shadow: 0 1px 2px rgba(60, 64, 67, 0.3), 0 1px 3px 1px rgba(60, 64, 67, 0.15);\n",
              "    fill: var(--button-hover-fill-color);\n",
              "  }\n",
              "\n",
              "  .colab-df-quickchart-complete:disabled,\n",
              "  .colab-df-quickchart-complete:disabled:hover {\n",
              "    background-color: var(--disabled-bg-color);\n",
              "    fill: var(--disabled-fill-color);\n",
              "    box-shadow: none;\n",
              "  }\n",
              "\n",
              "  .colab-df-spinner {\n",
              "    border: 2px solid var(--fill-color);\n",
              "    border-color: transparent;\n",
              "    border-bottom-color: var(--fill-color);\n",
              "    animation:\n",
              "      spin 1s steps(1) infinite;\n",
              "  }\n",
              "\n",
              "  @keyframes spin {\n",
              "    0% {\n",
              "      border-color: transparent;\n",
              "      border-bottom-color: var(--fill-color);\n",
              "      border-left-color: var(--fill-color);\n",
              "    }\n",
              "    20% {\n",
              "      border-color: transparent;\n",
              "      border-left-color: var(--fill-color);\n",
              "      border-top-color: var(--fill-color);\n",
              "    }\n",
              "    30% {\n",
              "      border-color: transparent;\n",
              "      border-left-color: var(--fill-color);\n",
              "      border-top-color: var(--fill-color);\n",
              "      border-right-color: var(--fill-color);\n",
              "    }\n",
              "    40% {\n",
              "      border-color: transparent;\n",
              "      border-right-color: var(--fill-color);\n",
              "      border-top-color: var(--fill-color);\n",
              "    }\n",
              "    60% {\n",
              "      border-color: transparent;\n",
              "      border-right-color: var(--fill-color);\n",
              "    }\n",
              "    80% {\n",
              "      border-color: transparent;\n",
              "      border-right-color: var(--fill-color);\n",
              "      border-bottom-color: var(--fill-color);\n",
              "    }\n",
              "    90% {\n",
              "      border-color: transparent;\n",
              "      border-bottom-color: var(--fill-color);\n",
              "    }\n",
              "  }\n",
              "</style>\n",
              "\n",
              "  <script>\n",
              "    async function quickchart(key) {\n",
              "      const quickchartButtonEl =\n",
              "        document.querySelector('#' + key + ' button');\n",
              "      quickchartButtonEl.disabled = true;  // To prevent multiple clicks.\n",
              "      quickchartButtonEl.classList.add('colab-df-spinner');\n",
              "      try {\n",
              "        const charts = await google.colab.kernel.invokeFunction(\n",
              "            'suggestCharts', [key], {});\n",
              "      } catch (error) {\n",
              "        console.error('Error during call to suggestCharts:', error);\n",
              "      }\n",
              "      quickchartButtonEl.classList.remove('colab-df-spinner');\n",
              "      quickchartButtonEl.classList.add('colab-df-quickchart-complete');\n",
              "    }\n",
              "    (() => {\n",
              "      let quickchartButtonEl =\n",
              "        document.querySelector('#df-33dbad88-3353-4028-8bb0-f24ef7c64c87 button');\n",
              "      quickchartButtonEl.style.display =\n",
              "        google.colab.kernel.accessAllowed ? 'block' : 'none';\n",
              "    })();\n",
              "  </script>\n",
              "</div>\n",
              "    </div>\n",
              "  </div>\n"
            ]
          },
          "metadata": {},
          "execution_count": 58
        }
      ]
    },
    {
      "cell_type": "code",
      "source": [
        "# remove as sentenças que ficaram vazias\n",
        "df = df[df.x!='']"
      ],
      "metadata": {
        "id": "6yLlzQy7KuMm"
      },
      "execution_count": 59,
      "outputs": []
    },
    {
      "cell_type": "markdown",
      "source": [
        "### Limita o tamanho das sentenças"
      ],
      "metadata": {
        "id": "Z3FrDGQ3TQrE"
      }
    },
    {
      "cell_type": "code",
      "source": [
        "def limita_sentenca(sentenca, limite):\n",
        "  lista_sentenca = sentenca.split(\" \")\n",
        "  if len(lista_sentenca) > limite:\n",
        "    nova_sentenca = lista_sentenca[:limite]\n",
        "    nova_sentenca = ' '.join(nova_sentenca)\n",
        "  else:\n",
        "    nova_sentenca = ' '.join(lista_sentenca)\n",
        "\n",
        "  return nova_sentenca"
      ],
      "metadata": {
        "id": "hXvQ-iFpV9N7"
      },
      "execution_count": 60,
      "outputs": []
    },
    {
      "cell_type": "code",
      "source": [
        "df.x = df.x.apply(lambda k: limita_sentenca(k, 50))"
      ],
      "metadata": {
        "id": "-kVOtmIlTUuF"
      },
      "execution_count": 61,
      "outputs": []
    },
    {
      "cell_type": "code",
      "source": [
        "def glove_embedding(sentence, glove_vectors):\n",
        "  words_list = sentence.split()\n",
        "  embeddings_list = []\n",
        "  for word in words_list:\n",
        "    embeddings_list.append(glove[word])\n",
        "  return np.concatenate(embeddings_list)"
      ],
      "metadata": {
        "id": "MuvYL_unews1"
      },
      "execution_count": 62,
      "outputs": []
    },
    {
      "cell_type": "code",
      "execution_count": 63,
      "metadata": {
        "id": "wysXqWNxak_B"
      },
      "outputs": [],
      "source": [
        "def prepararInputTreinamento(xTreinoParaPreparar):\n",
        "\n",
        "    xTreinoProcessado = []\n",
        "    for x in xTreinoParaPreparar:\n",
        "      x = glove_embedding(x, glove)\n",
        "      xTreinoProcessado.append(np.pad(x, (0, (100 * 50)-len(x)), 'constant'))\n",
        "\n",
        "    return np.array(xTreinoProcessado).astype(np.float16)"
      ]
    },
    {
      "cell_type": "code",
      "execution_count": 64,
      "metadata": {
        "id": "FFW71Bmdak_C"
      },
      "outputs": [],
      "source": [
        "def prepararInputTeste(xTesteParaPreparar):\n",
        "\n",
        "    xTesteProcessado = []\n",
        "    for x in xTesteParaPreparar:\n",
        "      x = glove_embedding(x, glove)\n",
        "      xTesteProcessado.append(np.pad(x, (0, (100 * 50)-len(x)), 'constant'))\n",
        "\n",
        "\n",
        "    return np.array(xTesteProcessado)\n",
        "\n"
      ]
    },
    {
      "cell_type": "markdown",
      "source": [
        "# Random Forest"
      ],
      "metadata": {
        "id": "pDxoY5V6N-yw"
      }
    },
    {
      "cell_type": "code",
      "source": [
        "from sklearn.ensemble import RandomForestClassifier\n",
        "\n",
        "numKfolds = 5\n",
        "micros = []\n",
        "macros = []\n",
        "\n",
        "kf = KFold(n_splits=numKfolds, shuffle=True, random_state=0)\n",
        "\n",
        "for train_index, test_index in kf.split(df[\"x\"]):\n",
        "    xTreino, xTeste = df[\"x\"].iloc[train_index], df[\"x\"].iloc[test_index]\n",
        "    yRealTreino, yRealTeste = df[\"y\"].iloc[train_index], df[\"y\"].iloc[test_index]\n",
        "\n",
        "    xTreino = prepararInputTreinamento(xTreino)\n",
        "    xTeste = prepararInputTeste(xTeste)\n",
        "\n",
        "    forest = RandomForestClassifier(n_estimators = 200, max_features=0.3, oob_score=True, n_jobs=-1, random_state=1, verbose=2)\n",
        "    forest.fit(xTreino, yRealTreino)\n",
        "\n",
        "    pred = forest.predict(xTeste)\n",
        "\n",
        "    print (\"Macro-F1: %f\" % f1_score(yRealTeste, pred, average='macro'))\n",
        "    macros.append(f1_score(yRealTeste, pred, average='macro'))\n",
        "    print (\"Micro-F1: %f\" % f1_score(yRealTeste, pred, average='micro'))\n",
        "    micros.append(f1_score(yRealTeste, pred, average='micro'))\n",
        "    print('\\n')\n",
        "\n",
        "\n",
        "macro_f1 = np.mean(micros)\n",
        "micro_f1 = np.mean(macros)\n",
        "std_f1 = np.std(macros)\n",
        "\n",
        "print('\\n\\n')\n",
        "print(f'Média da Macro-F1: {macro_f1:.6f}')\n",
        "print(f'Média da Micro-F1: {micro_f1:.6f}')\n",
        "print(f'Desvio padrão da Macro-F1: {std_f1:.6f}')"
      ],
      "metadata": {
        "colab": {
          "base_uri": "https://localhost:8080/"
        },
        "id": "MtqBATD6I13S",
        "outputId": "f13f9e8f-c6ae-48f9-9ac1-a52ade3cbd07"
      },
      "execution_count": 65,
      "outputs": [
        {
          "output_type": "stream",
          "name": "stderr",
          "text": [
            "[Parallel(n_jobs=-1)]: Using backend ThreadingBackend with 2 concurrent workers.\n"
          ]
        },
        {
          "output_type": "stream",
          "name": "stdout",
          "text": [
            "building tree 1 of 200building tree 2 of 200\n",
            "\n",
            "building tree 3 of 200\n",
            "building tree 4 of 200\n",
            "building tree 5 of 200\n",
            "building tree 6 of 200\n",
            "building tree 7 of 200\n",
            "building tree 8 of 200\n",
            "building tree 9 of 200\n",
            "building tree 10 of 200\n",
            "building tree 11 of 200\n",
            "building tree 12 of 200\n",
            "building tree 13 of 200\n",
            "building tree 14 of 200\n",
            "building tree 15 of 200\n",
            "building tree 16 of 200\n",
            "building tree 17 of 200\n",
            "building tree 18 of 200\n",
            "building tree 19 of 200\n",
            "building tree 20 of 200\n",
            "building tree 21 of 200\n",
            "building tree 22 of 200\n",
            "building tree 23 of 200\n",
            "building tree 24 of 200\n",
            "building tree 25 of 200\n",
            "building tree 26 of 200\n",
            "building tree 27 of 200\n",
            "building tree 28 of 200\n",
            "building tree 29 of 200\n",
            "building tree 30 of 200\n",
            "building tree 31 of 200\n",
            "building tree 32 of 200\n",
            "building tree 33 of 200\n",
            "building tree 34 of 200\n",
            "building tree 35 of 200\n",
            "building tree 36 of 200\n",
            "building tree 37 of 200\n",
            "building tree 38 of 200\n"
          ]
        },
        {
          "output_type": "stream",
          "name": "stderr",
          "text": [
            "[Parallel(n_jobs=-1)]: Done  37 tasks      | elapsed:    8.2s\n"
          ]
        },
        {
          "output_type": "stream",
          "name": "stdout",
          "text": [
            "building tree 39 of 200\n",
            "building tree 40 of 200\n",
            "building tree 41 of 200\n",
            "building tree 42 of 200\n",
            "building tree 43 of 200\n",
            "building tree 44 of 200\n",
            "building tree 45 of 200\n",
            "building tree 46 of 200\n",
            "building tree 47 of 200\n",
            "building tree 48 of 200\n",
            "building tree 49 of 200\n",
            "building tree 50 of 200\n",
            "building tree 51 of 200\n",
            "building tree 52 of 200\n",
            "building tree 53 of 200\n",
            "building tree 54 of 200\n",
            "building tree 55 of 200\n",
            "building tree 56 of 200\n",
            "building tree 57 of 200\n",
            "building tree 58 of 200\n",
            "building tree 59 of 200\n",
            "building tree 60 of 200\n",
            "building tree 61 of 200\n",
            "building tree 62 of 200\n",
            "building tree 63 of 200\n",
            "building tree 64 of 200\n",
            "building tree 65 of 200\n",
            "building tree 66 of 200\n",
            "building tree 67 of 200\n",
            "building tree 68 of 200\n",
            "building tree 69 of 200\n",
            "building tree 70 of 200\n",
            "building tree 71 of 200\n",
            "building tree 72 of 200\n",
            "building tree 73 of 200\n",
            "building tree 74 of 200\n",
            "building tree 75 of 200\n",
            "building tree 76 of 200\n",
            "building tree 77 of 200\n",
            "building tree 78 of 200\n",
            "building tree 79 of 200\n",
            "building tree 80 of 200\n",
            "building tree 81 of 200\n",
            "building tree 82 of 200\n",
            "building tree 83 of 200\n",
            "building tree 84 of 200\n",
            "building tree 85 of 200\n",
            "building tree 86 of 200\n",
            "building tree 87 of 200\n",
            "building tree 88 of 200\n",
            "building tree 89 of 200\n",
            "building tree 90 of 200\n",
            "building tree 91 of 200\n",
            "building tree 92 of 200\n",
            "building tree 93 of 200\n",
            "building tree 94 of 200\n",
            "building tree 95 of 200\n",
            "building tree 96 of 200\n",
            "building tree 97 of 200\n",
            "building tree 98 of 200\n",
            "building tree 99 of 200\n",
            "building tree 100 of 200\n",
            "building tree 101 of 200\n",
            "building tree 102 of 200\n",
            "building tree 103 of 200\n",
            "building tree 104 of 200\n",
            "building tree 105 of 200\n",
            "building tree 106 of 200\n",
            "building tree 107 of 200\n",
            "building tree 108 of 200\n",
            "building tree 109 of 200\n",
            "building tree 110 of 200\n",
            "building tree 111 of 200\n",
            "building tree 112 of 200\n",
            "building tree 113 of 200\n",
            "building tree 114 of 200\n",
            "building tree 115 of 200\n",
            "building tree 116 of 200\n",
            "building tree 117 of 200\n",
            "building tree 118 of 200\n",
            "building tree 119 of 200\n",
            "building tree 120 of 200\n",
            "building tree 121 of 200\n",
            "building tree 122 of 200\n",
            "building tree 123 of 200\n",
            "building tree 124 of 200\n",
            "building tree 125 of 200\n",
            "building tree 126 of 200\n",
            "building tree 127 of 200\n",
            "building tree 128 of 200\n",
            "building tree 129 of 200\n",
            "building tree 130 of 200\n",
            "building tree 131 of 200\n",
            "building tree 132 of 200\n",
            "building tree 133 of 200\n",
            "building tree 134 of 200\n",
            "building tree 135 of 200\n",
            "building tree 136 of 200\n",
            "building tree 137 of 200\n",
            "building tree 138 of 200\n",
            "building tree 139 of 200\n",
            "building tree 140 of 200\n",
            "building tree 141 of 200\n",
            "building tree 142 of 200\n",
            "building tree 143 of 200\n",
            "building tree 144 of 200\n",
            "building tree 145 of 200\n",
            "building tree 146 of 200\n",
            "building tree 147 of 200\n",
            "building tree 148 of 200\n",
            "building tree 149 of 200\n",
            "building tree 150 of 200\n",
            "building tree 151 of 200\n",
            "building tree 152 of 200\n",
            "building tree 153 of 200\n",
            "building tree 154 of 200\n",
            "building tree 155 of 200\n",
            "building tree 156 of 200\n",
            "building tree 157 of 200\n",
            "building tree 158 of 200\n",
            "building tree 159 of 200\n"
          ]
        },
        {
          "output_type": "stream",
          "name": "stderr",
          "text": [
            "[Parallel(n_jobs=-1)]: Done 158 tasks      | elapsed:   44.3s\n"
          ]
        },
        {
          "output_type": "stream",
          "name": "stdout",
          "text": [
            "building tree 160 of 200\n",
            "building tree 161 of 200\n",
            "building tree 162 of 200\n",
            "building tree 163 of 200\n",
            "building tree 164 of 200\n",
            "building tree 165 of 200\n",
            "building tree 166 of 200\n",
            "building tree 167 of 200\n",
            "building tree 168 of 200\n",
            "building tree 169 of 200\n",
            "building tree 170 of 200\n",
            "building tree 171 of 200\n",
            "building tree 172 of 200\n",
            "building tree 173 of 200\n",
            "building tree 174 of 200\n",
            "building tree 175 of 200\n",
            "building tree 176 of 200\n",
            "building tree 177 of 200\n",
            "building tree 178 of 200\n",
            "building tree 179 of 200\n",
            "building tree 180 of 200\n",
            "building tree 181 of 200\n",
            "building tree 182 of 200\n",
            "building tree 183 of 200\n",
            "building tree 184 of 200\n",
            "building tree 185 of 200\n",
            "building tree 186 of 200\n",
            "building tree 187 of 200\n",
            "building tree 188 of 200\n",
            "building tree 189 of 200\n",
            "building tree 190 of 200\n",
            "building tree 191 of 200\n",
            "building tree 192 of 200\n",
            "building tree 193 of 200\n",
            "building tree 194 of 200\n",
            "building tree 195 of 200\n",
            "building tree 196 of 200\n",
            "building tree 197 of 200\n",
            "building tree 198 of 200\n",
            "building tree 199 of 200\n",
            "building tree 200 of 200\n"
          ]
        },
        {
          "output_type": "stream",
          "name": "stderr",
          "text": [
            "[Parallel(n_jobs=-1)]: Done 200 out of 200 | elapsed:   53.5s finished\n",
            "[Parallel(n_jobs=2)]: Using backend ThreadingBackend with 2 concurrent workers.\n",
            "[Parallel(n_jobs=2)]: Done  37 tasks      | elapsed:    0.0s\n",
            "[Parallel(n_jobs=2)]: Done 158 tasks      | elapsed:    0.1s\n",
            "[Parallel(n_jobs=2)]: Done 200 out of 200 | elapsed:    0.1s finished\n"
          ]
        },
        {
          "output_type": "stream",
          "name": "stdout",
          "text": [
            "Macro-F1: 0.494869\n",
            "Micro-F1: 0.577320\n",
            "\n",
            "\n",
            "building tree 1 of 200building tree 2 of 200\n",
            "\n"
          ]
        },
        {
          "output_type": "stream",
          "name": "stderr",
          "text": [
            "[Parallel(n_jobs=-1)]: Using backend ThreadingBackend with 2 concurrent workers.\n"
          ]
        },
        {
          "output_type": "stream",
          "name": "stdout",
          "text": [
            "building tree 3 of 200\n",
            "building tree 4 of 200\n",
            "building tree 5 of 200\n",
            "building tree 6 of 200\n",
            "building tree 7 of 200\n",
            "building tree 8 of 200\n",
            "building tree 9 of 200\n",
            "building tree 10 of 200\n",
            "building tree 11 of 200\n",
            "building tree 12 of 200\n",
            "building tree 13 of 200\n",
            "building tree 14 of 200\n",
            "building tree 15 of 200\n",
            "building tree 16 of 200\n",
            "building tree 17 of 200\n",
            "building tree 18 of 200\n",
            "building tree 19 of 200\n",
            "building tree 20 of 200\n",
            "building tree 21 of 200\n",
            "building tree 22 of 200\n",
            "building tree 23 of 200\n",
            "building tree 24 of 200\n",
            "building tree 25 of 200\n",
            "building tree 26 of 200\n",
            "building tree 27 of 200\n",
            "building tree 28 of 200\n",
            "building tree 29 of 200\n",
            "building tree 30 of 200\n",
            "building tree 31 of 200\n",
            "building tree 32 of 200\n",
            "building tree 33 of 200\n",
            "building tree 34 of 200\n",
            "building tree 35 of 200\n",
            "building tree 36 of 200\n",
            "building tree 37 of 200\n",
            "building tree 38 of 200\n"
          ]
        },
        {
          "output_type": "stream",
          "name": "stderr",
          "text": [
            "[Parallel(n_jobs=-1)]: Done  37 tasks      | elapsed:   10.5s\n"
          ]
        },
        {
          "output_type": "stream",
          "name": "stdout",
          "text": [
            "building tree 39 of 200\n",
            "building tree 40 of 200\n",
            "building tree 41 of 200\n",
            "building tree 42 of 200\n",
            "building tree 43 of 200\n",
            "building tree 44 of 200\n",
            "building tree 45 of 200\n",
            "building tree 46 of 200\n",
            "building tree 47 of 200\n",
            "building tree 48 of 200\n",
            "building tree 49 of 200\n",
            "building tree 50 of 200\n",
            "building tree 51 of 200\n",
            "building tree 52 of 200\n",
            "building tree 53 of 200\n",
            "building tree 54 of 200\n",
            "building tree 55 of 200\n",
            "building tree 56 of 200\n",
            "building tree 57 of 200\n",
            "building tree 58 of 200\n",
            "building tree 59 of 200\n",
            "building tree 60 of 200\n",
            "building tree 61 of 200\n",
            "building tree 62 of 200\n",
            "building tree 63 of 200\n",
            "building tree 64 of 200\n",
            "building tree 65 of 200\n",
            "building tree 66 of 200\n",
            "building tree 67 of 200\n",
            "building tree 68 of 200\n",
            "building tree 69 of 200\n",
            "building tree 70 of 200\n",
            "building tree 71 of 200\n",
            "building tree 72 of 200\n",
            "building tree 73 of 200\n",
            "building tree 74 of 200\n",
            "building tree 75 of 200\n",
            "building tree 76 of 200\n",
            "building tree 77 of 200\n",
            "building tree 78 of 200\n",
            "building tree 79 of 200\n",
            "building tree 80 of 200\n",
            "building tree 81 of 200\n",
            "building tree 82 of 200\n",
            "building tree 83 of 200\n",
            "building tree 84 of 200\n",
            "building tree 85 of 200\n",
            "building tree 86 of 200\n",
            "building tree 87 of 200\n",
            "building tree 88 of 200\n",
            "building tree 89 of 200\n",
            "building tree 90 of 200\n",
            "building tree 91 of 200\n",
            "building tree 92 of 200\n",
            "building tree 93 of 200\n",
            "building tree 94 of 200\n",
            "building tree 95 of 200\n",
            "building tree 96 of 200\n",
            "building tree 97 of 200\n",
            "building tree 98 of 200\n",
            "building tree 99 of 200\n",
            "building tree 100 of 200\n",
            "building tree 101 of 200\n",
            "building tree 102 of 200\n",
            "building tree 103 of 200\n",
            "building tree 104 of 200\n",
            "building tree 105 of 200\n",
            "building tree 106 of 200\n",
            "building tree 107 of 200\n",
            "building tree 108 of 200\n",
            "building tree 109 of 200\n",
            "building tree 110 of 200\n",
            "building tree 111 of 200\n",
            "building tree 112 of 200\n",
            "building tree 113 of 200\n",
            "building tree 114 of 200\n",
            "building tree 115 of 200\n",
            "building tree 116 of 200\n",
            "building tree 117 of 200\n",
            "building tree 118 of 200\n",
            "building tree 119 of 200\n",
            "building tree 120 of 200\n",
            "building tree 121 of 200\n",
            "building tree 122 of 200\n",
            "building tree 123 of 200\n",
            "building tree 124 of 200\n",
            "building tree 125 of 200\n",
            "building tree 126 of 200\n",
            "building tree 127 of 200\n",
            "building tree 128 of 200\n",
            "building tree 129 of 200\n",
            "building tree 130 of 200\n",
            "building tree 131 of 200\n",
            "building tree 132 of 200\n",
            "building tree 133 of 200\n",
            "building tree 134 of 200\n",
            "building tree 135 of 200\n",
            "building tree 136 of 200\n",
            "building tree 137 of 200\n",
            "building tree 138 of 200\n",
            "building tree 139 of 200\n",
            "building tree 140 of 200\n",
            "building tree 141 of 200\n",
            "building tree 142 of 200\n",
            "building tree 143 of 200\n",
            "building tree 144 of 200\n",
            "building tree 145 of 200\n",
            "building tree 146 of 200\n",
            "building tree 147 of 200\n",
            "building tree 148 of 200\n",
            "building tree 149 of 200\n",
            "building tree 150 of 200\n",
            "building tree 151 of 200\n",
            "building tree 152 of 200\n",
            "building tree 153 of 200\n",
            "building tree 154 of 200\n",
            "building tree 155 of 200\n",
            "building tree 156 of 200\n",
            "building tree 157 of 200\n",
            "building tree 158 of 200\n",
            "building tree 159 of 200\n",
            "building tree 160 of 200\n"
          ]
        },
        {
          "output_type": "stream",
          "name": "stderr",
          "text": [
            "[Parallel(n_jobs=-1)]: Done 158 tasks      | elapsed:   40.5s\n"
          ]
        },
        {
          "output_type": "stream",
          "name": "stdout",
          "text": [
            "building tree 161 of 200\n",
            "building tree 162 of 200\n",
            "building tree 163 of 200\n",
            "building tree 164 of 200\n",
            "building tree 165 of 200\n",
            "building tree 166 of 200\n",
            "building tree 167 of 200\n",
            "building tree 168 of 200\n",
            "building tree 169 of 200\n",
            "building tree 170 of 200\n",
            "building tree 171 of 200\n",
            "building tree 172 of 200\n",
            "building tree 173 of 200\n",
            "building tree 174 of 200\n",
            "building tree 175 of 200\n",
            "building tree 176 of 200\n",
            "building tree 177 of 200\n",
            "building tree 178 of 200\n",
            "building tree 179 of 200\n",
            "building tree 180 of 200\n",
            "building tree 181 of 200\n",
            "building tree 182 of 200\n",
            "building tree 183 of 200\n",
            "building tree 184 of 200\n",
            "building tree 185 of 200\n",
            "building tree 186 of 200\n",
            "building tree 187 of 200\n",
            "building tree 188 of 200\n",
            "building tree 189 of 200\n",
            "building tree 190 of 200\n",
            "building tree 191 of 200\n",
            "building tree 192 of 200\n",
            "building tree 193 of 200\n",
            "building tree 194 of 200\n",
            "building tree 195 of 200\n",
            "building tree 196 of 200\n",
            "building tree 197 of 200\n",
            "building tree 198 of 200\n",
            "building tree 199 of 200\n",
            "building tree 200 of 200\n"
          ]
        },
        {
          "output_type": "stream",
          "name": "stderr",
          "text": [
            "[Parallel(n_jobs=-1)]: Done 200 out of 200 | elapsed:   51.3s finished\n",
            "[Parallel(n_jobs=2)]: Using backend ThreadingBackend with 2 concurrent workers.\n",
            "[Parallel(n_jobs=2)]: Done  37 tasks      | elapsed:    0.0s\n",
            "[Parallel(n_jobs=2)]: Done 158 tasks      | elapsed:    0.0s\n",
            "[Parallel(n_jobs=2)]: Done 200 out of 200 | elapsed:    0.1s finished\n"
          ]
        },
        {
          "output_type": "stream",
          "name": "stdout",
          "text": [
            "Macro-F1: 0.476013\n",
            "Micro-F1: 0.546392\n",
            "\n",
            "\n",
            "building tree 1 of 200building tree 2 of 200\n",
            "\n"
          ]
        },
        {
          "output_type": "stream",
          "name": "stderr",
          "text": [
            "[Parallel(n_jobs=-1)]: Using backend ThreadingBackend with 2 concurrent workers.\n"
          ]
        },
        {
          "output_type": "stream",
          "name": "stdout",
          "text": [
            "building tree 3 of 200\n",
            "building tree 4 of 200\n",
            "building tree 5 of 200\n",
            "building tree 6 of 200\n",
            "building tree 7 of 200\n",
            "building tree 8 of 200\n",
            "building tree 9 of 200\n",
            "building tree 10 of 200\n",
            "building tree 11 of 200\n",
            "building tree 12 of 200\n",
            "building tree 13 of 200\n",
            "building tree 14 of 200\n",
            "building tree 15 of 200\n",
            "building tree 16 of 200\n",
            "building tree 17 of 200\n",
            "building tree 18 of 200\n",
            "building tree 19 of 200\n",
            "building tree 20 of 200\n",
            "building tree 21 of 200\n",
            "building tree 22 of 200\n",
            "building tree 23 of 200\n",
            "building tree 24 of 200\n",
            "building tree 25 of 200\n",
            "building tree 26 of 200\n",
            "building tree 27 of 200\n",
            "building tree 28 of 200\n",
            "building tree 29 of 200\n",
            "building tree 30 of 200\n",
            "building tree 31 of 200\n",
            "building tree 32 of 200\n",
            "building tree 33 of 200\n",
            "building tree 34 of 200\n",
            "building tree 35 of 200\n",
            "building tree 36 of 200\n",
            "building tree 37 of 200\n",
            "building tree 38 of 200\n",
            "building tree 39 of 200\n"
          ]
        },
        {
          "output_type": "stream",
          "name": "stderr",
          "text": [
            "[Parallel(n_jobs=-1)]: Done  37 tasks      | elapsed:    7.7s\n"
          ]
        },
        {
          "output_type": "stream",
          "name": "stdout",
          "text": [
            "building tree 40 of 200\n",
            "building tree 41 of 200\n",
            "building tree 42 of 200\n",
            "building tree 43 of 200\n",
            "building tree 44 of 200\n",
            "building tree 45 of 200\n",
            "building tree 46 of 200\n",
            "building tree 47 of 200\n",
            "building tree 48 of 200\n",
            "building tree 49 of 200\n",
            "building tree 50 of 200\n",
            "building tree 51 of 200\n",
            "building tree 52 of 200\n",
            "building tree 53 of 200\n",
            "building tree 54 of 200\n",
            "building tree 55 of 200\n",
            "building tree 56 of 200\n",
            "building tree 57 of 200\n",
            "building tree 58 of 200\n",
            "building tree 59 of 200\n",
            "building tree 60 of 200\n",
            "building tree 61 of 200\n",
            "building tree 62 of 200\n",
            "building tree 63 of 200\n",
            "building tree 64 of 200\n",
            "building tree 65 of 200\n",
            "building tree 66 of 200\n",
            "building tree 67 of 200\n",
            "building tree 68 of 200\n",
            "building tree 69 of 200\n",
            "building tree 70 of 200\n",
            "building tree 71 of 200\n",
            "building tree 72 of 200\n",
            "building tree 73 of 200\n",
            "building tree 74 of 200\n",
            "building tree 75 of 200\n",
            "building tree 76 of 200\n",
            "building tree 77 of 200\n",
            "building tree 78 of 200\n",
            "building tree 79 of 200\n",
            "building tree 80 of 200\n",
            "building tree 81 of 200\n",
            "building tree 82 of 200\n",
            "building tree 83 of 200\n",
            "building tree 84 of 200\n",
            "building tree 85 of 200\n",
            "building tree 86 of 200\n",
            "building tree 87 of 200\n",
            "building tree 88 of 200\n",
            "building tree 89 of 200\n",
            "building tree 90 of 200\n",
            "building tree 91 of 200\n",
            "building tree 92 of 200\n",
            "building tree 93 of 200\n",
            "building tree 94 of 200\n",
            "building tree 95 of 200\n",
            "building tree 96 of 200\n",
            "building tree 97 of 200\n",
            "building tree 98 of 200\n",
            "building tree 99 of 200\n",
            "building tree 100 of 200\n",
            "building tree 101 of 200\n",
            "building tree 102 of 200\n",
            "building tree 103 of 200\n",
            "building tree 104 of 200\n",
            "building tree 105 of 200\n",
            "building tree 106 of 200\n",
            "building tree 107 of 200\n",
            "building tree 108 of 200\n",
            "building tree 109 of 200\n",
            "building tree 110 of 200\n",
            "building tree 111 of 200\n",
            "building tree 112 of 200\n",
            "building tree 113 of 200\n",
            "building tree 114 of 200\n",
            "building tree 115 of 200\n",
            "building tree 116 of 200\n",
            "building tree 117 of 200\n",
            "building tree 118 of 200\n",
            "building tree 119 of 200\n",
            "building tree 120 of 200\n",
            "building tree 121 of 200\n",
            "building tree 122 of 200\n",
            "building tree 123 of 200\n",
            "building tree 124 of 200\n",
            "building tree 125 of 200\n",
            "building tree 126 of 200\n",
            "building tree 127 of 200\n",
            "building tree 128 of 200\n",
            "building tree 129 of 200\n",
            "building tree 130 of 200\n",
            "building tree 131 of 200\n",
            "building tree 132 of 200\n",
            "building tree 133 of 200\n",
            "building tree 134 of 200\n",
            "building tree 135 of 200\n",
            "building tree 136 of 200\n",
            "building tree 137 of 200\n",
            "building tree 138 of 200\n",
            "building tree 139 of 200\n",
            "building tree 140 of 200\n",
            "building tree 141 of 200\n",
            "building tree 142 of 200\n",
            "building tree 143 of 200\n",
            "building tree 144 of 200\n",
            "building tree 145 of 200\n",
            "building tree 146 of 200\n",
            "building tree 147 of 200\n",
            "building tree 148 of 200\n",
            "building tree 149 of 200\n",
            "building tree 150 of 200\n",
            "building tree 151 of 200\n",
            "building tree 152 of 200\n",
            "building tree 153 of 200\n",
            "building tree 154 of 200\n",
            "building tree 155 of 200\n",
            "building tree 156 of 200\n",
            "building tree 157 of 200\n",
            "building tree 158 of 200\n",
            "building tree 159 of 200\n"
          ]
        },
        {
          "output_type": "stream",
          "name": "stderr",
          "text": [
            "[Parallel(n_jobs=-1)]: Done 158 tasks      | elapsed:   40.5s\n"
          ]
        },
        {
          "output_type": "stream",
          "name": "stdout",
          "text": [
            "building tree 160 of 200\n",
            "building tree 161 of 200\n",
            "building tree 162 of 200\n",
            "building tree 163 of 200\n",
            "building tree 164 of 200\n",
            "building tree 165 of 200\n",
            "building tree 166 of 200\n",
            "building tree 167 of 200\n",
            "building tree 168 of 200\n",
            "building tree 169 of 200\n",
            "building tree 170 of 200\n",
            "building tree 171 of 200\n",
            "building tree 172 of 200\n",
            "building tree 173 of 200\n",
            "building tree 174 of 200\n",
            "building tree 175 of 200\n",
            "building tree 176 of 200\n",
            "building tree 177 of 200\n",
            "building tree 178 of 200\n",
            "building tree 179 of 200\n",
            "building tree 180 of 200\n",
            "building tree 181 of 200\n",
            "building tree 182 of 200\n",
            "building tree 183 of 200\n",
            "building tree 184 of 200\n",
            "building tree 185 of 200\n",
            "building tree 186 of 200\n",
            "building tree 187 of 200\n",
            "building tree 188 of 200\n",
            "building tree 189 of 200\n",
            "building tree 190 of 200\n",
            "building tree 191 of 200\n",
            "building tree 192 of 200\n",
            "building tree 193 of 200\n",
            "building tree 194 of 200\n",
            "building tree 195 of 200\n",
            "building tree 196 of 200\n",
            "building tree 197 of 200\n",
            "building tree 198 of 200\n",
            "building tree 199 of 200\n",
            "building tree 200 of 200\n"
          ]
        },
        {
          "output_type": "stream",
          "name": "stderr",
          "text": [
            "[Parallel(n_jobs=-1)]: Done 200 out of 200 | elapsed:   50.6s finished\n",
            "[Parallel(n_jobs=2)]: Using backend ThreadingBackend with 2 concurrent workers.\n",
            "[Parallel(n_jobs=2)]: Done  37 tasks      | elapsed:    0.0s\n",
            "[Parallel(n_jobs=2)]: Done 158 tasks      | elapsed:    0.1s\n",
            "[Parallel(n_jobs=2)]: Done 200 out of 200 | elapsed:    0.1s finished\n"
          ]
        },
        {
          "output_type": "stream",
          "name": "stdout",
          "text": [
            "Macro-F1: 0.463920\n",
            "Micro-F1: 0.562069\n",
            "\n",
            "\n",
            "building tree 1 of 200building tree 2 of 200\n",
            "\n"
          ]
        },
        {
          "output_type": "stream",
          "name": "stderr",
          "text": [
            "[Parallel(n_jobs=-1)]: Using backend ThreadingBackend with 2 concurrent workers.\n"
          ]
        },
        {
          "output_type": "stream",
          "name": "stdout",
          "text": [
            "building tree 3 of 200\n",
            "building tree 4 of 200\n",
            "building tree 5 of 200building tree 6 of 200\n",
            "\n",
            "building tree 7 of 200\n",
            "building tree 8 of 200\n",
            "building tree 9 of 200\n",
            "building tree 10 of 200\n",
            "building tree 11 of 200\n",
            "building tree 12 of 200\n",
            "building tree 13 of 200\n",
            "building tree 14 of 200\n",
            "building tree 15 of 200\n",
            "building tree 16 of 200\n",
            "building tree 17 of 200\n",
            "building tree 18 of 200\n",
            "building tree 19 of 200\n",
            "building tree 20 of 200\n",
            "building tree 21 of 200\n",
            "building tree 22 of 200\n",
            "building tree 23 of 200\n",
            "building tree 24 of 200\n",
            "building tree 25 of 200\n",
            "building tree 26 of 200\n",
            "building tree 27 of 200\n",
            "building tree 28 of 200\n",
            "building tree 29 of 200\n",
            "building tree 30 of 200\n",
            "building tree 31 of 200\n",
            "building tree 32 of 200\n",
            "building tree 33 of 200\n",
            "building tree 34 of 200\n",
            "building tree 35 of 200\n",
            "building tree 36 of 200\n",
            "building tree 37 of 200\n",
            "building tree 38 of 200\n"
          ]
        },
        {
          "output_type": "stream",
          "name": "stderr",
          "text": [
            "[Parallel(n_jobs=-1)]: Done  37 tasks      | elapsed:   10.1s\n"
          ]
        },
        {
          "output_type": "stream",
          "name": "stdout",
          "text": [
            "building tree 39 of 200\n",
            "building tree 40 of 200\n",
            "building tree 41 of 200\n",
            "building tree 42 of 200\n",
            "building tree 43 of 200\n",
            "building tree 44 of 200\n",
            "building tree 45 of 200\n",
            "building tree 46 of 200\n",
            "building tree 47 of 200\n",
            "building tree 48 of 200\n",
            "building tree 49 of 200\n",
            "building tree 50 of 200\n",
            "building tree 51 of 200\n",
            "building tree 52 of 200\n",
            "building tree 53 of 200\n",
            "building tree 54 of 200\n",
            "building tree 55 of 200\n",
            "building tree 56 of 200\n",
            "building tree 57 of 200\n",
            "building tree 58 of 200\n",
            "building tree 59 of 200\n",
            "building tree 60 of 200\n",
            "building tree 61 of 200\n",
            "building tree 62 of 200\n",
            "building tree 63 of 200\n",
            "building tree 64 of 200\n",
            "building tree 65 of 200\n",
            "building tree 66 of 200\n",
            "building tree 67 of 200\n",
            "building tree 68 of 200\n",
            "building tree 69 of 200\n",
            "building tree 70 of 200\n",
            "building tree 71 of 200\n",
            "building tree 72 of 200\n",
            "building tree 73 of 200\n",
            "building tree 74 of 200\n",
            "building tree 75 of 200\n",
            "building tree 76 of 200\n",
            "building tree 77 of 200\n",
            "building tree 78 of 200\n",
            "building tree 79 of 200\n",
            "building tree 80 of 200\n",
            "building tree 81 of 200\n",
            "building tree 82 of 200\n",
            "building tree 83 of 200\n",
            "building tree 84 of 200\n",
            "building tree 85 of 200\n",
            "building tree 86 of 200\n",
            "building tree 87 of 200\n",
            "building tree 88 of 200\n",
            "building tree 89 of 200\n",
            "building tree 90 of 200\n",
            "building tree 91 of 200\n",
            "building tree 92 of 200\n",
            "building tree 93 of 200\n",
            "building tree 94 of 200\n",
            "building tree 95 of 200\n",
            "building tree 96 of 200\n",
            "building tree 97 of 200\n",
            "building tree 98 of 200\n",
            "building tree 99 of 200\n",
            "building tree 100 of 200\n",
            "building tree 101 of 200\n",
            "building tree 102 of 200\n",
            "building tree 103 of 200\n",
            "building tree 104 of 200\n",
            "building tree 105 of 200\n",
            "building tree 106 of 200\n",
            "building tree 107 of 200\n",
            "building tree 108 of 200\n",
            "building tree 109 of 200\n",
            "building tree 110 of 200\n",
            "building tree 111 of 200\n",
            "building tree 112 of 200\n",
            "building tree 113 of 200\n",
            "building tree 114 of 200\n",
            "building tree 115 of 200\n",
            "building tree 116 of 200\n",
            "building tree 117 of 200\n",
            "building tree 118 of 200\n",
            "building tree 119 of 200\n",
            "building tree 120 of 200\n",
            "building tree 121 of 200\n",
            "building tree 122 of 200\n",
            "building tree 123 of 200\n",
            "building tree 124 of 200\n",
            "building tree 125 of 200\n",
            "building tree 126 of 200\n",
            "building tree 127 of 200\n",
            "building tree 128 of 200\n",
            "building tree 129 of 200\n",
            "building tree 130 of 200\n",
            "building tree 131 of 200\n",
            "building tree 132 of 200\n",
            "building tree 133 of 200\n",
            "building tree 134 of 200\n",
            "building tree 135 of 200\n",
            "building tree 136 of 200\n",
            "building tree 137 of 200\n",
            "building tree 138 of 200\n",
            "building tree 139 of 200\n",
            "building tree 140 of 200\n",
            "building tree 141 of 200\n",
            "building tree 142 of 200\n",
            "building tree 143 of 200\n",
            "building tree 144 of 200\n",
            "building tree 145 of 200\n",
            "building tree 146 of 200\n",
            "building tree 147 of 200\n",
            "building tree 148 of 200\n",
            "building tree 149 of 200\n",
            "building tree 150 of 200\n",
            "building tree 151 of 200\n",
            "building tree 152 of 200\n",
            "building tree 153 of 200\n",
            "building tree 154 of 200\n",
            "building tree 155 of 200\n",
            "building tree 156 of 200\n",
            "building tree 157 of 200\n",
            "building tree 158 of 200\n",
            "building tree 159 of 200\n"
          ]
        },
        {
          "output_type": "stream",
          "name": "stderr",
          "text": [
            "[Parallel(n_jobs=-1)]: Done 158 tasks      | elapsed:   40.5s\n"
          ]
        },
        {
          "output_type": "stream",
          "name": "stdout",
          "text": [
            "building tree 160 of 200\n",
            "building tree 161 of 200\n",
            "building tree 162 of 200\n",
            "building tree 163 of 200\n",
            "building tree 164 of 200\n",
            "building tree 165 of 200\n",
            "building tree 166 of 200\n",
            "building tree 167 of 200\n",
            "building tree 168 of 200\n",
            "building tree 169 of 200\n",
            "building tree 170 of 200\n",
            "building tree 171 of 200\n",
            "building tree 172 of 200\n",
            "building tree 173 of 200\n",
            "building tree 174 of 200\n",
            "building tree 175 of 200\n",
            "building tree 176 of 200\n",
            "building tree 177 of 200\n",
            "building tree 178 of 200\n",
            "building tree 179 of 200\n",
            "building tree 180 of 200\n",
            "building tree 181 of 200\n",
            "building tree 182 of 200\n",
            "building tree 183 of 200\n",
            "building tree 184 of 200\n",
            "building tree 185 of 200\n",
            "building tree 186 of 200\n",
            "building tree 187 of 200\n",
            "building tree 188 of 200\n",
            "building tree 189 of 200\n",
            "building tree 190 of 200\n",
            "building tree 191 of 200\n",
            "building tree 192 of 200\n",
            "building tree 193 of 200\n",
            "building tree 194 of 200\n",
            "building tree 195 of 200\n",
            "building tree 196 of 200\n",
            "building tree 197 of 200\n",
            "building tree 198 of 200\n",
            "building tree 199 of 200\n",
            "building tree 200 of 200\n"
          ]
        },
        {
          "output_type": "stream",
          "name": "stderr",
          "text": [
            "[Parallel(n_jobs=-1)]: Done 200 out of 200 | elapsed:   51.4s finished\n",
            "[Parallel(n_jobs=2)]: Using backend ThreadingBackend with 2 concurrent workers.\n",
            "[Parallel(n_jobs=2)]: Done  37 tasks      | elapsed:    0.0s\n",
            "[Parallel(n_jobs=2)]: Done 158 tasks      | elapsed:    0.1s\n",
            "[Parallel(n_jobs=2)]: Done 200 out of 200 | elapsed:    0.1s finished\n"
          ]
        },
        {
          "output_type": "stream",
          "name": "stdout",
          "text": [
            "Macro-F1: 0.528120\n",
            "Micro-F1: 0.596552\n",
            "\n",
            "\n",
            "building tree 1 of 200\n",
            "building tree 2 of 200\n"
          ]
        },
        {
          "output_type": "stream",
          "name": "stderr",
          "text": [
            "[Parallel(n_jobs=-1)]: Using backend ThreadingBackend with 2 concurrent workers.\n"
          ]
        },
        {
          "output_type": "stream",
          "name": "stdout",
          "text": [
            "building tree 3 of 200\n",
            "building tree 4 of 200\n",
            "building tree 5 of 200\n",
            "building tree 6 of 200\n",
            "building tree 7 of 200\n",
            "building tree 8 of 200\n",
            "building tree 9 of 200\n",
            "building tree 10 of 200\n",
            "building tree 11 of 200\n",
            "building tree 12 of 200\n",
            "building tree 13 of 200\n",
            "building tree 14 of 200\n",
            "building tree 15 of 200\n",
            "building tree 16 of 200\n",
            "building tree 17 of 200\n",
            "building tree 18 of 200\n",
            "building tree 19 of 200\n",
            "building tree 20 of 200\n",
            "building tree 21 of 200\n",
            "building tree 22 of 200\n",
            "building tree 23 of 200\n",
            "building tree 24 of 200\n",
            "building tree 25 of 200\n",
            "building tree 26 of 200\n",
            "building tree 27 of 200\n",
            "building tree 28 of 200\n",
            "building tree 29 of 200\n",
            "building tree 30 of 200\n",
            "building tree 31 of 200\n",
            "building tree 32 of 200\n",
            "building tree 33 of 200\n",
            "building tree 34 of 200\n",
            "building tree 35 of 200\n",
            "building tree 36 of 200\n",
            "building tree 37 of 200\n",
            "building tree 38 of 200\n"
          ]
        },
        {
          "output_type": "stream",
          "name": "stderr",
          "text": [
            "[Parallel(n_jobs=-1)]: Done  37 tasks      | elapsed:    8.1s\n"
          ]
        },
        {
          "output_type": "stream",
          "name": "stdout",
          "text": [
            "building tree 39 of 200\n",
            "building tree 40 of 200\n",
            "building tree 41 of 200\n",
            "building tree 42 of 200\n",
            "building tree 43 of 200\n",
            "building tree 44 of 200\n",
            "building tree 45 of 200\n",
            "building tree 46 of 200\n",
            "building tree 47 of 200\n",
            "building tree 48 of 200\n",
            "building tree 49 of 200\n",
            "building tree 50 of 200\n",
            "building tree 51 of 200\n",
            "building tree 52 of 200\n",
            "building tree 53 of 200\n",
            "building tree 54 of 200\n",
            "building tree 55 of 200\n",
            "building tree 56 of 200\n",
            "building tree 57 of 200\n",
            "building tree 58 of 200\n",
            "building tree 59 of 200\n",
            "building tree 60 of 200\n",
            "building tree 61 of 200\n",
            "building tree 62 of 200\n",
            "building tree 63 of 200\n",
            "building tree 64 of 200\n",
            "building tree 65 of 200\n",
            "building tree 66 of 200\n",
            "building tree 67 of 200\n",
            "building tree 68 of 200\n",
            "building tree 69 of 200\n",
            "building tree 70 of 200\n",
            "building tree 71 of 200\n",
            "building tree 72 of 200\n",
            "building tree 73 of 200\n",
            "building tree 74 of 200\n",
            "building tree 75 of 200\n",
            "building tree 76 of 200\n",
            "building tree 77 of 200\n",
            "building tree 78 of 200\n",
            "building tree 79 of 200\n",
            "building tree 80 of 200\n",
            "building tree 81 of 200\n",
            "building tree 82 of 200\n",
            "building tree 83 of 200\n",
            "building tree 84 of 200\n",
            "building tree 85 of 200\n",
            "building tree 86 of 200\n",
            "building tree 87 of 200\n",
            "building tree 88 of 200\n",
            "building tree 89 of 200\n",
            "building tree 90 of 200\n",
            "building tree 91 of 200\n",
            "building tree 92 of 200\n",
            "building tree 93 of 200\n",
            "building tree 94 of 200\n",
            "building tree 95 of 200\n",
            "building tree 96 of 200\n",
            "building tree 97 of 200\n",
            "building tree 98 of 200\n",
            "building tree 99 of 200\n",
            "building tree 100 of 200\n",
            "building tree 101 of 200\n",
            "building tree 102 of 200\n",
            "building tree 103 of 200\n",
            "building tree 104 of 200\n",
            "building tree 105 of 200\n",
            "building tree 106 of 200\n",
            "building tree 107 of 200\n",
            "building tree 108 of 200\n",
            "building tree 109 of 200\n",
            "building tree 110 of 200\n",
            "building tree 111 of 200\n",
            "building tree 112 of 200\n",
            "building tree 113 of 200\n",
            "building tree 114 of 200\n",
            "building tree 115 of 200\n",
            "building tree 116 of 200\n",
            "building tree 117 of 200\n",
            "building tree 118 of 200\n",
            "building tree 119 of 200\n",
            "building tree 120 of 200\n",
            "building tree 121 of 200\n",
            "building tree 122 of 200\n",
            "building tree 123 of 200\n",
            "building tree 124 of 200\n",
            "building tree 125 of 200\n",
            "building tree 126 of 200\n",
            "building tree 127 of 200\n",
            "building tree 128 of 200\n",
            "building tree 129 of 200\n",
            "building tree 130 of 200\n",
            "building tree 131 of 200\n",
            "building tree 132 of 200\n",
            "building tree 133 of 200\n",
            "building tree 134 of 200\n",
            "building tree 135 of 200\n",
            "building tree 136 of 200\n",
            "building tree 137 of 200\n",
            "building tree 138 of 200\n",
            "building tree 139 of 200\n",
            "building tree 140 of 200\n",
            "building tree 141 of 200\n",
            "building tree 142 of 200\n",
            "building tree 143 of 200\n",
            "building tree 144 of 200\n",
            "building tree 145 of 200\n",
            "building tree 146 of 200\n",
            "building tree 147 of 200\n",
            "building tree 148 of 200\n",
            "building tree 149 of 200\n",
            "building tree 150 of 200\n",
            "building tree 151 of 200\n",
            "building tree 152 of 200\n",
            "building tree 153 of 200\n",
            "building tree 154 of 200\n",
            "building tree 155 of 200\n",
            "building tree 156 of 200\n",
            "building tree 157 of 200\n",
            "building tree 158 of 200\n",
            "building tree 159 of 200\n",
            "building tree 160 of 200\n"
          ]
        },
        {
          "output_type": "stream",
          "name": "stderr",
          "text": [
            "[Parallel(n_jobs=-1)]: Done 158 tasks      | elapsed:   37.6s\n"
          ]
        },
        {
          "output_type": "stream",
          "name": "stdout",
          "text": [
            "building tree 161 of 200\n",
            "building tree 162 of 200\n",
            "building tree 163 of 200\n",
            "building tree 164 of 200\n",
            "building tree 165 of 200\n",
            "building tree 166 of 200\n",
            "building tree 167 of 200\n",
            "building tree 168 of 200\n",
            "building tree 169 of 200\n",
            "building tree 170 of 200\n",
            "building tree 171 of 200\n",
            "building tree 172 of 200\n",
            "building tree 173 of 200\n",
            "building tree 174 of 200\n",
            "building tree 175 of 200\n",
            "building tree 176 of 200\n",
            "building tree 177 of 200\n",
            "building tree 178 of 200\n",
            "building tree 179 of 200\n",
            "building tree 180 of 200\n",
            "building tree 181 of 200\n",
            "building tree 182 of 200\n",
            "building tree 183 of 200\n",
            "building tree 184 of 200\n",
            "building tree 185 of 200\n",
            "building tree 186 of 200\n",
            "building tree 187 of 200\n",
            "building tree 188 of 200\n",
            "building tree 189 of 200\n",
            "building tree 190 of 200\n",
            "building tree 191 of 200\n",
            "building tree 192 of 200\n",
            "building tree 193 of 200\n",
            "building tree 194 of 200\n",
            "building tree 195 of 200\n",
            "building tree 196 of 200\n",
            "building tree 197 of 200\n",
            "building tree 198 of 200\n",
            "building tree 199 of 200\n",
            "building tree 200 of 200\n"
          ]
        },
        {
          "output_type": "stream",
          "name": "stderr",
          "text": [
            "[Parallel(n_jobs=-1)]: Done 200 out of 200 | elapsed:   48.8s finished\n"
          ]
        },
        {
          "output_type": "stream",
          "name": "stdout",
          "text": [
            "Macro-F1: 0.455757\n",
            "Micro-F1: 0.544828\n",
            "\n",
            "\n",
            "\n",
            "\n",
            "\n",
            "Média da Macro-F1: 0.565432\n",
            "Média da Micro-F1: 0.483736\n",
            "Desvio padrão da Macro-F1: 0.025803\n"
          ]
        },
        {
          "output_type": "stream",
          "name": "stderr",
          "text": [
            "[Parallel(n_jobs=2)]: Using backend ThreadingBackend with 2 concurrent workers.\n",
            "[Parallel(n_jobs=2)]: Done  37 tasks      | elapsed:    0.0s\n",
            "[Parallel(n_jobs=2)]: Done 158 tasks      | elapsed:    0.1s\n",
            "[Parallel(n_jobs=2)]: Done 200 out of 200 | elapsed:    0.1s finished\n"
          ]
        }
      ]
    },
    {
      "cell_type": "markdown",
      "source": [
        "# Multinomial Naive Bayes"
      ],
      "metadata": {
        "id": "GNjLa6NWI2qS"
      }
    },
    {
      "cell_type": "code",
      "source": [
        "from sklearn.naive_bayes import MultinomialNB\n",
        "from sklearn.preprocessing import MinMaxScaler\n",
        "\n",
        "numKfolds = 5\n",
        "micros = []\n",
        "macros = []\n",
        "\n",
        "scaler = MinMaxScaler()\n",
        "\n",
        "kf = KFold(n_splits=numKfolds, shuffle=True, random_state=0)\n",
        "\n",
        "for train_index, test_index in kf.split(df[\"x\"]):\n",
        "    xTreino, xTeste = df[\"x\"].iloc[train_index], df[\"x\"].iloc[test_index]\n",
        "    yRealTreino, yRealTeste = df[\"y\"].iloc[train_index], df[\"y\"].iloc[test_index]\n",
        "\n",
        "    xTreino = prepararInputTreinamento(xTreino)\n",
        "    xTeste = prepararInputTeste(xTeste)\n",
        "\n",
        "    xTreino = scaler.fit_transform(xTreino)\n",
        "    xTeste = scaler.transform(xTeste)\n",
        "\n",
        "    multinomialNB = MultinomialNB()\n",
        "    multinomialNB.fit(xTreino, yRealTreino)\n",
        "\n",
        "    pred = multinomialNB.predict(xTeste)\n",
        "\n",
        "    print (\"Macro-F1: %f\" % f1_score(yRealTeste, pred, average='macro'))\n",
        "    macros.append(f1_score(yRealTeste, pred, average='macro'))\n",
        "    print (\"Micro-F1: %f\" % f1_score(yRealTeste, pred, average='micro'))\n",
        "    micros.append(f1_score(yRealTeste, pred, average='micro'))\n",
        "    print('\\n')\n",
        "\n",
        "\n",
        "macro_f1 = np.mean(micros)\n",
        "micro_f1 = np.mean(macros)\n",
        "std_f1 = np.std(macros)\n",
        "\n",
        "print('\\n\\n')\n",
        "print(f'Média da Macro-F1: {macro_f1:.6f}')\n",
        "print(f'Média da Micro-F1: {micro_f1:.6f}')\n",
        "print(f'Desvio padrão da Macro-F1: {std_f1:.6f}')"
      ],
      "metadata": {
        "colab": {
          "base_uri": "https://localhost:8080/"
        },
        "id": "1jbzR85kI6AM",
        "outputId": "065adc45-17b5-46f8-b199-c85b9a53c9c9"
      },
      "execution_count": 66,
      "outputs": [
        {
          "output_type": "stream",
          "name": "stdout",
          "text": [
            "Macro-F1: 0.408062\n",
            "Micro-F1: 0.436426\n",
            "\n",
            "\n",
            "Macro-F1: 0.413997\n",
            "Micro-F1: 0.446735\n",
            "\n",
            "\n",
            "Macro-F1: 0.383003\n",
            "Micro-F1: 0.400000\n",
            "\n",
            "\n",
            "Macro-F1: 0.405522\n",
            "Micro-F1: 0.434483\n",
            "\n",
            "\n",
            "Macro-F1: 0.401663\n",
            "Micro-F1: 0.427586\n",
            "\n",
            "\n",
            "\n",
            "\n",
            "\n",
            "Média da Macro-F1: 0.429046\n",
            "Média da Micro-F1: 0.402449\n",
            "Desvio padrão da Macro-F1: 0.010517\n"
          ]
        }
      ]
    },
    {
      "cell_type": "markdown",
      "source": [
        "# KNN"
      ],
      "metadata": {
        "id": "UqQyRtxwOQQI"
      }
    },
    {
      "cell_type": "code",
      "source": [
        "from sklearn.neighbors import KNeighborsClassifier\n",
        "\n",
        "from sklearn.ensemble import RandomForestClassifier\n",
        "\n",
        "numKfolds = 5\n",
        "micros = []\n",
        "macros = []\n",
        "\n",
        "kf = KFold(n_splits=numKfolds, shuffle=True, random_state=0)\n",
        "\n",
        "for train_index, test_index in kf.split(df[\"x\"]):\n",
        "    xTreino, xTeste = df[\"x\"].iloc[train_index], df[\"x\"].iloc[test_index]\n",
        "    yRealTreino, yRealTeste = df[\"y\"].iloc[train_index], df[\"y\"].iloc[test_index]\n",
        "\n",
        "    xTreino = prepararInputTreinamento(xTreino)\n",
        "    xTeste = prepararInputTeste(xTeste)\n",
        "\n",
        "    knn = KNeighborsClassifier(n_neighbors=30)\n",
        "    knn.fit(xTreino, yRealTreino)\n",
        "\n",
        "    pred = knn.predict(xTeste)\n",
        "\n",
        "    print (\"Macro-F1: %f\" % f1_score(yRealTeste, pred, average='macro'))\n",
        "    macros.append(f1_score(yRealTeste, pred, average='macro'))\n",
        "    print (\"Micro-F1: %f\" % f1_score(yRealTeste, pred, average='micro'))\n",
        "    micros.append(f1_score(yRealTeste, pred, average='micro'))\n",
        "    print('\\n')\n",
        "\n",
        "\n",
        "macro_f1 = np.mean(micros)\n",
        "micro_f1 = np.mean(macros)\n",
        "std_f1 = np.std(macros)\n",
        "\n",
        "print('\\n\\n')\n",
        "print(f'Média da Macro-F1: {macro_f1:.6f}')\n",
        "print(f'Média da Micro-F1: {micro_f1:.6f}')\n",
        "print(f'Desvio padrão da Macro-F1: {std_f1:.6f}')"
      ],
      "metadata": {
        "colab": {
          "base_uri": "https://localhost:8080/"
        },
        "id": "7Uhv9lFBOR2Z",
        "outputId": "cd246fdf-5495-426c-ab9b-10ca670c91a9"
      },
      "execution_count": 67,
      "outputs": [
        {
          "output_type": "stream",
          "name": "stdout",
          "text": [
            "Macro-F1: 0.335888\n",
            "Micro-F1: 0.446735\n",
            "\n",
            "\n",
            "Macro-F1: 0.352831\n",
            "Micro-F1: 0.477663\n",
            "\n",
            "\n",
            "Macro-F1: 0.309142\n",
            "Micro-F1: 0.427586\n",
            "\n",
            "\n",
            "Macro-F1: 0.376924\n",
            "Micro-F1: 0.510345\n",
            "\n",
            "\n",
            "Macro-F1: 0.323205\n",
            "Micro-F1: 0.448276\n",
            "\n",
            "\n",
            "\n",
            "\n",
            "\n",
            "Média da Macro-F1: 0.462121\n",
            "Média da Micro-F1: 0.339598\n",
            "Desvio padrão da Macro-F1: 0.023573\n"
          ]
        }
      ]
    },
    {
      "cell_type": "markdown",
      "source": [
        "# SVM"
      ],
      "metadata": {
        "id": "OtU2Ekx5OTST"
      }
    },
    {
      "cell_type": "code",
      "source": [
        "from sklearn.svm import LinearSVC\n",
        "\n",
        "from sklearn.ensemble import RandomForestClassifier\n",
        "\n",
        "numKfolds = 5\n",
        "micros = []\n",
        "macros = []\n",
        "\n",
        "kf = KFold(n_splits=numKfolds, shuffle=True, random_state=0)\n",
        "\n",
        "for train_index, test_index in kf.split(df[\"x\"]):\n",
        "    xTreino, xTeste = df[\"x\"].iloc[train_index], df[\"x\"].iloc[test_index]\n",
        "    yRealTreino, yRealTeste = df[\"y\"].iloc[train_index], df[\"y\"].iloc[test_index]\n",
        "\n",
        "    xTreino = prepararInputTreinamento(xTreino)\n",
        "    xTeste = prepararInputTeste(xTeste)\n",
        "\n",
        "    svm = LinearSVC(C=1)\n",
        "    svm.fit(xTreino, yRealTreino)\n",
        "\n",
        "    pred = svm.predict(xTeste)\n",
        "\n",
        "    print (\"Macro-F1: %f\" % f1_score(yRealTeste, pred, average='macro'))\n",
        "    macros.append(f1_score(yRealTeste, pred, average='macro'))\n",
        "    print (\"Micro-F1: %f\" % f1_score(yRealTeste, pred, average='micro'))\n",
        "    micros.append(f1_score(yRealTeste, pred, average='micro'))\n",
        "    print('\\n')\n",
        "\n",
        "\n",
        "macro_f1 = np.mean(micros)\n",
        "micro_f1 = np.mean(macros)\n",
        "std_f1 = np.std(macros)\n",
        "\n",
        "print('\\n\\n')\n",
        "print(f'Média da Macro-F1: {macro_f1:.6f}')\n",
        "print(f'Média da Micro-F1: {micro_f1:.6f}')\n",
        "print(f'Desvio padrão da Macro-F1: {std_f1:.6f}')"
      ],
      "metadata": {
        "colab": {
          "base_uri": "https://localhost:8080/"
        },
        "id": "2hgOWJvpOVvd",
        "outputId": "1162f1fa-4501-41d4-f942-c7561dcf0f69"
      },
      "execution_count": 68,
      "outputs": [
        {
          "output_type": "stream",
          "name": "stderr",
          "text": [
            "/usr/local/lib/python3.10/dist-packages/sklearn/svm/_base.py:1244: ConvergenceWarning: Liblinear failed to converge, increase the number of iterations.\n",
            "  warnings.warn(\n"
          ]
        },
        {
          "output_type": "stream",
          "name": "stdout",
          "text": [
            "Macro-F1: 0.502199\n",
            "Micro-F1: 0.529210\n",
            "\n",
            "\n"
          ]
        },
        {
          "output_type": "stream",
          "name": "stderr",
          "text": [
            "/usr/local/lib/python3.10/dist-packages/sklearn/svm/_base.py:1244: ConvergenceWarning: Liblinear failed to converge, increase the number of iterations.\n",
            "  warnings.warn(\n"
          ]
        },
        {
          "output_type": "stream",
          "name": "stdout",
          "text": [
            "Macro-F1: 0.481935\n",
            "Micro-F1: 0.505155\n",
            "\n",
            "\n"
          ]
        },
        {
          "output_type": "stream",
          "name": "stderr",
          "text": [
            "/usr/local/lib/python3.10/dist-packages/sklearn/svm/_base.py:1244: ConvergenceWarning: Liblinear failed to converge, increase the number of iterations.\n",
            "  warnings.warn(\n"
          ]
        },
        {
          "output_type": "stream",
          "name": "stdout",
          "text": [
            "Macro-F1: 0.470862\n",
            "Micro-F1: 0.506897\n",
            "\n",
            "\n"
          ]
        },
        {
          "output_type": "stream",
          "name": "stderr",
          "text": [
            "/usr/local/lib/python3.10/dist-packages/sklearn/svm/_base.py:1244: ConvergenceWarning: Liblinear failed to converge, increase the number of iterations.\n",
            "  warnings.warn(\n"
          ]
        },
        {
          "output_type": "stream",
          "name": "stdout",
          "text": [
            "Macro-F1: 0.497776\n",
            "Micro-F1: 0.524138\n",
            "\n",
            "\n",
            "Macro-F1: 0.474356\n",
            "Micro-F1: 0.510345\n",
            "\n",
            "\n",
            "\n",
            "\n",
            "\n",
            "Média da Macro-F1: 0.515149\n",
            "Média da Micro-F1: 0.485426\n",
            "Desvio padrão da Macro-F1: 0.012496\n"
          ]
        },
        {
          "output_type": "stream",
          "name": "stderr",
          "text": [
            "/usr/local/lib/python3.10/dist-packages/sklearn/svm/_base.py:1244: ConvergenceWarning: Liblinear failed to converge, increase the number of iterations.\n",
            "  warnings.warn(\n"
          ]
        }
      ]
    }
  ],
  "metadata": {
    "interpreter": {
      "hash": "fb2241dd84d24fce0f6d13cd3007375d8775345fba65719499b77c7a197c874f"
    },
    "kernelspec": {
      "display_name": "Python 3",
      "name": "python3"
    },
    "language_info": {
      "codemirror_mode": {
        "name": "ipython",
        "version": 3
      },
      "file_extension": ".py",
      "mimetype": "text/x-python",
      "name": "python",
      "nbconvert_exporter": "python",
      "pygments_lexer": "ipython3",
      "version": "3.8.10"
    },
    "colab": {
      "provenance": [],
      "gpuType": "T4"
    },
    "accelerator": "GPU"
  },
  "nbformat": 4,
  "nbformat_minor": 0
}